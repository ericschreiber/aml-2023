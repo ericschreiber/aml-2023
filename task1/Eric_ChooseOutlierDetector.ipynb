{
 "cells": [
  {
   "cell_type": "code",
   "execution_count": 2,
   "metadata": {},
   "outputs": [],
   "source": [
    "import pandas as pd\n",
    "from sklearn.pipeline import Pipeline\n",
    "from sklearn.preprocessing import StandardScaler\n",
    "from sklearn.experimental import enable_iterative_imputer\n",
    "from sklearn.impute import IterativeImputer\n",
    "from sklearn.feature_selection import SelectKBest, f_regression"
   ]
  },
  {
   "cell_type": "code",
   "execution_count": 3,
   "metadata": {},
   "outputs": [],
   "source": [
    "X_train = pd.read_csv(\"data/X_train.csv\", index_col=\"id\")\n",
    "y_train = pd.read_csv(\"data/y_train.csv\", index_col=\"id\").to_numpy().ravel()"
   ]
  },
  {
   "cell_type": "code",
   "execution_count": 4,
   "metadata": {},
   "outputs": [],
   "source": [
    "# ! pip install pyod"
   ]
  },
  {
   "cell_type": "code",
   "execution_count": 5,
   "metadata": {},
   "outputs": [],
   "source": [
    "pre_od_pipeline = Pipeline(\n",
    "    [\n",
    "        (\"imputer\", IterativeImputer(initial_strategy=\"median\", n_nearest_features=5)),\n",
    "        (\"scaler\", StandardScaler()),\n",
    "        (\"selector\", SelectKBest(score_func=f_regression, k=175)),\n",
    "    ]\n",
    ")\n",
    "\n",
    "X_train_pre_od = pre_od_pipeline.fit_transform(X_train, y_train)"
   ]
  },
  {
   "cell_type": "markdown",
   "metadata": {},
   "source": [
    "# Try ECOD"
   ]
  },
  {
   "cell_type": "code",
   "execution_count": 6,
   "metadata": {},
   "outputs": [
    {
     "name": "stdout",
     "output_type": "stream",
     "text": [
      "Number of 0 in y_train_pred:  1090\n",
      "Number of 1 in y_train_pred:  122\n"
     ]
    }
   ],
   "source": [
    "from pyod.models.ecod import ECOD\n",
    "\n",
    "ecod_detector = ECOD()\n",
    "ecod_detector.fit(X_train_pre_od)\n",
    "\n",
    "# get outlier scores\n",
    "y_train_scores = ecod_detector.decision_scores_  # raw outlier scores on the train data\n",
    "y_train_pred_ecod = ecod_detector.labels_\n",
    "# y_test_scores = ecod_detector.decision_function(X_test)  # predict raw outlier scores on test\n",
    "\n",
    "# how many 0 and 1 in y_train_pred\n",
    "print(\"Number of 0 in y_train_pred: \", len(y_train_pred_ecod[y_train_pred_ecod == 0]))\n",
    "print(\"Number of 1 in y_train_pred: \", len(y_train_pred_ecod[y_train_pred_ecod == 1]))"
   ]
  },
  {
   "cell_type": "markdown",
   "metadata": {},
   "source": [
    "# Try IForest"
   ]
  },
  {
   "cell_type": "code",
   "execution_count": 7,
   "metadata": {},
   "outputs": [
    {
     "name": "stdout",
     "output_type": "stream",
     "text": [
      "Number of 0 in y_train_pred:  1090\n",
      "Number of 1 in y_train_pred:  122\n"
     ]
    }
   ],
   "source": [
    "from pyod.models.iforest import IForest\n",
    "\n",
    "iforest_detector = IForest()\n",
    "iforest_detector.fit(X_train_pre_od)\n",
    "y_train_pred_iforest = iforest_detector.labels_\n",
    "\n",
    "print(\n",
    "    \"Number of 0 in y_train_pred: \",\n",
    "    len(y_train_pred_iforest[y_train_pred_iforest == 0]),\n",
    ")\n",
    "print(\n",
    "    \"Number of 1 in y_train_pred: \",\n",
    "    len(y_train_pred_iforest[y_train_pred_iforest == 1]),\n",
    ")"
   ]
  },
  {
   "cell_type": "markdown",
   "metadata": {},
   "source": [
    "# Try LOF local outlier factor"
   ]
  },
  {
   "cell_type": "code",
   "execution_count": 8,
   "metadata": {},
   "outputs": [
    {
     "name": "stdout",
     "output_type": "stream",
     "text": [
      "Number of 0 in y_train_pred:  1090\n",
      "Number of 1 in y_train_pred:  122\n"
     ]
    }
   ],
   "source": [
    "from pyod.models.lof import LOF\n",
    "\n",
    "lof_detector = LOF()\n",
    "lof_detector.fit(X_train_pre_od)\n",
    "y_train_pred_lof = lof_detector.labels_\n",
    "\n",
    "print(\"Number of 0 in y_train_pred: \", len(y_train_pred_lof[y_train_pred_lof == 0]))\n",
    "print(\"Number of 1 in y_train_pred: \", len(y_train_pred_lof[y_train_pred_lof == 1]))"
   ]
  },
  {
   "cell_type": "markdown",
   "metadata": {},
   "source": [
    "# Try OCSVM"
   ]
  },
  {
   "cell_type": "code",
   "execution_count": 43,
   "metadata": {},
   "outputs": [
    {
     "name": "stdout",
     "output_type": "stream",
     "text": [
      "Number of 0 in y_train_pred:  1090\n",
      "Number of 1 in y_train_pred:  122\n"
     ]
    }
   ],
   "source": [
    "# OneClassSVM\n",
    "from pyod.models.ocsvm import OCSVM\n",
    "\n",
    "ocsvm_detector = OCSVM()\n",
    "ocsvm_detector.fit(X_train_pre_od)\n",
    "y_train_pred_ocsvm = ocsvm_detector.labels_\n",
    "\n",
    "print(\"Number of 0 in y_train_pred: \", len(y_train_pred_ocsvm[y_train_pred_ocsvm == 0]))\n",
    "print(\"Number of 1 in y_train_pred: \", len(y_train_pred_ocsvm[y_train_pred_ocsvm == 1]))"
   ]
  },
  {
   "cell_type": "markdown",
   "metadata": {},
   "source": [
    "# Try KNN"
   ]
  },
  {
   "cell_type": "code",
   "execution_count": 49,
   "metadata": {},
   "outputs": [
    {
     "name": "stdout",
     "output_type": "stream",
     "text": [
      "Number of 0 in y_train_pred:  1090\n",
      "Number of 1 in y_train_pred:  122\n"
     ]
    }
   ],
   "source": [
    "from pyod.models.knn import KNN\n",
    "\n",
    "knn_detector = KNN()\n",
    "knn_detector.fit(X_train_pre_od)\n",
    "y_train_pred_knn = knn_detector.labels_\n",
    "\n",
    "print(\"Number of 0 in y_train_pred: \", len(y_train_pred_knn[y_train_pred_knn == 0]))\n",
    "print(\"Number of 1 in y_train_pred: \", len(y_train_pred_knn[y_train_pred_knn == 1]))"
   ]
  },
  {
   "cell_type": "markdown",
   "metadata": {},
   "source": [
    "# Try eliptic envelope\n"
   ]
  },
  {
   "cell_type": "code",
   "execution_count": 11,
   "metadata": {},
   "outputs": [],
   "source": [
    "# from sklearn.covariance import EllipticEnvelope\n",
    "\n",
    "# ee_detector = EllipticEnvelope(support_fraction=0.9, contamination=0.2)\n",
    "# ee_detector.fit(X_train_pre_od)\n",
    "# y_train_pred_ee = ee_detector.predict(X_train_pre_od)\n",
    "\n",
    "# print(\"Number of 0 in y_train_pred: \", len(y_train_pred_ee[y_train_pred_ee == 0]))\n",
    "# print(\"Number of 1 in y_train_pred: \", len(y_train_pred_ee[y_train_pred_ee == 1]))"
   ]
  },
  {
   "cell_type": "markdown",
   "metadata": {},
   "source": [
    "# Try Minimum Covariance Determinant\n"
   ]
  },
  {
   "cell_type": "code",
   "execution_count": 12,
   "metadata": {},
   "outputs": [
    {
     "name": "stdout",
     "output_type": "stream",
     "text": [
      "Number of 0 in y_train_pred:  1090\n",
      "Number of 1 in y_train_pred:  122\n"
     ]
    }
   ],
   "source": [
    "# Minimum Covariance Determinant\n",
    "from pyod.models.mcd import MCD\n",
    "\n",
    "mcd_detector = MCD(support_fraction=0.9, contamination=0.1)\n",
    "mcd_detector.fit(X_train_pre_od)\n",
    "y_train_pred_mcd = mcd_detector.labels_\n",
    "\n",
    "print(\"Number of 0 in y_train_pred: \", len(y_train_pred_mcd[y_train_pred_mcd == 0]))\n",
    "print(\"Number of 1 in y_train_pred: \", len(y_train_pred_mcd[y_train_pred_mcd == 1]))"
   ]
  },
  {
   "cell_type": "markdown",
   "metadata": {},
   "source": [
    "# Try Z-Score"
   ]
  },
  {
   "cell_type": "code",
   "execution_count": 13,
   "metadata": {},
   "outputs": [
    {
     "name": "stdout",
     "output_type": "stream",
     "text": [
      "Number of 0 in y_train_pred:  1110\n",
      "Number of 1 in y_train_pred:  102\n"
     ]
    }
   ],
   "source": [
    "# Z-Score with a threshold of 2.5\n",
    "from scipy import stats\n",
    "\n",
    "threshold = 99\n",
    "z_scores = stats.zscore(X_train_pre_od)\n",
    "# combine the 200 features with z-scores to a single z-score for each sample\n",
    "z_scores = z_scores.sum(axis=1)\n",
    "y_train_pred_zscore = z_scores > threshold\n",
    "\n",
    "print(\n",
    "    \"Number of 0 in y_train_pred: \", len(y_train_pred_zscore[y_train_pred_zscore == 0])\n",
    ")\n",
    "print(\n",
    "    \"Number of 1 in y_train_pred: \", len(y_train_pred_zscore[y_train_pred_zscore == 1])\n",
    ")"
   ]
  },
  {
   "cell_type": "markdown",
   "metadata": {},
   "source": [
    "# Try DBSCAN"
   ]
  },
  {
   "cell_type": "code",
   "execution_count": 14,
   "metadata": {},
   "outputs": [
    {
     "name": "stdout",
     "output_type": "stream",
     "text": [
      "Number of 0 in y_train_pred:  1111\n",
      "Number of 1 in y_train_pred:  101\n"
     ]
    }
   ],
   "source": [
    "# DBSCAN\n",
    "from sklearn.cluster import DBSCAN\n",
    "\n",
    "dbscan_detector = DBSCAN(\n",
    "    eps=11.5,\n",
    "    min_samples=5,\n",
    "    algorithm=\"ball_tree\",\n",
    "    metric=\"minkowski\",\n",
    "    leaf_size=30,\n",
    "    p=2,\n",
    ")\n",
    "y_train_pred_dbscan = dbscan_detector.fit_predict(X_train_pre_od)\n",
    "\n",
    "# map everything that is not -1 to 0 and -1 to 1\n",
    "y_train_pred_dbscan[y_train_pred_dbscan != -1] = 0\n",
    "y_train_pred_dbscan[y_train_pred_dbscan == -1] = 1\n",
    "\n",
    "print(\n",
    "    \"Number of 0 in y_train_pred: \", len(y_train_pred_dbscan[y_train_pred_dbscan == 0])\n",
    ")\n",
    "print(\n",
    "    \"Number of 1 in y_train_pred: \", len(y_train_pred_dbscan[y_train_pred_dbscan == 1])\n",
    ")"
   ]
  },
  {
   "cell_type": "markdown",
   "metadata": {},
   "source": [
    "# Try Coreset"
   ]
  },
  {
   "cell_type": "code",
   "execution_count": 15,
   "metadata": {},
   "outputs": [],
   "source": [
    "# !pip install dataheroes"
   ]
  },
  {
   "cell_type": "code",
   "execution_count": 16,
   "metadata": {},
   "outputs": [
    {
     "name": "stdout",
     "output_type": "stream",
     "text": [
      "Number of 0 in y_train_pred:  1089\n",
      "Number of 1 in y_train_pred:  123\n"
     ]
    }
   ],
   "source": [
    "import numpy as np\n",
    "from dataheroes import CoresetTreeServiceDTC\n",
    "\n",
    "coreset_tree = CoresetTreeServiceDTC(optimized_for=\"cleaning\", n_instances=1212)\n",
    "coreset_tree = coreset_tree.build(X=X_train_pre_od, y=y_train)\n",
    "result = coreset_tree.get_cleaning_samples(1090)\n",
    "# set the indices to 1 if the index is not in result[\"idx\"]\n",
    "y_train_pred_coreset = np.ones(len(y_train))\n",
    "y_train_pred_coreset[result[\"idx\"]] = 0\n",
    "\n",
    "print(\n",
    "    \"Number of 0 in y_train_pred: \",\n",
    "    len(y_train_pred_coreset[y_train_pred_coreset == 0]),\n",
    ")\n",
    "print(\n",
    "    \"Number of 1 in y_train_pred: \",\n",
    "    len(y_train_pred_coreset[y_train_pred_coreset == 1]),\n",
    ")"
   ]
  },
  {
   "cell_type": "markdown",
   "metadata": {},
   "source": [
    "# Make Plots"
   ]
  },
  {
   "cell_type": "code",
   "execution_count": 17,
   "metadata": {},
   "outputs": [
    {
     "data": {
      "text/plain": [
       "<BarContainer object of 10 artists>"
      ]
     },
     "execution_count": 17,
     "metadata": {},
     "output_type": "execute_result"
    },
    {
     "data": {
      "image/png": "[encoded data removed]",
      "text/plain": [
       "<Figure size 2000x1000 with 1 Axes>"
      ]
     },
     "metadata": {},
     "output_type": "display_data"
    }
   ],
   "source": [
    "import matplotlib.pyplot as plt\n",
    "\n",
    "all_models_outliers = (\n",
    "    y_train_pred_ecod\n",
    "    * y_train_pred_iforest\n",
    "    * y_train_pred_lof\n",
    "    * y_train_pred_ocsvm\n",
    "    * y_train_pred_knn\n",
    "    * y_train_pred_mcd\n",
    "    * y_train_pred_zscore\n",
    "    * y_train_pred_dbscan\n",
    "    * y_train_pred_coreset\n",
    ")\n",
    "\n",
    "ecod_only_outliers = (\n",
    "    y_train_pred_ecod\n",
    "    * (1 - y_train_pred_iforest)\n",
    "    * (1 - y_train_pred_lof)\n",
    "    * (1 - y_train_pred_ocsvm)\n",
    "    * (1 - y_train_pred_knn)\n",
    "    * (1 - y_train_pred_mcd)\n",
    "    * (1 - y_train_pred_zscore)\n",
    "    * (1 - y_train_pred_dbscan)\n",
    "    * (1 - y_train_pred_coreset)\n",
    ")\n",
    "iforest_detector = (\n",
    "    y_train_pred_iforest\n",
    "    * (1 - y_train_pred_ecod)\n",
    "    * (1 - y_train_pred_lof)\n",
    "    * (1 - y_train_pred_ocsvm)\n",
    "    * (1 - y_train_pred_knn)\n",
    "    * (1 - y_train_pred_mcd)\n",
    "    * (1 - y_train_pred_zscore)\n",
    "    * (1 - y_train_pred_dbscan)\n",
    "    * (1 - y_train_pred_coreset)\n",
    ")\n",
    "lof_detector = (\n",
    "    y_train_pred_lof\n",
    "    * (1 - y_train_pred_ecod)\n",
    "    * (1 - y_train_pred_iforest)\n",
    "    * (1 - y_train_pred_ocsvm)\n",
    "    * (1 - y_train_pred_knn)\n",
    "    * (1 - y_train_pred_mcd)\n",
    "    * (1 - y_train_pred_zscore)\n",
    "    * (1 - y_train_pred_dbscan)\n",
    "    * (1 - y_train_pred_coreset)\n",
    ")\n",
    "ocsvm_detector = (\n",
    "    y_train_pred_ocsvm\n",
    "    * (1 - y_train_pred_ecod)\n",
    "    * (1 - y_train_pred_iforest)\n",
    "    * (1 - y_train_pred_lof)\n",
    "    * (1 - y_train_pred_knn)\n",
    "    * (1 - y_train_pred_mcd)\n",
    "    * (1 - y_train_pred_zscore)\n",
    "    * (1 - y_train_pred_dbscan)\n",
    "    * (1 - y_train_pred_coreset)\n",
    ")\n",
    "knn_detector = (\n",
    "    y_train_pred_knn\n",
    "    * (1 - y_train_pred_ecod)\n",
    "    * (1 - y_train_pred_iforest)\n",
    "    * (1 - y_train_pred_lof)\n",
    "    * (1 - y_train_pred_ocsvm)\n",
    "    * (1 - y_train_pred_mcd)\n",
    "    * (1 - y_train_pred_zscore)\n",
    "    * (1 - y_train_pred_dbscan)\n",
    "    * (1 - y_train_pred_coreset)\n",
    ")\n",
    "mcd_detector = (\n",
    "    y_train_pred_mcd\n",
    "    * (1 - y_train_pred_ecod)\n",
    "    * (1 - y_train_pred_iforest)\n",
    "    * (1 - y_train_pred_lof)\n",
    "    * (1 - y_train_pred_ocsvm)\n",
    "    * (1 - y_train_pred_knn)\n",
    "    * (1 - y_train_pred_zscore)\n",
    "    * (1 - y_train_pred_dbscan)\n",
    "    * (1 - y_train_pred_coreset)\n",
    ")\n",
    "zscore_detector = (\n",
    "    y_train_pred_zscore\n",
    "    * (1 - y_train_pred_ecod)\n",
    "    * (1 - y_train_pred_iforest)\n",
    "    * (1 - y_train_pred_lof)\n",
    "    * (1 - y_train_pred_ocsvm)\n",
    "    * (1 - y_train_pred_knn)\n",
    "    * (1 - y_train_pred_mcd)\n",
    "    * (1 - y_train_pred_dbscan)\n",
    "    * (1 - y_train_pred_coreset)\n",
    ")\n",
    "dbscan_detector = (\n",
    "    y_train_pred_dbscan\n",
    "    * (1 - y_train_pred_ecod)\n",
    "    * (1 - y_train_pred_iforest)\n",
    "    * (1 - y_train_pred_lof)\n",
    "    * (1 - y_train_pred_ocsvm)\n",
    "    * (1 - y_train_pred_knn)\n",
    "    * (1 - y_train_pred_mcd)\n",
    "    * (1 - y_train_pred_zscore)\n",
    "    * (1 - y_train_pred_coreset)\n",
    ")\n",
    "coreset_detector = (\n",
    "    y_train_pred_coreset\n",
    "    * (1 - y_train_pred_ecod)\n",
    "    * (1 - y_train_pred_iforest)\n",
    "    * (1 - y_train_pred_lof)\n",
    "    * (1 - y_train_pred_ocsvm)\n",
    "    * (1 - y_train_pred_knn)\n",
    "    * (1 - y_train_pred_mcd)\n",
    "    * (1 - y_train_pred_zscore)\n",
    "    * (1 - y_train_pred_dbscan)\n",
    ")\n",
    "\n",
    "plt.figure(figsize=(20, 10))\n",
    "plt.bar(\n",
    "    [\n",
    "        \"all models\",\n",
    "        \"ecod\",\n",
    "        \"iforest\",\n",
    "        \"lof\",\n",
    "        \"ocsvm\",\n",
    "        \"knn\",\n",
    "        \"mcd\",\n",
    "        \"zscore\",\n",
    "        \"dbscan\",\n",
    "        \"coreset\",\n",
    "    ],\n",
    "    [\n",
    "        len(all_models_outliers[all_models_outliers == 1]),\n",
    "        len(ecod_only_outliers[ecod_only_outliers == 1]),\n",
    "        len(iforest_detector[iforest_detector == 1]),\n",
    "        len(lof_detector[lof_detector == 1]),\n",
    "        len(ocsvm_detector[ocsvm_detector == 1]),\n",
    "        len(knn_detector[knn_detector == 1]),\n",
    "        len(mcd_detector[mcd_detector == 1]),\n",
    "        len(zscore_detector[zscore_detector == 1]),\n",
    "        len(dbscan_detector[dbscan_detector == 1]),\n",
    "        len(coreset_detector[coreset_detector == 1]),\n",
    "    ],\n",
    ")"
   ]
  },
  {
   "cell_type": "markdown",
   "metadata": {},
   "source": [
    "# Discard the worst ones"
   ]
  },
  {
   "cell_type": "code",
   "execution_count": 18,
   "metadata": {},
   "outputs": [
    {
     "data": {
      "text/plain": [
       "<BarContainer object of 7 artists>"
      ]
     },
     "execution_count": 18,
     "metadata": {},
     "output_type": "execute_result"
    },
    {
     "data": {
      "image/png": "[encoded data removed]",
      "text/plain": [
       "<Figure size 2000x1000 with 1 Axes>"
      ]
     },
     "metadata": {},
     "output_type": "display_data"
    }
   ],
   "source": [
    "import matplotlib.pyplot as plt\n",
    "\n",
    "all_models_outliers = (\n",
    "    y_train_pred_ecod\n",
    "    * y_train_pred_iforest\n",
    "    * y_train_pred_lof\n",
    "    * y_train_pred_ocsvm\n",
    "    * y_train_pred_knn\n",
    "    * y_train_pred_mcd\n",
    "    * y_train_pred_zscore\n",
    "    * y_train_pred_dbscan\n",
    "    * y_train_pred_coreset\n",
    ")\n",
    "\n",
    "ecod_only_outliers = (\n",
    "    y_train_pred_ecod\n",
    "    * (1 - y_train_pred_iforest)\n",
    "    * (1 - y_train_pred_lof)\n",
    "    * (1 - y_train_pred_ocsvm)\n",
    "    * (1 - y_train_pred_knn)\n",
    "    * (1 - y_train_pred_mcd)\n",
    "    * (1 - y_train_pred_zscore)\n",
    "    * (1 - y_train_pred_dbscan)\n",
    "    * (1 - y_train_pred_coreset)\n",
    ")\n",
    "iforest_detector = (\n",
    "    y_train_pred_iforest\n",
    "    * (1 - y_train_pred_ecod)\n",
    "    * (1 - y_train_pred_lof)\n",
    "    * (1 - y_train_pred_ocsvm)\n",
    "    * (1 - y_train_pred_knn)\n",
    "    * (1 - y_train_pred_mcd)\n",
    "    * (1 - y_train_pred_zscore)\n",
    "    * (1 - y_train_pred_dbscan)\n",
    "    * (1 - y_train_pred_coreset)\n",
    ")\n",
    "lof_detector = (\n",
    "    y_train_pred_lof\n",
    "    * (1 - y_train_pred_ecod)\n",
    "    * (1 - y_train_pred_iforest)\n",
    "    * (1 - y_train_pred_ocsvm)\n",
    "    * (1 - y_train_pred_knn)\n",
    "    * (1 - y_train_pred_mcd)\n",
    "    * (1 - y_train_pred_zscore)\n",
    "    * (1 - y_train_pred_dbscan)\n",
    "    * (1 - y_train_pred_coreset)\n",
    ")\n",
    "ocsvm_detector = (\n",
    "    y_train_pred_ocsvm\n",
    "    * (1 - y_train_pred_ecod)\n",
    "    * (1 - y_train_pred_iforest)\n",
    "    * (1 - y_train_pred_lof)\n",
    "    * (1 - y_train_pred_knn)\n",
    "    * (1 - y_train_pred_mcd)\n",
    "    * (1 - y_train_pred_zscore)\n",
    "    * (1 - y_train_pred_dbscan)\n",
    "    * (1 - y_train_pred_coreset)\n",
    ")\n",
    "knn_detector = (\n",
    "    y_train_pred_knn\n",
    "    * (1 - y_train_pred_ecod)\n",
    "    * (1 - y_train_pred_iforest)\n",
    "    * (1 - y_train_pred_lof)\n",
    "    * (1 - y_train_pred_ocsvm)\n",
    "    * (1 - y_train_pred_mcd)\n",
    "    * (1 - y_train_pred_zscore)\n",
    "    * (1 - y_train_pred_dbscan)\n",
    "    * (1 - y_train_pred_coreset)\n",
    ")\n",
    "dbscan_detector = (\n",
    "    y_train_pred_dbscan\n",
    "    * (1 - y_train_pred_ecod)\n",
    "    * (1 - y_train_pred_iforest)\n",
    "    * (1 - y_train_pred_lof)\n",
    "    * (1 - y_train_pred_ocsvm)\n",
    "    * (1 - y_train_pred_knn)\n",
    "    * (1 - y_train_pred_mcd)\n",
    "    * (1 - y_train_pred_zscore)\n",
    "    * (1 - y_train_pred_coreset)\n",
    ")\n",
    "\n",
    "plt.figure(figsize=(20, 10))\n",
    "plt.bar(\n",
    "    [\n",
    "        \"all models\",\n",
    "        \"ecod\",\n",
    "        \"iforest\",\n",
    "        \"lof\",\n",
    "        \"ocsvm\",\n",
    "        \"knn\",\n",
    "        \"dbscan\",\n",
    "    ],\n",
    "    [\n",
    "        len(all_models_outliers[all_models_outliers == 1]),\n",
    "        len(ecod_only_outliers[ecod_only_outliers == 1]),\n",
    "        len(iforest_detector[iforest_detector == 1]),\n",
    "        len(lof_detector[lof_detector == 1]),\n",
    "        len(ocsvm_detector[ocsvm_detector == 1]),\n",
    "        len(knn_detector[knn_detector == 1]),\n",
    "        len(dbscan_detector[dbscan_detector == 1]),\n",
    "    ],\n",
    ")"
   ]
  },
  {
   "cell_type": "markdown",
   "metadata": {},
   "source": [
    "# Plot the best 3 ones on similarity"
   ]
  },
  {
   "cell_type": "code",
   "execution_count": 19,
   "metadata": {},
   "outputs": [
    {
     "data": {
      "text/plain": [
       "<BarContainer object of 7 artists>"
      ]
     },
     "execution_count": 19,
     "metadata": {},
     "output_type": "execute_result"
    },
    {
     "data": {
      "image/png": "[encoded data removed]",
      "text/plain": [
       "<Figure size 2000x1000 with 1 Axes>"
      ]
     },
     "metadata": {},
     "output_type": "display_data"
    }
   ],
   "source": [
    "# make a plot showing the number of point ocsvm, knn and iforest label as 1, only ocsvm and knn labelled as 1, ocsvm and iforest labelled as 1, knn and iforest labelled as 1, only ocsvm labelled as 1, only knn labelled as 1, only iforest labelled as 1\n",
    "import matplotlib.pyplot as plt\n",
    "\n",
    "all_models_outliers = y_train_pred_iforest * y_train_pred_ocsvm * y_train_pred_knn\n",
    "\n",
    "iforest_ocsvm_outliers = (\n",
    "    y_train_pred_iforest * y_train_pred_ocsvm * (1 - y_train_pred_knn)\n",
    ")\n",
    "\n",
    "iforest_knn_outliers = (\n",
    "    y_train_pred_iforest * y_train_pred_knn * (1 - y_train_pred_ocsvm)\n",
    ")\n",
    "\n",
    "ocsvm_knn_outliers = y_train_pred_ocsvm * y_train_pred_knn * (1 - y_train_pred_iforest)\n",
    "\n",
    "iforest_outliers = (\n",
    "    y_train_pred_iforest * (1 - y_train_pred_ocsvm) * (1 - y_train_pred_knn)\n",
    ")\n",
    "\n",
    "ocsvm_outliers = (\n",
    "    y_train_pred_ocsvm * (1 - y_train_pred_iforest) * (1 - y_train_pred_knn)\n",
    ")\n",
    "\n",
    "knn_outliers = y_train_pred_knn * (1 - y_train_pred_iforest) * (1 - y_train_pred_ocsvm)\n",
    "\n",
    "plt.figure(figsize=(20, 10))\n",
    "plt.bar(\n",
    "    [\n",
    "        \"all models\",\n",
    "        \"iforest and ocsvm\",\n",
    "        \"iforest and knn\",\n",
    "        \"ocsvm and knn\",\n",
    "        \"iforest\",\n",
    "        \"ocsvm\",\n",
    "        \"knn\",\n",
    "    ],\n",
    "    [\n",
    "        len(all_models_outliers[all_models_outliers == 1]),\n",
    "        len(iforest_ocsvm_outliers[iforest_ocsvm_outliers == 1]),\n",
    "        len(iforest_knn_outliers[iforest_knn_outliers == 1]),\n",
    "        len(ocsvm_knn_outliers[ocsvm_knn_outliers == 1]),\n",
    "        len(iforest_outliers[iforest_outliers == 1]),\n",
    "        len(ocsvm_outliers[ocsvm_outliers == 1]),\n",
    "        len(knn_outliers[knn_outliers == 1]),\n",
    "    ],\n",
    ")"
   ]
  },
  {
   "cell_type": "markdown",
   "metadata": {},
   "source": [
    "# Majority vote"
   ]
  },
  {
   "cell_type": "code",
   "execution_count": 20,
   "metadata": {},
   "outputs": [
    {
     "name": "stdout",
     "output_type": "stream",
     "text": [
      "Number of found outliers:  122\n"
     ]
    }
   ],
   "source": [
    "# Do a majority vote on the 3 models\n",
    "\n",
    "\n",
    "def majority_vote(y_train_pred_ecod, y_train_pred_iforest, y_train_pred_knn):\n",
    "    y_train_pred = np.zeros(len(y_train_pred_ecod))\n",
    "    for i in range(len(y_train_pred_ecod)):\n",
    "        # if two out of three models predict an outlier, then it is an outlier\n",
    "        if (y_train_pred_ecod[i] + y_train_pred_iforest[i] + y_train_pred_knn[i]) >= 2:\n",
    "            y_train_pred[i] = 1\n",
    "    return y_train_pred\n",
    "\n",
    "\n",
    "majority_voted = majority_vote(\n",
    "    y_train_pred_ecod, y_train_pred_iforest, y_train_pred_knn\n",
    ")\n",
    "print(\"Number of found outliers: \", len(majority_voted[majority_voted == 1]))"
   ]
  },
  {
   "cell_type": "markdown",
   "metadata": {},
   "source": [
    "# Plot one vs rest for majority and the not part taking models"
   ]
  },
  {
   "cell_type": "code",
   "execution_count": 21,
   "metadata": {},
   "outputs": [
    {
     "data": {
      "text/plain": [
       "<BarContainer object of 5 artists>"
      ]
     },
     "execution_count": 21,
     "metadata": {},
     "output_type": "execute_result"
    },
    {
     "data": {
      "image/png": "[encoded data removed]",
      "text/plain": [
       "<Figure size 2000x1000 with 1 Axes>"
      ]
     },
     "metadata": {},
     "output_type": "display_data"
    }
   ],
   "source": [
    "import matplotlib.pyplot as plt\n",
    "\n",
    "all_models_outliers = (\n",
    "    majority_voted * y_train_pred_ecod * y_train_pred_lof * y_train_pred_dbscan\n",
    ")\n",
    "\n",
    "ecod_only_outliers = (\n",
    "    y_train_pred_ecod\n",
    "    * (1 - majority_voted)\n",
    "    * (1 - y_train_pred_lof)\n",
    "    * (1 - y_train_pred_dbscan)\n",
    ")\n",
    "lof_only_outliers = (\n",
    "    y_train_pred_lof\n",
    "    * (1 - majority_voted)\n",
    "    * (1 - y_train_pred_ecod)\n",
    "    * (1 - y_train_pred_dbscan)\n",
    ")\n",
    "dbscan_only_outliers = (\n",
    "    y_train_pred_dbscan\n",
    "    * (1 - majority_voted)\n",
    "    * (1 - y_train_pred_ecod)\n",
    "    * (1 - y_train_pred_lof)\n",
    ")\n",
    "majority_voted_only_outliers = (\n",
    "    majority_voted\n",
    "    * (1 - y_train_pred_ecod)\n",
    "    * (1 - y_train_pred_lof)\n",
    "    * (1 - y_train_pred_dbscan)\n",
    ")\n",
    "\n",
    "\n",
    "plt.figure(figsize=(20, 10))\n",
    "plt.bar(\n",
    "    [\n",
    "        \"all models\",\n",
    "        \"ecod\",\n",
    "        \"lof\",\n",
    "        \"dbscan\",\n",
    "        \"majority voted\",\n",
    "    ],\n",
    "    [\n",
    "        len(all_models_outliers[all_models_outliers == 1]),\n",
    "        len(ecod_only_outliers[ecod_only_outliers == 1]),\n",
    "        len(lof_only_outliers[lof_only_outliers == 1]),\n",
    "        len(dbscan_only_outliers[dbscan_only_outliers == 1]),\n",
    "        len(majority_voted_only_outliers[majority_voted_only_outliers == 1]),\n",
    "    ],\n",
    ")"
   ]
  },
  {
   "cell_type": "markdown",
   "metadata": {},
   "source": [
    "As shown in the plot above the majority vote between ocsvm, iforest and knn contains most of the samples seen as outliers by the other models. That means we cover most of the distribution between them and keep the outliers. However we may keep to few. If we want to keep more, we can include more models in the majority vote."
   ]
  },
  {
   "cell_type": "code",
   "execution_count": 40,
   "metadata": {},
   "outputs": [],
   "source": [
    "# write the outliers to a csv file in the data folder as id, outlier\n",
    "outliers = pd.DataFrame({\"outlier\": majority_voted}, index=X_train.index.astype(int))\n",
    "outliers.to_csv(\"data/outliers_majority_vote_ocsvm_iforest_knn.csv\")"
   ]
  },
  {
   "cell_type": "code",
   "execution_count": null,
   "metadata": {},
   "outputs": [],
   "source": []
  },
  {
   "cell_type": "code",
   "execution_count": null,
   "metadata": {},
   "outputs": [],
   "source": []
  },
  {
   "cell_type": "code",
   "execution_count": null,
   "metadata": {},
   "outputs": [],
   "source": []
  },
  {
   "cell_type": "code",
   "execution_count": null,
   "metadata": {},
   "outputs": [],
   "source": []
  },
  {
   "cell_type": "code",
   "execution_count": null,
   "metadata": {},
   "outputs": [],
   "source": []
  }
 ],
 "metadata": {
  "kernelspec": {
   "display_name": "ml",
   "language": "python",
   "name": "python3"
  },
  "language_info": {
   "codemirror_mode": {
    "name": "ipython",
    "version": 3
   },
   "file_extension": ".py",
   "mimetype": "text/x-python",
   "name": "python",
   "nbconvert_exporter": "python",
   "pygments_lexer": "ipython3",
   "version": "3.10.11"
  }
 },
 "nbformat": 4,
 "nbformat_minor": 2
}
