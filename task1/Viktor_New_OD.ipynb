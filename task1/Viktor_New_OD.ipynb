{
 "cells": [
  {
   "cell_type": "code",
   "execution_count": 1,
   "metadata": {},
   "outputs": [],
   "source": [
    "#New outlier detector\n",
    "import numpy as np\n",
    "import pandas as pd\n",
    "import matplotlib.pyplot as plt\n",
    "import json\n",
    "\n",
    "from sktime.pipeline import make_pipeline\n",
    "from sklearn.model_selection import KFold, cross_val_score\n",
    "from sklearn.model_selection import GridSearchCV"
   ]
  },
  {
   "cell_type": "code",
   "execution_count": 2,
   "metadata": {},
   "outputs": [],
   "source": [
    "from sklearn.decomposition import PCA\n",
    "from sklearn.pipeline import Pipeline\n",
    "from sklearn.experimental import enable_iterative_imputer\n",
    "from sklearn.impute import IterativeImputer\n",
    "from sklearn.impute import SimpleImputer\n",
    "from sklearn.feature_selection import SelectKBest, f_regression\n",
    "from sklearn.preprocessing import StandardScaler\n",
    "from sklearn.metrics import r2_score, make_scorer\n",
    "from sklearn.model_selection import cross_val_score\n",
    "from sklearn.svm import SVR\n",
    "from sklearn.covariance import EllipticEnvelope\n",
    "from sklearn.ensemble import IsolationForest\n",
    "from sklearn.neighbors import LocalOutlierFactor\n",
    "from sklearn.svm import OneClassSVM"
   ]
  },
  {
   "cell_type": "code",
   "execution_count": 3,
   "metadata": {},
   "outputs": [],
   "source": [
    "plt.rcParams['figure.figsize'] = [14, 8]\n",
    "\n",
    "np.random.seed(3141592)\n",
    "\n",
    "DATA_PATH = \"data\"\n",
    "\n",
    "X_train = pd.read_csv(f'{DATA_PATH}/X_train.csv', index_col='id')\n",
    "y_train = pd.read_csv(f'{DATA_PATH}/y_train.csv', index_col='id')\n",
    "X_test = pd.read_csv(f'{DATA_PATH}/X_test.csv', index_col='id')\n",
    "data = np.concatenate([X_train, y_train], axis=1)"
   ]
  },
  {
   "cell_type": "markdown",
   "metadata": {},
   "source": [
    "The goal is to create a different plot than previous.\n",
    "That shows, \n",
    "1) For different combination of OD, which points/ how many points will be considered as outliers. \n",
    "\n",
    "2) Or for every points, which ODs have considered it to be a outliers, so we could make a majority voting afterwards. \n",
    ">>More doable"
   ]
  },
  {
   "cell_type": "markdown",
   "metadata": {},
   "source": [
    "Second idea:\n",
    "We try to create a class for each model, \n",
    "\n",
    "\n",
    "We try to create a class that receives as input a series of model's names and the corresponding parameters, then return an array that indicates, for every configuration of outlier detector(same model with different sets of parametes are consiered different configurations), which are the indices of outliers."
   ]
  },
  {
   "cell_type": "code",
   "execution_count": 4,
   "metadata": {},
   "outputs": [],
   "source": [
    "Example_input = [ {\"IsolationForest\":{'n_estimators': 50}},\n",
    "                {\"IsolationForest\":{'n_estimators': 100}},\n",
    "                {\"IsolationForest\":{'n_estimators': 200}}\n",
    "                 ]\n",
    "\n",
    "#,\n",
    "                #{\"EllipticEnvelope\":{'contamination': 0.01}\n",
    "                 #{\"EllipticEnvelope\": {'contamination': 0.1}},\n",
    "                #{\"EllipticEnvelope\": {'contamination': 0.5}}\n",
    "                #{\"LocalOutlierFactor\": {'n_neighbors': 10}},\n",
    "                #{\"LocalOutlierFactor\": {'n_neighbors': 25}},\n",
    "                #{\"LocalOutlierFactor\": {'n_neighbors': 50}} ]"
   ]
  },
  {
   "cell_type": "code",
   "execution_count": null,
   "metadata": {},
   "outputs": [],
   "source": []
  },
  {
   "cell_type": "code",
   "execution_count": 5,
   "metadata": {},
   "outputs": [],
   "source": [
    "Imputer = IterativeImputer(initial_strategy='median', n_nearest_features=5)\n",
    "data_imputed = Imputer.fit_transform(X_train)"
   ]
  },
  {
   "cell_type": "code",
   "execution_count": 6,
   "metadata": {},
   "outputs": [],
   "source": [
    "class ReturnOutlierPrediction:\n",
    "    def __init__(self, detector_param_list) :\n",
    "        models = []\n",
    "        for item in detector_param_list:\n",
    "            for key, value in item.items():\n",
    "                model =  eval(key)(**value)\n",
    "                print(key,value,model)\n",
    "                models.append(model)\n",
    "\n",
    "        self.models = models\n",
    "\n",
    "    def fit(self, data):\n",
    "        for model in self.models:\n",
    "            print(\"fit\",model)\n",
    "            model.fit(data)\n",
    "\n",
    "    def predict(self,data):\n",
    "        prediction = {}\n",
    "        for i, model in enumerate(self.models):\n",
    "            if  type(model).__name__ == \"LocalOutlierFactor\": #need to set novelty param\n",
    "                pred = model.fit_predict(data)\n",
    "                prediction[i] = [index for index, element in enumerate(pred) if element == -1]\n",
    "            else:\n",
    "                pred = model.predict(data)\n",
    "                prediction[i] = [index for index, element in enumerate(pred) if element == -1]\n",
    "\n",
    "        return prediction"
   ]
  },
  {
   "cell_type": "code",
   "execution_count": 7,
   "metadata": {},
   "outputs": [
    {
     "name": "stdout",
     "output_type": "stream",
     "text": [
      "IsolationForest {'n_estimators': 50} IsolationForest(n_estimators=50)\n",
      "IsolationForest {'n_estimators': 100} IsolationForest()\n",
      "IsolationForest {'n_estimators': 200} IsolationForest(n_estimators=200)\n",
      "fit IsolationForest(n_estimators=50)\n",
      "fit IsolationForest()\n",
      "fit IsolationForest(n_estimators=200)\n"
     ]
    }
   ],
   "source": [
    "OutlierPredictions = ReturnOutlierPrediction(Example_input)\n",
    "OutlierPredictions.fit(data_imputed)\n",
    "prediction = OutlierPredictions.predict(data_imputed)"
   ]
  },
  {
   "cell_type": "code",
   "execution_count": 8,
   "metadata": {},
   "outputs": [],
   "source": [
    "def plot_detector_votings(Detector_class, Prediction):\n",
    "    detectors = Detector_class.models\n",
    "    outliers_dict = {}\n",
    "    for model_index, prediction in Prediction.items():\n",
    "        for p in prediction:# for every outlier index in the prediction \n",
    "            if p not in outliers_dict.keys():\n",
    "                outliers_dict[p] = []\n",
    "            outliers_dict[p].append(model_index)\n",
    "    #now I hava a dictionary where the key is the outliers and values is a list of models\n",
    "    #that mark it as outlier\n",
    "    num_detectors = len(detectors)\n",
    "    result_outliers_coord = {}\n",
    "\n",
    "    #print(\"outliers dict\", outliers_dict)\n",
    "\n",
    "    for outlier, detectors_marked in outliers_dict.items():\n",
    "        zero_coord = [0] * num_detectors\n",
    "        result_outliers_coord[outlier] = zero_coord\n",
    "        for detector_index in detectors_marked:\n",
    "            result_outliers_coord[outlier][detector_index] = 1\n",
    "    \n",
    "    x = result_outliers_coord.keys()\n",
    "    #y = [ int(\"\".join(map(str,r))) for r in result_outliers_coord.values()]\n",
    "    y = [sum(r) for r in result_outliers_coord.values()]\n",
    "    plt.scatter(x,y)\n",
    "    plt.show()\n",
    "    return result_outliers_coord\n",
    "\n",
    "# we plot every possible outliers(union of all outliers predicted by all models) in the x axis and the y coordinates counts how many models\n",
    "#  have predicted it as outliers\n",
    "   \n",
    "\n",
    "    \n"
   ]
  },
  {
   "cell_type": "code",
   "execution_count": 9,
   "metadata": {},
   "outputs": [
    {
     "data": {
      "image/png": "[encoded data removed]",
      "text/plain": [
       "<Figure size 1008x576 with 1 Axes>"
      ]
     },
     "metadata": {
      "needs_background": "light"
     },
     "output_type": "display_data"
    }
   ],
   "source": [
    "res = plot_detector_votings(OutlierPredictions, prediction)\n"
   ]
  },
  {
   "cell_type": "code",
   "execution_count": null,
   "metadata": {},
   "outputs": [],
   "source": []
  },
  {
   "cell_type": "code",
   "execution_count": null,
   "metadata": {},
   "outputs": [],
   "source": []
  },
  {
   "cell_type": "markdown",
   "metadata": {},
   "source": [
    "Followss Eric's Idea to implement the Outlier Detector class"
   ]
  },
  {
   "cell_type": "code",
   "execution_count": 51,
   "metadata": {},
   "outputs": [],
   "source": [
    "from pyod.models.ecod import ECOD\n",
    "from pyod.models.iforest import IForest\n",
    "from pyod.models.lof import LOF\n",
    "from pyod.models.ocsvm import OCSVM\n",
    "from pyod.models.knn import KNN\n",
    "from sklearn.covariance import EllipticEnvelope\n",
    "#from pyod.models.mcd import MCD\n",
    "#from scipy import stats\n",
    "from sklearn.cluster import DBSCAN\n",
    "import math \n"
   ]
  },
  {
   "cell_type": "code",
   "execution_count": 40,
   "metadata": {},
   "outputs": [],
   "source": [
    "X_train = pd.read_csv(\"data/X_train.csv\", index_col=\"id\")\n",
    "y_train = pd.read_csv(\"data/y_train.csv\", index_col=\"id\").to_numpy().ravel()\n",
    "pre_od_pipeline = Pipeline(\n",
    "    [\n",
    "        (\"imputer\", IterativeImputer(initial_strategy=\"median\", n_nearest_features=5)),\n",
    "        (\"scaler\", StandardScaler()),\n",
    "        (\"selector\", SelectKBest(score_func=f_regression, k=175)),\n",
    "    ]\n",
    ")\n",
    "X_train_pre_od = pre_od_pipeline.fit_transform(X_train, y_train)\n"
   ]
  },
  {
   "cell_type": "code",
   "execution_count": null,
   "metadata": {},
   "outputs": [],
   "source": [
    "class BaseOutlierDetector:\n",
    "    \"\"\" \n",
    "    n_detectors: Number of outlier detectors among which we take the majority voting, default = 3. \n",
    "    \n",
    "    \"\"\"\n",
    "    \n",
    "    def __init__(self, n_detectors = 3):\n",
    "        pass\n",
    "    \n",
    "    def fit(self, X, y):\n",
    "        return self\n",
    "\n",
    "    def transform(self, X):\n",
    "        return X"
   ]
  },
  {
   "cell_type": "code",
   "execution_count": 30,
   "metadata": {},
   "outputs": [
    {
     "data": {
      "text/plain": [
       "1212"
      ]
     },
     "execution_count": 30,
     "metadata": {},
     "output_type": "execute_result"
    }
   ],
   "source": [
    "len(np.zeros(X_train.shape[0]))\n"
   ]
  },
  {
   "cell_type": "code",
   "execution_count": 69,
   "metadata": {},
   "outputs": [
    {
     "name": "stdout",
     "output_type": "stream",
     "text": [
      "[0, 0, 0, 1, 0, 0, 0, 0, 0, 0, 1, 0, 0, 0, 0, 0, 0, 0, 0, 0, 0, 0, 0, 0, 1, 0, 0, 1, 0, 0, 1, 0, 0, 1, 0, 0, 0, 0, 0, 0, 0, 0, 0, 0, 0, 0, 0, 0, 0, 0, 0, 0, 0, 0, 1, 0, 0, 0, 0, 0, 1, 0, 0, 0, 0, 0, 0, 0, 0, 0, 1, 0, 0, 0, 0, 0, 0, 0, 1, 0, 0, 0, 0, 1, 0, 0, 0, 0, 0, 0, 0, 1, 0, 0, 0, 0, 0, 0, 0, 0, 1, 0, 0, 0, 0, 0, 0, 0, 0, 0, 0, 0, 0, 0, 1, 0, 0, 0, 0, 0, 0, 0, 0, 0, 0, 0, 1, 0, 0, 0, 0, 0, 0, 0, 0, 0, 0, 0, 0, 0, 0, 0, 0, 0, 0, 0, 0, 0, 0, 1, 0, 0, 0, 0, 0, 0, 1, 0, 1, 0, 0, 0, 0, 0, 0, 0, 0, 1, 0, 0, 0, 0, 0, 0, 0, 0, 0, 0, 0, 0, 0, 0, 0, 0, 0, 0, 0, 0, 0, 0, 1, 0, 0, 0, 0, 0, 0, 0, 0, 0, 0, 0, 0, 1, 0, 0, 0, 1, 0, 0, 0, 0, 0, 1, 0, 0, 0, 0, 1, 0, 0, 0, 0, 0, 0, 0, 0, 0, 0, 0, 0, 0, 1, 0, 0, 0, 0, 0, 0, 0, 0, 0, 0, 0, 0, 1, 0, 0, 0, 0, 0, 0, 0, 0, 0, 0, 0, 0, 0, 0, 0, 0, 0, 0, 0, 0, 0, 0, 0, 0, 0, 0, 0, 0, 0, 0, 0, 0, 1, 0, 0, 0, 0, 0, 0, 0, 0, 0, 0, 0, 0, 0, 0, 0, 0, 0, 0, 0, 0, 0, 0, 0, 0, 0, 0, 0, 1, 0, 0, 1, 0, 0, 0, 1, 0, 0, 0, 0, 0, 0, 0, 1, 0, 0, 0, 0, 0, 0, 0, 1, 0, 0, 0, 0, 1, 0, 0, 0, 0, 1, 0, 0, 0, 0, 0, 0, 1, 0, 0, 0, 0, 0, 0, 0, 0, 0, 0, 0, 0, 0, 0, 0, 1, 0, 0, 0, 0, 0, 1, 0, 0, 0, 0, 0, 0, 0, 0, 0, 0, 0, 1, 0, 1, 0, 0, 0, 0, 0, 0, 0, 0, 0, 0, 0, 0, 0, 0, 1, 0, 0, 1, 0, 0, 0, 0, 0, 0, 0, 0, 1, 0, 0, 0, 0, 0, 0, 0, 0, 0, 0, 0, 0, 0, 1, 0, 0, 0, 0, 1, 0, 0, 1, 0, 0, 0, 0, 0, 0, 0, 0, 0, 1, 1, 0, 0, 0, 1, 0, 0, 0, 1, 0, 0, 0, 0, 0, 0, 0, 0, 1, 0, 0, 0, 1, 0, 0, 0, 0, 0, 0, 0, 0, 0, 0, 0, 0, 0, 0, 0, 0, 0, 0, 0, 0, 0, 0, 0, 0, 0, 0, 0, 0, 0, 0, 0, 0, 0, 0, 0, 0, 0, 0, 1, 0, 0, 0, 1, 0, 0, 0, 0, 0, 0, 0, 0, 0, 0, 0, 1, 0, 0, 1, 0, 0, 0, 0, 0, 0, 0, 0, 0, 0, 0, 0, 0, 0, 0, 1, 0, 0, 0, 0, 1, 0, 0, 0, 0, 0, 0, 0, 0, 0, 0, 0, 0, 0, 0, 0, 0, 0, 0, 0, 0, 1, 0, 0, 0, 0, 0, 0, 0, 0, 0, 0, 1, 1, 0, 0, 0, 1, 0, 0, 0, 1, 0, 0, 0, 0, 0, 0, 0, 0, 0, 0, 0, 0, 0, 0, 0, 0, 0, 0, 0, 0, 0, 0, 0, 0, 1, 0, 0, 1, 0, 0, 0, 0, 0, 0, 0, 0, 0, 0, 0, 0, 0, 0, 0, 1, 0, 0, 0, 0, 0, 0, 0, 1, 0, 0, 0, 0, 0, 0, 0, 0, 0, 0, 0, 0, 0, 0, 0, 0, 0, 0, 0, 0, 0, 0, 0, 0, 0, 0, 0, 0, 0, 0, 0, 0, 0, 0, 0, 0, 0, 0, 1, 0, 1, 0, 0, 0, 0, 1, 0, 0, 0, 0, 0, 0, 0, 0, 1, 0, 0, 0, 1, 0, 0, 1, 0, 0, 0, 0, 0, 0, 0, 0, 0, 0, 0, 0, 0, 0, 0, 0, 0, 0, 0, 0, 0, 0, 0, 0, 0, 0, 0, 0, 0, 0, 0, 0, 0, 1, 0, 1, 0, 0, 0, 1, 0, 0, 1, 0, 0, 0, 0, 0, 0, 0, 0, 0, 0, 0, 0, 0, 0, 1, 0, 0, 0, 0, 0, 0, 0, 1, 0, 0, 0, 0, 0, 1, 0, 0, 0, 0, 0, 0, 0, 0, 0, 0, 0, 0, 0, 0, 0, 0, 0, 0, 0, 0, 1, 0, 0, 0, 1, 0, 0, 0, 0, 0, 0, 0, 0, 0, 0, 1, 0, 0, 0, 0, 0, 0, 0, 0, 0, 0, 0, 0, 0, 0, 0, 1, 0, 0, 0, 0, 0, 0, 0, 0, 0, 0, 0, 0, 0, 0, 1, 1, 0, 0, 0, 0, 0, 0, 0, 0, 0, 0, 0, 0, 0, 0, 0, 0, 0, 0, 0, 0, 0, 0, 0, 0, 0, 0, 0, 0, 0, 0, 0, 0, 0, 0, 0, 0, 0, 0, 0, 1, 0, 0, 0, 0, 0, 0, 0, 0, 0, 0, 1, 0, 0, 0, 0, 0, 0, 0, 0, 0, 0, 1, 1, 0, 0, 0, 0, 0, 1, 0, 0, 0, 0, 0, 0, 0, 0, 1, 0, 1, 0, 0, 0, 0, 0, 0, 0, 0, 0, 0, 0, 0, 0, 0, 0, 1, 0, 1, 0, 0, 1, 0, 0, 0, 0, 0, 0, 0, 0, 0, 0, 0, 0, 1, 0, 0, 0, 0, 0, 0, 0, 0, 0, 0, 0, 0, 0, 0, 0, 0, 0, 0, 0, 0, 1, 0, 0, 0, 0, 0, 0, 0, 0, 0, 0, 1, 0, 0, 0, 0, 0, 0, 0, 0, 0, 0, 0, 0, 0, 0, 0, 0, 0, 1, 0, 0, 0, 0, 0, 0, 0, 0, 0, 0, 0, 0, 0, 1, 0, 0, 0, 0, 0, 0, 0, 0, 0, 0, 0, 0, 0, 0, 0, 1, 1, 0, 0, 0, 0, 0, 0, 0, 0, 0, 0, 0, 0, 0, 0, 0, 0, 0, 0, 0, 0, 0, 0, 0, 1, 0, 0, 0, 0, 0, 0, 0, 0, 0, 1, 0, 0, 0, 1, 1, 0, 0, 0, 0, 0, 0, 0, 0, 0, 0, 0, 0, 0, 0, 0, 1, 0, 1, 1, 0, 0, 0, 0, 0, 0, 1, 1, 0, 0, 1, 0, 1, 0, 0, 0, 0, 0, 0, 0, 0, 0, 0, 0, 0, 0, 0, 0, 1, 1, 0, 0, 0, 0, 0, 0, 1, 0, 0, 0, 0, 0, 0, 0, 1, 1, 1, 0, 0, 0, 0, 0, 0, 1, 0, 0, 0, 0, 0, 1, 0, 1, 0, 0, 0, 0, 0, 0, 0, 0, 0, 0, 0, 0, 0, 0, 0, 0, 0, 0, 0, 0, 0, 0, 0, 0, 0, 0, 0, 0, 0, 0, 1, 0, 0, 0, 0, 0, 0, 0, 0, 0, 0, 0, 0, 1, 0, 0, 0, 0, 0, 0, 0, 0, 1, 0, 0, 0, 0, 0, 0]\n",
      "125 [3, 10, 24, 27, 30, 33, 54, 60, 70, 78, 83, 91, 100, 114, 126, 149, 156, 158, 167, 190, 203, 207, 213, 218, 232, 245, 278, 306, 309, 313, 321, 329, 334, 339, 346, 362, 368, 380, 382, 397, 400, 409, 423, 428, 431, 441, 442, 446, 450, 459, 463, 502, 506, 518, 521, 537, 542, 563, 574, 575, 579, 583, 608, 611, 627, 635, 674, 676, 681, 690, 694, 697, 731, 733, 737, 740, 755, 763, 769, 790, 794, 805, 821, 836, 837, 877, 888, 899, 900, 906, 915, 917, 933, 935, 938, 951, 972, 983, 1001, 1015, 1031, 1032, 1056, 1066, 1070, 1071, 1087, 1089, 1090, 1097, 1098, 1101, 1103, 1119, 1120, 1127, 1135, 1136, 1137, 1144, 1150, 1152, 1183, 1196, 1205]\n"
     ]
    }
   ],
   "source": [
    "class BaseOutlierDetector:\n",
    "    # returned value = 1 for outliers, 0 for inliers\n",
    "    def __init__(self):\n",
    "        self.models = {\n",
    "            'IForest': IForest(),\n",
    "            'OCSVM': OCSVM(),\n",
    "            'KNN': KNN(),\n",
    "            'LOF': LOF(),\n",
    "            'DBSCAN': DBSCAN()\n",
    "        }\n",
    "\n",
    "    def fit(self, X, n_detector=3):\n",
    "        outlier_indicators = np.zeros(X.shape[0])#initialize a counter for each point\n",
    "\n",
    "        for i, (model_name, model) in enumerate(self.models.items()):\n",
    "            if i < n_detector:\n",
    "                model.fit(X)\n",
    "                if model_name == \"LOF\":\n",
    "                    predictions = model.fit_predict(X)\n",
    "                else:\n",
    "                    predictions = model.predict(X)\n",
    "                indices = [index for index, element in enumerate(predictions) if element == 1]\n",
    "                outlier_indicators += (predictions == 1)\n",
    "\n",
    "        # take the majority vote, i.e. the counter is greater than half of the number of detectors \n",
    "        returned_value = outlier_indicators >= math.ceil(n_detector/2)\n",
    "\n",
    "        return [1  if value == True else 0 for value in returned_value]\n",
    "\n",
    "    def fit_predict(self, X, n_detector=3):\n",
    "        return self.fit(X, n_detector)\n",
    "\n",
    "# Example usage:\n",
    "if __name__ == \"__main__\":\n",
    "    outlier_detector = BaseOutlierDetector()\n",
    "    results = outlier_detector.fit_predict(X_train_pre_od, n_detector=3)\n",
    "    print(results)\n",
    "    res_indices = [index for index, element in enumerate(results) if element == 1]\n",
    "    print(len(res_indices), res_indices)"
   ]
  },
  {
   "cell_type": "code",
   "execution_count": 52,
   "metadata": {},
   "outputs": [
    {
     "data": {
      "text/plain": [
       "2"
      ]
     },
     "execution_count": 52,
     "metadata": {},
     "output_type": "execute_result"
    }
   ],
   "source": [
    "math.ceil(3/2)"
   ]
  },
  {
   "cell_type": "code",
   "execution_count": 47,
   "metadata": {},
   "outputs": [
    {
     "data": {
      "text/plain": [
       "(array([  48.,    0.,    0.,    0.,    0.,    0.,    0.,    0.,    0.,\n",
       "        1164.]),\n",
       " array([0. , 0.1, 0.2, 0.3, 0.4, 0.5, 0.6, 0.7, 0.8, 0.9, 1. ]),\n",
       " <BarContainer object of 10 artists>)"
      ]
     },
     "execution_count": 47,
     "metadata": {},
     "output_type": "execute_result"
    },
    {
     "data": {
      "image/png": "[encoded data removed]",
      "text/plain": [
       "<Figure size 1008x576 with 1 Axes>"
      ]
     },
     "metadata": {
      "needs_background": "light"
     },
     "output_type": "display_data"
    }
   ],
   "source": [
    "plt.hist(results)"
   ]
  },
  {
   "cell_type": "code",
   "execution_count": null,
   "metadata": {},
   "outputs": [],
   "source": [
    "class ReturnOutlierPrediction:\n",
    "    def __init__(self, detector_param_list) :\n",
    "        models = []\n",
    "        for item in detector_param_list:\n",
    "            for key, value in item.items():\n",
    "                model =  eval(key)(**value)\n",
    "                print(key,value,model)\n",
    "                models.append(model)\n",
    "\n",
    "        self.models = models\n",
    "\n",
    "    def fit(self, data):\n",
    "        for model in self.models:\n",
    "            print(\"fit\",model)\n",
    "            model.fit(data)\n",
    "\n",
    "    def predict(self,data):\n",
    "        prediction = {}\n",
    "        for i, model in enumerate(self.models):\n",
    "            if  type(model).__name__ == \"LocalOutlierFactor\": #need to set novelty param\n",
    "                pred = model.fit_predict(data)\n",
    "                prediction[i] = [index for index, element in enumerate(pred) if element == -1]\n",
    "            else:\n",
    "                pred = model.predict(data)\n",
    "                prediction[i] = [index for index, element in enumerate(pred) if element == -1]\n",
    "\n",
    "        return prediction"
   ]
  },
  {
   "cell_type": "code",
   "execution_count": null,
   "metadata": {},
   "outputs": [],
   "source": []
  },
  {
   "cell_type": "code",
   "execution_count": null,
   "metadata": {},
   "outputs": [],
   "source": []
  },
  {
   "cell_type": "code",
   "execution_count": null,
   "metadata": {},
   "outputs": [],
   "source": []
  },
  {
   "cell_type": "code",
   "execution_count": null,
   "metadata": {},
   "outputs": [],
   "source": []
  },
  {
   "cell_type": "code",
   "execution_count": null,
   "metadata": {},
   "outputs": [],
   "source": []
  }
 ],
 "metadata": {
  "kernelspec": {
   "display_name": "base",
   "language": "python",
   "name": "python3"
  },
  "language_info": {
   "codemirror_mode": {
    "name": "ipython",
    "version": 3
   },
   "file_extension": ".py",
   "mimetype": "text/x-python",
   "name": "python",
   "nbconvert_exporter": "python",
   "pygments_lexer": "ipython3",
   "version": "3.9.12"
  }
 },
 "nbformat": 4,
 "nbformat_minor": 2
}
