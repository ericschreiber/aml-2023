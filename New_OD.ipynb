{
 "cells": [
  {
   "cell_type": "code",
   "execution_count": 1,
   "metadata": {},
   "outputs": [],
   "source": [
    "#New outlier detector\n",
    "import numpy as np\n",
    "import pandas as pd\n",
    "import matplotlib.pyplot as plt\n",
    "import json\n",
    "\n",
    "from sktime.pipeline import make_pipeline\n",
    "from sklearn.model_selection import KFold, cross_val_score\n",
    "from sklearn.model_selection import GridSearchCV"
   ]
  },
  {
   "cell_type": "code",
   "execution_count": 2,
   "metadata": {},
   "outputs": [],
   "source": [
    "from sklearn.decomposition import PCA\n",
    "from sklearn.pipeline import Pipeline\n",
    "from sklearn.experimental import enable_iterative_imputer\n",
    "from sklearn.impute import IterativeImputer\n",
    "from sklearn.impute import SimpleImputer\n",
    "from sklearn.feature_selection import SelectKBest, f_regression\n",
    "from sklearn.preprocessing import StandardScaler\n",
    "from sklearn.metrics import r2_score, make_scorer\n",
    "from sklearn.model_selection import cross_val_score\n",
    "from sklearn.svm import SVR\n",
    "from sklearn.covariance import EllipticEnvelope\n",
    "from sklearn.ensemble import IsolationForest\n",
    "from sklearn.neighbors import LocalOutlierFactor\n",
    "from sklearn.svm import OneClassSVM"
   ]
  },
  {
   "cell_type": "code",
   "execution_count": 31,
   "metadata": {},
   "outputs": [],
   "source": [
    "plt.rcParams['figure.figsize'] = [14, 8]\n",
    "\n",
    "np.random.seed(3141592)\n",
    "\n",
    "DATA_PATH = \"data\"\n",
    "\n",
    "X_train = pd.read_csv(f'{DATA_PATH}/X_train.csv', index_col='id')\n",
    "y_train = pd.read_csv(f'{DATA_PATH}/y_train.csv', index_col='id')\n",
    "X_test = pd.read_csv(f'{DATA_PATH}/X_test.csv', index_col='id')\n",
    "data = np.concatenate([X_train, y_train], axis=1)"
   ]
  },
  {
   "cell_type": "code",
   "execution_count": 28,
   "metadata": {},
   "outputs": [
    {
     "data": {
      "text/html": [
       "<div>\n",
       "<style scoped>\n",
       "    .dataframe tbody tr th:only-of-type {\n",
       "        vertical-align: middle;\n",
       "    }\n",
       "\n",
       "    .dataframe tbody tr th {\n",
       "        vertical-align: top;\n",
       "    }\n",
       "\n",
       "    .dataframe thead th {\n",
       "        text-align: right;\n",
       "    }\n",
       "</style>\n",
       "<table border=\"1\" class=\"dataframe\">\n",
       "  <thead>\n",
       "    <tr style=\"text-align: right;\">\n",
       "      <th></th>\n",
       "      <th>y</th>\n",
       "    </tr>\n",
       "    <tr>\n",
       "      <th>id</th>\n",
       "      <th></th>\n",
       "    </tr>\n",
       "  </thead>\n",
       "  <tbody>\n",
       "    <tr>\n",
       "      <th>0.0</th>\n",
       "      <td>74.0</td>\n",
       "    </tr>\n",
       "    <tr>\n",
       "      <th>1.0</th>\n",
       "      <td>51.0</td>\n",
       "    </tr>\n",
       "    <tr>\n",
       "      <th>2.0</th>\n",
       "      <td>70.0</td>\n",
       "    </tr>\n",
       "    <tr>\n",
       "      <th>3.0</th>\n",
       "      <td>52.0</td>\n",
       "    </tr>\n",
       "    <tr>\n",
       "      <th>4.0</th>\n",
       "      <td>85.0</td>\n",
       "    </tr>\n",
       "    <tr>\n",
       "      <th>...</th>\n",
       "      <td>...</td>\n",
       "    </tr>\n",
       "    <tr>\n",
       "      <th>1207.0</th>\n",
       "      <td>70.0</td>\n",
       "    </tr>\n",
       "    <tr>\n",
       "      <th>1208.0</th>\n",
       "      <td>86.0</td>\n",
       "    </tr>\n",
       "    <tr>\n",
       "      <th>1209.0</th>\n",
       "      <td>68.0</td>\n",
       "    </tr>\n",
       "    <tr>\n",
       "      <th>1210.0</th>\n",
       "      <td>71.0</td>\n",
       "    </tr>\n",
       "    <tr>\n",
       "      <th>1211.0</th>\n",
       "      <td>53.0</td>\n",
       "    </tr>\n",
       "  </tbody>\n",
       "</table>\n",
       "<p>1212 rows × 1 columns</p>\n",
       "</div>"
      ],
      "text/plain": [
       "           y\n",
       "id          \n",
       "0.0     74.0\n",
       "1.0     51.0\n",
       "2.0     70.0\n",
       "3.0     52.0\n",
       "4.0     85.0\n",
       "...      ...\n",
       "1207.0  70.0\n",
       "1208.0  86.0\n",
       "1209.0  68.0\n",
       "1210.0  71.0\n",
       "1211.0  53.0\n",
       "\n",
       "[1212 rows x 1 columns]"
      ]
     },
     "execution_count": 28,
     "metadata": {},
     "output_type": "execute_result"
    }
   ],
   "source": []
  },
  {
   "cell_type": "code",
   "execution_count": null,
   "metadata": {},
   "outputs": [],
   "source": [
    "def remove_outliers(X, y, X_od, outlier_detector):\n",
    "    pred = outlier_detector.predict(X_od)\n",
    "    inliers = (pred == 1)\n",
    "    return X[inliers], y[inliers]\n",
    "\n",
    "def outlier_cnt(X, outlier_detector):\n",
    "    pred = outlier_detector.predict(X)\n",
    "    outlier_cnt = sum(pred == -1)\n",
    "    return outlier_cnt\n",
    "\n",
    "#export ourliers into a csv\n",
    "def export_outliers(X, y, X_od, outlier_detector):\n",
    "    pass"
   ]
  },
  {
   "cell_type": "markdown",
   "metadata": {},
   "source": [
    "The goal is to create a different plot than previous.\n",
    "That shows, \n",
    "1) For different combination of OD, which points/ how many points will be considered as outliers. \n",
    "\n",
    "2) Or for every points, which ODs have considered it to be a outliers, so we could make a majority voting afterwards. \n",
    ">>More doable"
   ]
  },
  {
   "cell_type": "markdown",
   "metadata": {},
   "source": [
    "Second idea:\n",
    "We try to create a class for each model, \n",
    "\n",
    "\n",
    "We try to create a class that receives as input a series of model's names and the corresponding parameters, then return an array that indicates, for every configuration of outlier detector(same model with different sets of parametes are consiered different configurations), which are the indices of outliers."
   ]
  },
  {
   "cell_type": "code",
   "execution_count": 119,
   "metadata": {},
   "outputs": [],
   "source": [
    "Example_input = [ {\"IsolationForest\":{'n_estimators': 50}},\n",
    "                {\"IsolationForest\":{'n_estimators': 100}},\n",
    "                {\"IsolationForest\":{'n_estimators': 200}}\n",
    "                 ]\n",
    "\n",
    "#,\n",
    "                #{\"EllipticEnvelope\":{'contamination': 0.01}\n",
    "                 #{\"EllipticEnvelope\": {'contamination': 0.1}},\n",
    "                #{\"EllipticEnvelope\": {'contamination': 0.5}}\n",
    "                #{\"LocalOutlierFactor\": {'n_neighbors': 10}},\n",
    "                #{\"LocalOutlierFactor\": {'n_neighbors': 25}},\n",
    "                #{\"LocalOutlierFactor\": {'n_neighbors': 50}} ]"
   ]
  },
  {
   "cell_type": "code",
   "execution_count": null,
   "metadata": {},
   "outputs": [],
   "source": []
  },
  {
   "cell_type": "code",
   "execution_count": 115,
   "metadata": {},
   "outputs": [],
   "source": [
    "Imputer = IterativeImputer(initial_strategy='median', n_nearest_features=5)\n",
    "data_imputed = Imputer.fit_transform(X_train)"
   ]
  },
  {
   "cell_type": "code",
   "execution_count": 121,
   "metadata": {},
   "outputs": [],
   "source": [
    "class ReturnOutlierPrediction:\n",
    "    def __init__(self, detector_param_list) :\n",
    "        models = []\n",
    "        for item in detector_param_list:\n",
    "            for key, value in item.items():\n",
    "                model =  eval(key)(**value)\n",
    "                print(key,value,model)\n",
    "                models.append(model)\n",
    "\n",
    "        self.models = models\n",
    "\n",
    "    def fit(self, data):\n",
    "        for model in self.models:\n",
    "            print(\"fit\",model)\n",
    "            model.fit(data)\n",
    "\n",
    "    def predict(self,data):\n",
    "        prediction = {}\n",
    "        for i, model in enumerate(self.models):\n",
    "            if  type(model).__name__ == \"LocalOutlierFactor\": #need to set novelty param\n",
    "                pred = model.fit_predict(data)\n",
    "                prediction[i] = [index for index, element in enumerate(pred) if element == -1]\n",
    "            else:\n",
    "                pred = model.predict(data)\n",
    "                prediction[i] = [index for index, element in enumerate(pred) if element == -1]\n",
    "\n",
    "        return prediction"
   ]
  },
  {
   "cell_type": "code",
   "execution_count": 122,
   "metadata": {},
   "outputs": [
    {
     "name": "stdout",
     "output_type": "stream",
     "text": [
      "IsolationForest {'n_estimators': 50} IsolationForest(n_estimators=50)\n",
      "IsolationForest {'n_estimators': 100} IsolationForest()\n",
      "IsolationForest {'n_estimators': 200} IsolationForest(n_estimators=200)\n",
      "fit IsolationForest(n_estimators=50)\n",
      "fit IsolationForest()\n",
      "fit IsolationForest(n_estimators=200)\n"
     ]
    }
   ],
   "source": [
    "OutlierPredictions = ReturnOutlierPrediction(Example_input)\n",
    "OutlierPredictions.fit(data_imputed)\n",
    "prediction = OutlierPredictions.predict(data_imputed)"
   ]
  },
  {
   "cell_type": "code",
   "execution_count": 123,
   "metadata": {},
   "outputs": [
    {
     "data": {
      "text/plain": [
       "{0: [33,\n",
       "  60,\n",
       "  66,\n",
       "  91,\n",
       "  130,\n",
       "  167,\n",
       "  211,\n",
       "  216,\n",
       "  270,\n",
       "  404,\n",
       "  416,\n",
       "  542,\n",
       "  608,\n",
       "  694,\n",
       "  697,\n",
       "  740,\n",
       "  782,\n",
       "  836,\n",
       "  1031,\n",
       "  1137,\n",
       "  1205],\n",
       " 1: [207, 681, 697, 731, 740, 1031, 1090, 1137],\n",
       " 2: [167, 681, 740, 1137]}"
      ]
     },
     "execution_count": 123,
     "metadata": {},
     "output_type": "execute_result"
    }
   ],
   "source": [
    "prediction"
   ]
  },
  {
   "cell_type": "code",
   "execution_count": null,
   "metadata": {},
   "outputs": [],
   "source": []
  },
  {
   "cell_type": "code",
   "execution_count": 151,
   "metadata": {},
   "outputs": [],
   "source": [
    "def plot_detector_votings(Detector_class, Prediction):\n",
    "    detectors = Detector_class.models\n",
    "    outliers_dict = {}\n",
    "    for model_index, prediction in Prediction.items():\n",
    "        for p in prediction:# for every outlier index in the prediction \n",
    "            if p not in outliers_dict.keys():\n",
    "                outliers_dict[p] = []\n",
    "            outliers_dict[p].append(model_index)\n",
    "    #now I hava a dictionary where the key is the outliers and values is a list of models\n",
    "    #that mark it as outlier\n",
    "    num_detectors = len(detectors)\n",
    "    result_outliers_coord = {}\n",
    "\n",
    "    #print(\"outliers dict\", outliers_dict)\n",
    "\n",
    "    for outlier, detectors_marked in outliers_dict.items():\n",
    "        zero_coord = [0] * num_detectors\n",
    "        result_outliers_coord[outlier] = zero_coord\n",
    "        for detector_index in detectors_marked:\n",
    "            result_outliers_coord[outlier][detector_index] = 1\n",
    "    \n",
    "    x = result_outliers_coord.keys()\n",
    "    #y = [ int(\"\".join(map(str,r))) for r in result_outliers_coord.values()]\n",
    "    y = [sum(r) for r in result_outliers_coord.values()]\n",
    "    plt.scatter(x,y)\n",
    "    plt.show()\n",
    "    return result_outliers_coord\n",
    "\n",
    "# we plot every possible outliers(union of all outliers predicted by all models) in the x axis and the y coordinates counts how many models\n",
    "#  have predicted it as outliers\n",
    "   \n",
    "\n",
    "    \n"
   ]
  },
  {
   "cell_type": "code",
   "execution_count": 152,
   "metadata": {},
   "outputs": [
    {
     "data": {
      "image/png": "[encoded data removed]",
      "text/plain": [
       "<Figure size 1008x576 with 1 Axes>"
      ]
     },
     "metadata": {
      "needs_background": "light"
     },
     "output_type": "display_data"
    }
   ],
   "source": [
    "res = plot_detector_votings(OutlierPredictions, prediction)\n"
   ]
  },
  {
   "cell_type": "code",
   "execution_count": null,
   "metadata": {},
   "outputs": [],
   "source": []
  },
  {
   "cell_type": "code",
   "execution_count": null,
   "metadata": {},
   "outputs": [],
   "source": []
  },
  {
   "cell_type": "code",
   "execution_count": null,
   "metadata": {},
   "outputs": [],
   "source": []
  },
  {
   "cell_type": "code",
   "execution_count": null,
   "metadata": {},
   "outputs": [],
   "source": []
  },
  {
   "cell_type": "code",
   "execution_count": null,
   "metadata": {},
   "outputs": [],
   "source": []
  },
  {
   "cell_type": "code",
   "execution_count": null,
   "metadata": {},
   "outputs": [],
   "source": []
  }
 ],
 "metadata": {
  "kernelspec": {
   "display_name": "base",
   "language": "python",
   "name": "python3"
  },
  "language_info": {
   "codemirror_mode": {
    "name": "ipython",
    "version": 3
   },
   "file_extension": ".py",
   "mimetype": "text/x-python",
   "name": "python",
   "nbconvert_exporter": "python",
   "pygments_lexer": "ipython3",
   "version": "3.9.12"
  }
 },
 "nbformat": 4,
 "nbformat_minor": 2
}
