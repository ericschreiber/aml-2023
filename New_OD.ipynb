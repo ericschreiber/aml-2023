{
 "cells": [
  {
   "cell_type": "code",
   "execution_count": 1,
   "metadata": {},
   "outputs": [],
   "source": [
    "#New outlier detector\n",
    "import numpy as np\n",
    "import pandas as pd\n",
    "import matplotlib.pyplot as plt\n",
    "import json\n",
    "\n",
    "from sktime.pipeline import make_pipeline\n",
    "from sklearn.model_selection import KFold, cross_val_score\n",
    "from sklearn.model_selection import GridSearchCV"
   ]
  },
  {
   "cell_type": "code",
   "execution_count": 2,
   "metadata": {},
   "outputs": [],
   "source": [
    "from sklearn.decomposition import PCA\n",
    "from sklearn.pipeline import Pipeline\n",
    "from sklearn.experimental import enable_iterative_imputer\n",
    "from sklearn.impute import IterativeImputer\n",
    "from sklearn.impute import SimpleImputer\n",
    "from sklearn.feature_selection import SelectKBest, f_regression\n",
    "from sklearn.preprocessing import StandardScaler\n",
    "from sklearn.metrics import r2_score, make_scorer\n",
    "from sklearn.model_selection import cross_val_score\n",
    "from sklearn.svm import SVR\n",
    "from sklearn.covariance import EllipticEnvelope\n",
    "from sklearn.ensemble import IsolationForest\n",
    "from sklearn.neighbors import LocalOutlierFactor\n",
    "from sklearn.svm import OneClassSVM"
   ]
  },
  {
   "cell_type": "code",
   "execution_count": 31,
   "metadata": {},
   "outputs": [],
   "source": [
    "plt.rcParams['figure.figsize'] = [14, 8]\n",
    "\n",
    "np.random.seed(3141592)\n",
    "\n",
    "DATA_PATH = \"data\"\n",
    "\n",
    "X_train = pd.read_csv(f'{DATA_PATH}/X_train.csv', index_col='id')\n",
    "y_train = pd.read_csv(f'{DATA_PATH}/y_train.csv', index_col='id')\n",
    "X_test = pd.read_csv(f'{DATA_PATH}/X_test.csv', index_col='id')\n",
    "data = np.concatenate([X_train, y_train], axis=1)"
   ]
  },
  {
   "cell_type": "code",
   "execution_count": 28,
   "metadata": {},
   "outputs": [
    {
     "data": {
      "text/html": [
       "<div>\n",
       "<style scoped>\n",
       "    .dataframe tbody tr th:only-of-type {\n",
       "        vertical-align: middle;\n",
       "    }\n",
       "\n",
       "    .dataframe tbody tr th {\n",
       "        vertical-align: top;\n",
       "    }\n",
       "\n",
       "    .dataframe thead th {\n",
       "        text-align: right;\n",
       "    }\n",
       "</style>\n",
       "<table border=\"1\" class=\"dataframe\">\n",
       "  <thead>\n",
       "    <tr style=\"text-align: right;\">\n",
       "      <th></th>\n",
       "      <th>y</th>\n",
       "    </tr>\n",
       "    <tr>\n",
       "      <th>id</th>\n",
       "      <th></th>\n",
       "    </tr>\n",
       "  </thead>\n",
       "  <tbody>\n",
       "    <tr>\n",
       "      <th>0.0</th>\n",
       "      <td>74.0</td>\n",
       "    </tr>\n",
       "    <tr>\n",
       "      <th>1.0</th>\n",
       "      <td>51.0</td>\n",
       "    </tr>\n",
       "    <tr>\n",
       "      <th>2.0</th>\n",
       "      <td>70.0</td>\n",
       "    </tr>\n",
       "    <tr>\n",
       "      <th>3.0</th>\n",
       "      <td>52.0</td>\n",
       "    </tr>\n",
       "    <tr>\n",
       "      <th>4.0</th>\n",
       "      <td>85.0</td>\n",
       "    </tr>\n",
       "    <tr>\n",
       "      <th>...</th>\n",
       "      <td>...</td>\n",
       "    </tr>\n",
       "    <tr>\n",
       "      <th>1207.0</th>\n",
       "      <td>70.0</td>\n",
       "    </tr>\n",
       "    <tr>\n",
       "      <th>1208.0</th>\n",
       "      <td>86.0</td>\n",
       "    </tr>\n",
       "    <tr>\n",
       "      <th>1209.0</th>\n",
       "      <td>68.0</td>\n",
       "    </tr>\n",
       "    <tr>\n",
       "      <th>1210.0</th>\n",
       "      <td>71.0</td>\n",
       "    </tr>\n",
       "    <tr>\n",
       "      <th>1211.0</th>\n",
       "      <td>53.0</td>\n",
       "    </tr>\n",
       "  </tbody>\n",
       "</table>\n",
       "<p>1212 rows × 1 columns</p>\n",
       "</div>"
      ],
      "text/plain": [
       "           y\n",
       "id          \n",
       "0.0     74.0\n",
       "1.0     51.0\n",
       "2.0     70.0\n",
       "3.0     52.0\n",
       "4.0     85.0\n",
       "...      ...\n",
       "1207.0  70.0\n",
       "1208.0  86.0\n",
       "1209.0  68.0\n",
       "1210.0  71.0\n",
       "1211.0  53.0\n",
       "\n",
       "[1212 rows x 1 columns]"
      ]
     },
     "execution_count": 28,
     "metadata": {},
     "output_type": "execute_result"
    }
   ],
   "source": []
  },
  {
   "cell_type": "code",
   "execution_count": null,
   "metadata": {},
   "outputs": [],
   "source": [
    "def remove_outliers(X, y, X_od, outlier_detector):\n",
    "    pred = outlier_detector.predict(X_od)\n",
    "    inliers = (pred == 1)\n",
    "    return X[inliers], y[inliers]\n",
    "\n",
    "def outlier_cnt(X, outlier_detector):\n",
    "    pred = outlier_detector.predict(X)\n",
    "    outlier_cnt = sum(pred == -1)\n",
    "    return outlier_cnt\n",
    "\n",
    "#export ourliers into a csv\n",
    "def export_outliers(X, y, X_od, outlier_detector):\n",
    "    pass"
   ]
  },
  {
   "cell_type": "markdown",
   "metadata": {},
   "source": [
    "The goal is to create a different plot than previous.\n",
    "That shows, \n",
    "1) For different combination of OD, which points/ how many points will be considered as outliers. \n",
    "\n",
    "2) Or for every points, which ODs have considered it to be a outliers, so we could make a majority voting afterwards. \n",
    ">>More doable"
   ]
  },
  {
   "cell_type": "markdown",
   "metadata": {},
   "source": [
    "Second idea:\n",
    "We try to create a class for each model, \n",
    "\n",
    "\n",
    "We try to create a class that receives as input a series of model's names and the corresponding parameters, then return an array that indicates, for every configuration of outlier detector(same model with different sets of parametes are consiered different configurations), which are the indices of outliers."
   ]
  },
  {
   "cell_type": "code",
   "execution_count": 49,
   "metadata": {},
   "outputs": [],
   "source": [
    "Example_input = [ {\"IsolationForest\":{'n_estimators': 50}},\n",
    "                {\"IsolationForest\":{'n_estimators': 100}},\n",
    "                {\"IsolationForest\":{'n_estimators': 200}},\n",
    "                {\"EllipticEnvelope\":{'contamination': 0.01}},\n",
    "                {\"EllipticEnvelope\": {'contamination': 0.1}},\n",
    "                {\"EllipticEnvelope\": {'contamination': 0.5}},\n",
    "                {\"LocalOutlierFactor\": {'n_neighbors': 10}},\n",
    "                {\"LocalOutlierFactor\": {'n_neighbors': 25}},\n",
    "                {\"LocalOutlierFactor\": {'n_neighbors': 50}} ]"
   ]
  },
  {
   "cell_type": "code",
   "execution_count": null,
   "metadata": {},
   "outputs": [],
   "source": []
  },
  {
   "cell_type": "code",
   "execution_count": 68,
   "metadata": {},
   "outputs": [],
   "source": [
    "Imputer = IterativeImputer(initial_strategy='median', n_nearest_features=5)\n",
    "data_imputed = Imputer.fit_transform(X_train)"
   ]
  },
  {
   "cell_type": "code",
   "execution_count": 67,
   "metadata": {},
   "outputs": [],
   "source": [
    "class ReturnOutlierPrediction:\n",
    "    def __init__(self, detector_param_list) :\n",
    "        models = []\n",
    "        for item in detector_param_list:\n",
    "            for key, value in item.items():\n",
    "                model =  eval(key)(**value)\n",
    "                print(key,value,model)\n",
    "                models.append(model)\n",
    "\n",
    "        self.models = models\n",
    "\n",
    "    def fit(self, data):\n",
    "        for model in self.models:\n",
    "            print(\"fit\",model)\n",
    "            model.fit(data)\n",
    "\n",
    "    def predict(self,data):\n",
    "        prediction = {}\n",
    "        for i, model in enumerate(self.models):\n",
    "            if  type(model).__name__ == \"LocalOutlierFactor\": #need to set novelty param\n",
    "                pred = model.fit_predict(data)\n",
    "            else:\n",
    "                pred = model.predict(data)\n",
    "                prediction[i] = pred\n",
    "        return prediction"
   ]
  },
  {
   "cell_type": "code",
   "execution_count": 69,
   "metadata": {},
   "outputs": [
    {
     "name": "stdout",
     "output_type": "stream",
     "text": [
      "IsolationForest {'n_estimators': 50} IsolationForest(n_estimators=50)\n",
      "IsolationForest {'n_estimators': 100} IsolationForest()\n",
      "IsolationForest {'n_estimators': 200} IsolationForest(n_estimators=200)\n",
      "EllipticEnvelope {'contamination': 0.01} EllipticEnvelope(contamination=0.01)\n",
      "EllipticEnvelope {'contamination': 0.1} EllipticEnvelope()\n",
      "EllipticEnvelope {'contamination': 0.5} EllipticEnvelope(contamination=0.5)\n",
      "LocalOutlierFactor {'n_neighbors': 10} LocalOutlierFactor(n_neighbors=10)\n",
      "LocalOutlierFactor {'n_neighbors': 25} LocalOutlierFactor(n_neighbors=25)\n",
      "LocalOutlierFactor {'n_neighbors': 50} LocalOutlierFactor(n_neighbors=50)\n",
      "fit IsolationForest(n_estimators=50)\n",
      "fit IsolationForest()\n",
      "fit IsolationForest(n_estimators=200)\n",
      "fit EllipticEnvelope(contamination=0.01)\n"
     ]
    },
    {
     "name": "stderr",
     "output_type": "stream",
     "text": [
      "c:\\Users\\zheng\\anaconda3\\lib\\site-packages\\sklearn\\covariance\\_robust_covariance.py:738: UserWarning: The covariance matrix associated to your dataset is not full rank\n",
      "  warnings.warn(\n"
     ]
    },
    {
     "name": "stdout",
     "output_type": "stream",
     "text": [
      "fit EllipticEnvelope()\n"
     ]
    },
    {
     "name": "stderr",
     "output_type": "stream",
     "text": [
      "c:\\Users\\zheng\\anaconda3\\lib\\site-packages\\sklearn\\covariance\\_robust_covariance.py:738: UserWarning: The covariance matrix associated to your dataset is not full rank\n",
      "  warnings.warn(\n"
     ]
    },
    {
     "name": "stdout",
     "output_type": "stream",
     "text": [
      "fit EllipticEnvelope(contamination=0.5)\n"
     ]
    },
    {
     "name": "stderr",
     "output_type": "stream",
     "text": [
      "c:\\Users\\zheng\\anaconda3\\lib\\site-packages\\sklearn\\covariance\\_robust_covariance.py:738: UserWarning: The covariance matrix associated to your dataset is not full rank\n",
      "  warnings.warn(\n"
     ]
    },
    {
     "name": "stdout",
     "output_type": "stream",
     "text": [
      "fit LocalOutlierFactor(n_neighbors=10)\n",
      "fit LocalOutlierFactor(n_neighbors=25)\n",
      "fit LocalOutlierFactor(n_neighbors=50)\n"
     ]
    }
   ],
   "source": [
    "OutlierPredictions = ReturnOutlierPrediction(Example_input)\n",
    "OutlierPredictions.fit(data_imputed)\n",
    "prediction = OutlierPredictions.predict(data_imputed)"
   ]
  },
  {
   "cell_type": "code",
   "execution_count": 77,
   "metadata": {},
   "outputs": [
    {
     "data": {
      "text/plain": [
       "1212"
      ]
     },
     "execution_count": 77,
     "metadata": {},
     "output_type": "execute_result"
    }
   ],
   "source": []
  },
  {
   "cell_type": "code",
   "execution_count": 74,
   "metadata": {},
   "outputs": [],
   "source": [
    "def plot_detector_votings(Detector_class, Prediction):\n",
    "    detectors = Detector_class.models\n",
    "    outliers_dict = {}\n",
    "    for model_index, prediction in Prediction:\n",
    "        for p in prediction:# for every outlier index in the prediction \n",
    "            if p not in outliers_dict.keys():\n",
    "                outliers_dict[p] = []\n",
    "            outliers_dict[p].append(model_index)\n",
    "    #now I hava a dictionary where the key is the outliers and values is a list of models\n",
    "    #that mark it as outlier\n",
    "    num_detectors = len(detectors)\n",
    "    result_outliers_coord = {}\n",
    "\n",
    "    for outlier, detectors_marked in outliers_dict:\n",
    "        zero_coord = [0] * num_detectors\n",
    "        result_outliers_coord[outlier] = zero_coord\n",
    "        for detector_index in detectors_marked:\n",
    "            result_outliers_coord[outlier][detector_index] = 1\n",
    "    \n",
    "    return result_outliers_coord\n",
    "   \n",
    "\n",
    "    \n"
   ]
  },
  {
   "cell_type": "code",
   "execution_count": 75,
   "metadata": {},
   "outputs": [
    {
     "ename": "TypeError",
     "evalue": "plot_detector_votings() missing 2 required positional arguments: 'Detector_class' and 'Prediction'",
     "output_type": "error",
     "traceback": [
      "\u001b[1;31m---------------------------------------------------------------------------\u001b[0m",
      "\u001b[1;31mTypeError\u001b[0m                                 Traceback (most recent call last)",
      "\u001b[1;32mc:\\Users\\zheng\\Desktop\\ETH Third Semester\\AML\\AML projects\\First\\new_outlier_deterctor\\New_OD.ipynb Cell 15\u001b[0m line \u001b[0;36m<cell line: 1>\u001b[1;34m()\u001b[0m\n\u001b[1;32m----> <a href='vscode-notebook-cell:/c%3A/Users/zheng/Desktop/ETH%20Third%20Semester/AML/AML%20projects/First/new_outlier_deterctor/New_OD.ipynb#X13sZmlsZQ%3D%3D?line=0'>1</a>\u001b[0m res \u001b[39m=\u001b[39m plot_detector_votings()\n",
      "\u001b[1;31mTypeError\u001b[0m: plot_detector_votings() missing 2 required positional arguments: 'Detector_class' and 'Prediction'"
     ]
    }
   ],
   "source": [
    "res = plot_detector_votings()"
   ]
  },
  {
   "cell_type": "code",
   "execution_count": null,
   "metadata": {},
   "outputs": [],
   "source": []
  }
 ],
 "metadata": {
  "kernelspec": {
   "display_name": "base",
   "language": "python",
   "name": "python3"
  },
  "language_info": {
   "codemirror_mode": {
    "name": "ipython",
    "version": 3
   },
   "file_extension": ".py",
   "mimetype": "text/x-python",
   "name": "python",
   "nbconvert_exporter": "python",
   "pygments_lexer": "ipython3",
   "version": "3.9.12"
  }
 },
 "nbformat": 4,
 "nbformat_minor": 2
}
