{
 "cells": [
  {
   "cell_type": "code",
   "execution_count": 156,
   "metadata": {},
   "outputs": [],
   "source": [
    "import sys\n",
    "import tqdm\n",
    "\n",
    "sys.path.append(\"..\")\n",
    "from util import load_base_data\n",
    "\n",
    "import biobss\n",
    "import os\n",
    "import numpy as np\n",
    "import matplotlib.pyplot as plt\n",
    "import pandas as pd\n",
    "import neurokit2\n",
    "\n",
    "SAMPLING_RATE = 300"
   ]
  },
  {
   "cell_type": "code",
   "execution_count": 2,
   "metadata": {},
   "outputs": [],
   "source": [
    "X_train, y_train, X_test = load_base_data()"
   ]
  },
  {
   "cell_type": "code",
   "execution_count": 184,
   "metadata": {},
   "outputs": [
    {
     "name": "stdout",
     "output_type": "stream",
     "text": [
      "Mean signal length:  17807.0 min length:  17807\n"
     ]
    }
   ],
   "source": [
    "def mean_signal(signal):\n",
    "    # cut the signal to the length of the shortest signal\n",
    "    signal = np.array(signal)\n",
    "    min_length = min([len(s) for s in signal])\n",
    "    mean_length = np.mean([len(s) for s in signal])\n",
    "    print(\"Mean signal length: \", mean_length, \"min length: \", min_length)\n",
    "    signal = [s[:min_length] for s in signal]\n",
    "    return np.mean(signal, axis=0)\n",
    "\n",
    "\n",
    "mean_train_ecg = mean_signal(X_train)"
   ]
  },
  {
   "cell_type": "code",
   "execution_count": 160,
   "metadata": {},
   "outputs": [],
   "source": [
    "def get_loc_peaks(ecg):\n",
    "    # filtered_ecg=biobss.preprocess.filter_signal(sig, sampling_rate=SAMPLING_RATE, signal_type='ECG', method='pantompkins')\n",
    "    locs_peaks = biobss.ecgtools.ecg_detectpeaks(ecg, SAMPLING_RATE, \"pantompkins\")\n",
    "    # peaks = ecg[locs_peaks]\n",
    "    # info = biobss.sqatools.check_phys(locs_peaks, SAMPLING_RATE)\n",
    "    return locs_peaks"
   ]
  },
  {
   "cell_type": "code",
   "execution_count": 48,
   "metadata": {},
   "outputs": [],
   "source": [
    "def check_difference_to_mean(ecg, mean_ecg):\n",
    "    loc_peaks = get_loc_peaks(mean_ecg)\n",
    "    info = biobss.sqatools.template_matching(ecg, loc_peaks)\n",
    "    return info"
   ]
  },
  {
   "cell_type": "code",
   "execution_count": 130,
   "metadata": {},
   "outputs": [],
   "source": [
    "def calculate_features_based_on_difference_to_mean(ecg, mean_ecg):\n",
    "    info = check_difference_to_mean(ecg, mean_ecg)\n",
    "    # compute the mean, median and std of the correlation coefficients of the peaks compared to the mean signal\n",
    "    mean = np.mean(info[0])\n",
    "    median = np.median(info[0])\n",
    "    std = np.std(info[0])\n",
    "    return mean, median, std"
   ]
  },
  {
   "cell_type": "code",
   "execution_count": 53,
   "metadata": {},
   "outputs": [],
   "source": [
    "def get_fiducials(ecg, loc_peaks):\n",
    "    _, fiducials = neurokit2.ecg_delineate(\n",
    "        ecg_cleaned=ecg, rpeaks=loc_peaks, sampling_rate=SAMPLING_RATE, method=\"peak\"\n",
    "    )\n",
    "\n",
    "    # p_peaks_locs = fiducials[\"ECG_P_Peaks\"]\n",
    "    # q_peaks_locs = fiducials[\"ECG_Q_Peaks\"]\n",
    "    # s_peaks_locs = fiducials[\"ECG_S_Peaks\"]\n",
    "    # t_peaks_locs = fiducials[\"ECG_T_Peaks\"]\n",
    "    # p_onset_locs = fiducials[\"ECG_P_Onsets\"]\n",
    "    # t_offset_locs = fiducials[\"ECG_T_Offsets\"]\n",
    "    return fiducials"
   ]
  },
  {
   "cell_type": "code",
   "execution_count": 68,
   "metadata": {},
   "outputs": [],
   "source": [
    "def compute_features_rpeaks(ecg):\n",
    "    loc_peaks = get_loc_peaks(ecg)\n",
    "    features_rpeaks = biobss.ecgtools.ecg_features.from_Rpeaks(\n",
    "        ecg, loc_peaks, SAMPLING_RATE, average=False  # take the mean outside\n",
    "    )\n",
    "    return features_rpeaks"
   ]
  },
  {
   "cell_type": "code",
   "execution_count": 69,
   "metadata": {},
   "outputs": [],
   "source": [
    "def compute_features_from_P_Q_R_S_T(ecg):\n",
    "    loc_peaks = get_loc_peaks(ecg)\n",
    "    fiducials = get_fiducials(ecg, loc_peaks)\n",
    "    features = biobss.ecgtools.ecg_features.from_waves(\n",
    "        ecg, loc_peaks, fiducials, SAMPLING_RATE, average=False  # Take the mean outside\n",
    "    )\n",
    "    return features"
   ]
  },
  {
   "cell_type": "code",
   "execution_count": 131,
   "metadata": {},
   "outputs": [],
   "source": [
    "features_based_on_difference_to_mean_test = (\n",
    "    calculate_features_based_on_difference_to_mean(X_train.iloc[0], mean_ecg)\n",
    ")\n",
    "features_rpeaks_test = compute_features_rpeaks(X_train.iloc[0])\n",
    "features_from_P_Q_R_S_T_test = compute_features_from_P_Q_R_S_T(X_train.iloc[0])"
   ]
  },
  {
   "cell_type": "code",
   "execution_count": 150,
   "metadata": {},
   "outputs": [],
   "source": [
    "def average_result(result):\n",
    "    \"\"\"input is a dict of dicts. Average over all the not nan values\n",
    "       an example is\n",
    "       1: {'ecg_a_R': -147.0,\n",
    "     'ecg_RR0': 0.36666666666666664,\n",
    "     'ecg_RR1': 0.84,\n",
    "     'ecg_RR2': 0.7766666666666666,\n",
    "     'ecg_RRm': 0.6611111111111111,\n",
    "     'ecg_RR_0_1': 0.4365079365079365,\n",
    "     'ecg_RR_2_1': 0.9246031746031745,\n",
    "     'ecg_RR_m_1': 0.7870370370370371},\n",
    "    2: {'ecg_a_R': -69.0,\n",
    "     'ecg_RR0': 0.84,\n",
    "     'ecg_RR1': 0.7766666666666666,\n",
    "     'ecg_RR2': 0.89,\n",
    "     'ecg_RRm': 0.8355555555555556,\n",
    "     'ecg_RR_0_1': 1.0815450643776825,\n",
    "     'ecg_RR_2_1': 1.145922746781116,\n",
    "     'ecg_RR_m_1': 1.0758226037195995},\"\"\"\n",
    "    number_of_results = sorted(list(result.keys()))\n",
    "\n",
    "    if len(number_of_results) <= 0:\n",
    "        print(\"No results to average over\")\n",
    "        print(result)\n",
    "        return [], []\n",
    "    # get all keys\n",
    "    keys = list(result[number_of_results[0]].keys())\n",
    "    # create a dict with empty lists\n",
    "    averaged_result = {key: [] for key in keys}\n",
    "    std_result = {key: [] for key in keys}\n",
    "    # iterate over all the results\n",
    "    for index in number_of_results:\n",
    "        r = result[index]\n",
    "        # iterate over all the keys\n",
    "        for key in keys:\n",
    "            # if the value is not nan\n",
    "            if not np.isnan(r[key]):\n",
    "                # append it to the list\n",
    "                averaged_result[key].append(r[key])\n",
    "    # compute the mean of all the values\n",
    "    for key in keys:\n",
    "        std_result[key] = np.std(averaged_result[key])\n",
    "        averaged_result[key] = np.mean(averaged_result[key])\n",
    "\n",
    "    # sort the keys alphabetically and return a list of the values and a list of the keys\n",
    "    sorted_keys = sorted(averaged_result.keys())\n",
    "\n",
    "    # rename key to mean_key and std_key\n",
    "    return_keys = []\n",
    "    for key in sorted_keys:\n",
    "        return_keys.append(key + \"_mean\")\n",
    "        return_keys.append(key + \"_std\")\n",
    "\n",
    "    return_values = []\n",
    "    for key in sorted_keys:\n",
    "        return_values.append(averaged_result[key])\n",
    "        return_values.append(std_result[key])\n",
    "    return return_values, return_keys"
   ]
  },
  {
   "cell_type": "code",
   "execution_count": 144,
   "metadata": {},
   "outputs": [
    {
     "name": "stdout",
     "output_type": "stream",
     "text": [
      "No results to average over\n",
      "{1: {'ecg_a_R': -147.0, 'ecg_RR0': 0.36666666666666664, 'ecg_RR1': 0.84, 'ecg_RR2': 0.7766666666666666, 'ecg_RRm': 0.6611111111111111, 'ecg_RR_0_1': 0.4365079365079365, 'ecg_RR_2_1': 0.9246031746031745, 'ecg_RR_m_1': 0.7870370370370371}, 2: {'ecg_a_R': -69.0, 'ecg_RR0': 0.84, 'ecg_RR1': 0.7766666666666666, 'ecg_RR2': 0.89, 'ecg_RRm': 0.8355555555555556, 'ecg_RR_0_1': 1.0815450643776825, 'ecg_RR_2_1': 1.145922746781116, 'ecg_RR_m_1': 1.0758226037195995}, 3: {'ecg_a_R': 399.0, 'ecg_RR0': 0.7766666666666666, 'ecg_RR1': 0.89, 'ecg_RR2': 0.8533333333333334, 'ecg_RRm': 0.84, 'ecg_RR_0_1': 0.8726591760299625, 'ecg_RR_2_1': 0.9588014981273408, 'ecg_RR_m_1': 0.9438202247191011}, 4: {'ecg_a_R': -46.0, 'ecg_RR0': 0.89, 'ecg_RR1': 0.8533333333333334, 'ecg_RR2': 0.8433333333333334, 'ecg_RRm': 0.8622222222222223, 'ecg_RR_0_1': 1.04296875, 'ecg_RR_2_1': 0.98828125, 'ecg_RR_m_1': 1.0104166666666667}, 5: {'ecg_a_R': -80.0, 'ecg_RR0': 0.8533333333333334, 'ecg_RR1': 0.8433333333333334, 'ecg_RR2': 0.84, 'ecg_RRm': 0.8455555555555555, 'ecg_RR_0_1': 1.0118577075098814, 'ecg_RR_2_1': 0.9960474308300394, 'ecg_RR_m_1': 1.002635046113307}, 6: {'ecg_a_R': -32.0, 'ecg_RR0': 0.8433333333333334, 'ecg_RR1': 0.84, 'ecg_RR2': 0.8533333333333334, 'ecg_RRm': 0.8455555555555555, 'ecg_RR_0_1': 1.003968253968254, 'ecg_RR_2_1': 1.015873015873016, 'ecg_RR_m_1': 1.0066137566137565}, 7: {'ecg_a_R': -23.0, 'ecg_RR0': 0.84, 'ecg_RR1': 0.8533333333333334, 'ecg_RR2': 0.8466666666666667, 'ecg_RRm': 0.8466666666666667, 'ecg_RR_0_1': 0.9843749999999999, 'ecg_RR_2_1': 0.9921875, 'ecg_RR_m_1': 0.9921875}, 8: {'ecg_a_R': -92.0, 'ecg_RR0': 0.8533333333333334, 'ecg_RR1': 0.8466666666666667, 'ecg_RR2': 0.8366666666666667, 'ecg_RRm': 0.8455555555555557, 'ecg_RR_0_1': 1.0078740157480315, 'ecg_RR_2_1': 0.9881889763779528, 'ecg_RR_m_1': 0.9986876640419949}, 9: {'ecg_a_R': -78.0, 'ecg_RR0': 0.8466666666666667, 'ecg_RR1': 0.8366666666666667, 'ecg_RR2': 0.8433333333333334, 'ecg_RRm': 0.8422222222222223, 'ecg_RR_0_1': 1.0119521912350598, 'ecg_RR_2_1': 1.0079681274900398, 'ecg_RR_m_1': 1.0066401062417}, 10: {'ecg_a_R': -73.0, 'ecg_RR0': 0.8366666666666667, 'ecg_RR1': 0.8433333333333334, 'ecg_RR2': 0.8366666666666667, 'ecg_RRm': 0.8388888888888889, 'ecg_RR_0_1': 0.992094861660079, 'ecg_RR_2_1': 0.992094861660079, 'ecg_RR_m_1': 0.994729907773386}, 11: {'ecg_a_R': -56.0, 'ecg_RR0': 0.8433333333333334, 'ecg_RR1': 0.8366666666666667, 'ecg_RR2': 0.8466666666666667, 'ecg_RRm': 0.8422222222222223, 'ecg_RR_0_1': 1.0079681274900398, 'ecg_RR_2_1': 1.0119521912350598, 'ecg_RR_m_1': 1.0066401062417}, 12: {'ecg_a_R': -81.0, 'ecg_RR0': 0.8366666666666667, 'ecg_RR1': 0.8466666666666667, 'ecg_RR2': 0.8233333333333334, 'ecg_RRm': 0.8355555555555556, 'ecg_RR_0_1': 0.9881889763779528, 'ecg_RR_2_1': 0.9724409448818898, 'ecg_RR_m_1': 0.9868766404199476}, 13: {'ecg_a_R': -108.0, 'ecg_RR0': 0.8466666666666667, 'ecg_RR1': 0.8233333333333334, 'ecg_RR2': 0.8333333333333334, 'ecg_RRm': 0.8344444444444444, 'ecg_RR_0_1': 1.0283400809716599, 'ecg_RR_2_1': 1.0121457489878543, 'ecg_RR_m_1': 1.0134952766531713}, 14: {'ecg_a_R': -74.0, 'ecg_RR0': 0.8233333333333334, 'ecg_RR1': 0.8333333333333334, 'ecg_RR2': 0.8533333333333334, 'ecg_RRm': 0.8366666666666668, 'ecg_RR_0_1': 0.988, 'ecg_RR_2_1': 1.024, 'ecg_RR_m_1': 1.004}, 15: {'ecg_a_R': -58.0, 'ecg_RR0': 0.8333333333333334, 'ecg_RR1': 0.8533333333333334, 'ecg_RR2': 0.83, 'ecg_RRm': 0.8388888888888889, 'ecg_RR_0_1': 0.9765625, 'ecg_RR_2_1': 0.9726562499999999, 'ecg_RR_m_1': 0.9830729166666666}, 16: {'ecg_a_R': -67.0, 'ecg_RR0': 0.8533333333333334, 'ecg_RR1': 0.83, 'ecg_RR2': 0.82, 'ecg_RRm': 0.8344444444444444, 'ecg_RR_0_1': 1.028112449799197, 'ecg_RR_2_1': 0.9879518072289156, 'ecg_RR_m_1': 1.0053547523427042}, 17: {'ecg_a_R': -8.0, 'ecg_RR0': 0.83, 'ecg_RR1': 0.82, 'ecg_RR2': 0.79, 'ecg_RRm': 0.8133333333333334, 'ecg_RR_0_1': 1.0121951219512195, 'ecg_RR_2_1': 0.9634146341463415, 'ecg_RR_m_1': 0.9918699186991871}, 18: {'ecg_a_R': -55.0, 'ecg_RR0': 0.82, 'ecg_RR1': 0.79, 'ecg_RR2': 0.8566666666666667, 'ecg_RRm': 0.8222222222222223, 'ecg_RR_0_1': 1.0379746835443038, 'ecg_RR_2_1': 1.0843881856540085, 'ecg_RR_m_1': 1.0407876230661042}, 19: {'ecg_a_R': 518.0, 'ecg_RR0': 0.79, 'ecg_RR1': 0.8566666666666667, 'ecg_RR2': 0.81, 'ecg_RRm': 0.818888888888889, 'ecg_RR_0_1': 0.9221789883268483, 'ecg_RR_2_1': 0.9455252918287939, 'ecg_RR_m_1': 0.9559014267185475}, 20: {'ecg_a_R': -48.0, 'ecg_RR0': 0.8566666666666667, 'ecg_RR1': 0.81, 'ecg_RR2': 0.8, 'ecg_RRm': 0.8222222222222223, 'ecg_RR_0_1': 1.0576131687242798, 'ecg_RR_2_1': 0.9876543209876543, 'ecg_RR_m_1': 1.0150891632373114}, 21: {'ecg_a_R': -93.0, 'ecg_RR0': 0.81, 'ecg_RR1': 0.8, 'ecg_RR2': 0.8, 'ecg_RRm': 0.8033333333333333, 'ecg_RR_0_1': 1.0125, 'ecg_RR_2_1': 1.0, 'ecg_RR_m_1': 1.0041666666666667}, 22: {'ecg_a_R': -89.0, 'ecg_RR0': 0.8, 'ecg_RR1': 0.8, 'ecg_RR2': 0.7733333333333333, 'ecg_RRm': 0.7911111111111112, 'ecg_RR_0_1': 1.0, 'ecg_RR_2_1': 0.9666666666666666, 'ecg_RR_m_1': 0.9888888888888889}, 23: {'ecg_a_R': -81.0, 'ecg_RR0': 0.8, 'ecg_RR1': 0.7733333333333333, 'ecg_RR2': 0.7866666666666666, 'ecg_RRm': 0.7866666666666666, 'ecg_RR_0_1': 1.0344827586206897, 'ecg_RR_2_1': 1.0172413793103448, 'ecg_RR_m_1': 1.0172413793103448}, 24: {'ecg_a_R': -69.0, 'ecg_RR0': 0.7733333333333333, 'ecg_RR1': 0.7866666666666666, 'ecg_RR2': 0.79, 'ecg_RRm': 0.7833333333333333, 'ecg_RR_0_1': 0.9830508474576272, 'ecg_RR_2_1': 1.0042372881355932, 'ecg_RR_m_1': 0.9957627118644068}, 25: {'ecg_a_R': -75.0, 'ecg_RR0': 0.7866666666666666, 'ecg_RR1': 0.79, 'ecg_RR2': 0.7833333333333333, 'ecg_RRm': 0.7866666666666666, 'ecg_RR_0_1': 0.9957805907172995, 'ecg_RR_2_1': 0.9915611814345991, 'ecg_RR_m_1': 0.9957805907172995}, 26: {'ecg_a_R': -86.0, 'ecg_RR0': 0.79, 'ecg_RR1': 0.7833333333333333, 'ecg_RR2': 0.7933333333333333, 'ecg_RRm': 0.7888888888888889, 'ecg_RR_0_1': 1.0085106382978724, 'ecg_RR_2_1': 1.0127659574468084, 'ecg_RR_m_1': 1.0070921985815602}, 27: {'ecg_a_R': -19.0, 'ecg_RR0': 0.7833333333333333, 'ecg_RR1': 0.7933333333333333, 'ecg_RR2': 0.7766666666666666, 'ecg_RRm': 0.7844444444444445, 'ecg_RR_0_1': 0.9873949579831932, 'ecg_RR_2_1': 0.9789915966386554, 'ecg_RR_m_1': 0.988795518207283}, 28: {'ecg_a_R': -106.0, 'ecg_RR0': 0.7933333333333333, 'ecg_RR1': 0.7766666666666666, 'ecg_RR2': 0.7533333333333333, 'ecg_RRm': 0.7744444444444444, 'ecg_RR_0_1': 1.0214592274678111, 'ecg_RR_2_1': 0.9699570815450644, 'ecg_RR_m_1': 0.9971387696709585}, 29: {'ecg_a_R': -94.0, 'ecg_RR0': 0.7766666666666666, 'ecg_RR1': 0.7533333333333333, 'ecg_RR2': 0.7566666666666667, 'ecg_RRm': 0.7622222222222222, 'ecg_RR_0_1': 1.0309734513274336, 'ecg_RR_2_1': 1.004424778761062, 'ecg_RR_m_1': 1.0117994100294987}, 30: {'ecg_a_R': -84.0, 'ecg_RR0': 0.7533333333333333, 'ecg_RR1': 0.7566666666666667, 'ecg_RR2': 0.7833333333333333, 'ecg_RRm': 0.7644444444444445, 'ecg_RR_0_1': 0.9955947136563875, 'ecg_RR_2_1': 1.0352422907488985, 'ecg_RR_m_1': 1.0102790014684289}, 31: {'ecg_a_R': -26.0, 'ecg_RR0': 0.7566666666666667, 'ecg_RR1': 0.7833333333333333, 'ecg_RR2': 0.8066666666666666, 'ecg_RRm': 0.7822222222222223, 'ecg_RR_0_1': 0.9659574468085107, 'ecg_RR_2_1': 1.0297872340425531, 'ecg_RR_m_1': 0.998581560283688}, 32: {'ecg_a_R': -60.0, 'ecg_RR0': 0.7833333333333333, 'ecg_RR1': 0.8066666666666666, 'ecg_RR2': 0.8066666666666666, 'ecg_RRm': 0.7988888888888889, 'ecg_RR_0_1': 0.9710743801652892, 'ecg_RR_2_1': 1.0, 'ecg_RR_m_1': 0.990358126721763}, 33: {'ecg_a_R': 5.0, 'ecg_RR0': 0.8066666666666666, 'ecg_RR1': 0.8066666666666666, 'ecg_RR2': 0.8133333333333334, 'ecg_RRm': 0.8088888888888889, 'ecg_RR_0_1': 1.0, 'ecg_RR_2_1': 1.0082644628099173, 'ecg_RR_m_1': 1.002754820936639}, 34: {'ecg_a_R': 83.0, 'ecg_RR0': 0.8066666666666666, 'ecg_RR1': 0.8133333333333334, 'ecg_RR2': 0.8166666666666667, 'ecg_RRm': 0.8122222222222222, 'ecg_RR_0_1': 0.9918032786885246, 'ecg_RR_2_1': 1.0040983606557377, 'ecg_RR_m_1': 0.9986338797814207}, 35: {'ecg_a_R': 80.0, 'ecg_RR0': 0.8133333333333334, 'ecg_RR1': 0.8166666666666667, 'ecg_RR2': 0.8266666666666667, 'ecg_RRm': 0.8188888888888889, 'ecg_RR_0_1': 0.9959183673469388, 'ecg_RR_2_1': 1.0122448979591836, 'ecg_RR_m_1': 1.002721088435374}, 36: {'ecg_a_R': 188.0, 'ecg_RR0': 0.8166666666666667, 'ecg_RR1': 0.8266666666666667, 'ecg_RR2': 0.8366666666666667, 'ecg_RRm': 0.8266666666666667, 'ecg_RR_0_1': 0.9879032258064516, 'ecg_RR_2_1': 1.0120967741935485, 'ecg_RR_m_1': 1.0}, 37: {'ecg_a_R': -83.0, 'ecg_RR0': 0.8266666666666667, 'ecg_RR1': 0.8366666666666667, 'ecg_RR2': 0.8266666666666667, 'ecg_RRm': 0.8300000000000001, 'ecg_RR_0_1': 0.9880478087649402, 'ecg_RR_2_1': 0.9880478087649402, 'ecg_RR_m_1': 0.9920318725099603}, 38: {'ecg_a_R': 80.0, 'ecg_RR0': 0.8366666666666667, 'ecg_RR1': 0.8266666666666667, 'ecg_RR2': 0.83, 'ecg_RRm': 0.831111111111111, 'ecg_RR_0_1': 1.0120967741935485, 'ecg_RR_2_1': 1.004032258064516, 'ecg_RR_m_1': 1.0053763440860215}, 39: {'ecg_a_R': -150.0, 'ecg_RR0': 0.8266666666666667, 'ecg_RR1': 0.83, 'ecg_RR2': 0.84, 'ecg_RRm': 0.8322222222222222, 'ecg_RR_0_1': 0.995983935742972, 'ecg_RR_2_1': 1.0120481927710843, 'ecg_RR_m_1': 1.002677376171352}, 40: {'ecg_a_R': -80.0, 'ecg_RR0': 0.83, 'ecg_RR1': 0.84, 'ecg_RR2': 0.82, 'ecg_RRm': 0.83, 'ecg_RR_0_1': 0.9880952380952381, 'ecg_RR_2_1': 0.9761904761904762, 'ecg_RR_m_1': 0.9880952380952381}, 41: {'ecg_a_R': -162.0, 'ecg_RR0': 0.84, 'ecg_RR1': 0.82, 'ecg_RR2': 0.83, 'ecg_RRm': 0.83, 'ecg_RR_0_1': 1.024390243902439, 'ecg_RR_2_1': 1.0121951219512195, 'ecg_RR_m_1': 1.0121951219512195}, 42: {'ecg_a_R': 28.0, 'ecg_RR0': 0.82, 'ecg_RR1': 0.83, 'ecg_RR2': 0.8233333333333334, 'ecg_RRm': 0.8244444444444444, 'ecg_RR_0_1': 0.9879518072289156, 'ecg_RR_2_1': 0.9919678714859439, 'ecg_RR_m_1': 0.9933065595716198}, 43: {'ecg_a_R': -54.0, 'ecg_RR0': 0.83, 'ecg_RR1': 0.8233333333333334, 'ecg_RR2': 0.8366666666666667, 'ecg_RRm': 0.8300000000000001, 'ecg_RR_0_1': 1.0080971659919027, 'ecg_RR_2_1': 1.0161943319838056, 'ecg_RR_m_1': 1.008097165991903}, 44: {'ecg_a_R': -123.0, 'ecg_RR0': 0.8233333333333334, 'ecg_RR1': 0.8366666666666667, 'ecg_RR2': 0.83, 'ecg_RRm': 0.8300000000000001, 'ecg_RR_0_1': 0.9840637450199203, 'ecg_RR_2_1': 0.99203187250996, 'ecg_RR_m_1': 0.9920318725099603}, 45: {'ecg_a_R': -56.0, 'ecg_RR0': 0.8366666666666667, 'ecg_RR1': 0.83, 'ecg_RR2': 0.8366666666666667, 'ecg_RRm': 0.8344444444444443, 'ecg_RR_0_1': 1.0080321285140563, 'ecg_RR_2_1': 1.0080321285140563, 'ecg_RR_m_1': 1.005354752342704}, 46: {'ecg_a_R': -70.0, 'ecg_RR0': 0.83, 'ecg_RR1': 0.8366666666666667, 'ecg_RR2': 0.83, 'ecg_RRm': 0.8322222222222222, 'ecg_RR_0_1': 0.99203187250996, 'ecg_RR_2_1': 0.99203187250996, 'ecg_RR_m_1': 0.9946879150066401}, 47: {'ecg_a_R': -73.0, 'ecg_RR0': 0.8366666666666667, 'ecg_RR1': 0.83, 'ecg_RR2': 0.7866666666666666, 'ecg_RRm': 0.8177777777777777, 'ecg_RR_0_1': 1.0080321285140563, 'ecg_RR_2_1': 0.9477911646586346, 'ecg_RR_m_1': 0.9852744310575635}, 48: {'ecg_a_R': -81.0, 'ecg_RR0': 0.83, 'ecg_RR1': 0.7866666666666666, 'ecg_RR2': 0.8733333333333333, 'ecg_RRm': 0.8300000000000001, 'ecg_RR_0_1': 1.055084745762712, 'ecg_RR_2_1': 1.1101694915254237, 'ecg_RR_m_1': 1.055084745762712}, 49: {'ecg_a_R': 502.0, 'ecg_RR0': 0.7866666666666666, 'ecg_RR1': 0.8733333333333333, 'ecg_RR2': 0.8333333333333334, 'ecg_RRm': 0.831111111111111, 'ecg_RR_0_1': 0.9007633587786259, 'ecg_RR_2_1': 0.9541984732824428, 'ecg_RR_m_1': 0.9516539440203562}, 50: {'ecg_a_R': -49.0, 'ecg_RR0': 0.8733333333333333, 'ecg_RR1': 0.8333333333333334, 'ecg_RR2': 0.8933333333333333, 'ecg_RRm': 0.8666666666666666, 'ecg_RR_0_1': 1.0479999999999998, 'ecg_RR_2_1': 1.0719999999999998, 'ecg_RR_m_1': 1.0399999999999998}, 51: {'ecg_a_R': -55.0, 'ecg_RR0': 0.8333333333333334, 'ecg_RR1': 0.8933333333333333, 'ecg_RR2': 0.7933333333333333, 'ecg_RRm': 0.84, 'ecg_RR_0_1': 0.9328358208955224, 'ecg_RR_2_1': 0.8880597014925373, 'ecg_RR_m_1': 0.9402985074626865}, 52: {'ecg_a_R': -64.0, 'ecg_RR0': 0.8933333333333333, 'ecg_RR1': 0.7933333333333333, 'ecg_RR2': 0.78, 'ecg_RRm': 0.8222222222222223, 'ecg_RR_0_1': 1.1260504201680672, 'ecg_RR_2_1': 0.9831932773109244, 'ecg_RR_m_1': 1.0364145658263306}, 53: {'ecg_a_R': -13.0, 'ecg_RR0': 0.7933333333333333, 'ecg_RR1': 0.78, 'ecg_RR2': 0.8666666666666667, 'ecg_RRm': 0.8133333333333334, 'ecg_RR_0_1': 1.017094017094017, 'ecg_RR_2_1': 1.1111111111111112, 'ecg_RR_m_1': 1.0427350427350428}, 54: {'ecg_a_R': 519.0, 'ecg_RR0': 0.78, 'ecg_RR1': 0.8666666666666667, 'ecg_RR2': 0.8366666666666667, 'ecg_RRm': 0.8277777777777778, 'ecg_RR_0_1': 0.9, 'ecg_RR_2_1': 0.9653846153846154, 'ecg_RR_m_1': 0.9551282051282052}, 55: {'ecg_a_R': -76.0, 'ecg_RR0': 0.8666666666666667, 'ecg_RR1': 0.8366666666666667, 'ecg_RR2': 0.84, 'ecg_RRm': 0.8477777777777779, 'ecg_RR_0_1': 1.0358565737051793, 'ecg_RR_2_1': 1.00398406374502, 'ecg_RR_m_1': 1.0132802124833997}, 56: {'ecg_a_R': -88.0, 'ecg_RR0': 0.8366666666666667, 'ecg_RR1': 0.84, 'ecg_RR2': 0.8333333333333334, 'ecg_RRm': 0.8366666666666668, 'ecg_RR_0_1': 0.996031746031746, 'ecg_RR_2_1': 0.9920634920634921, 'ecg_RR_m_1': 0.9960317460317462}, 57: {'ecg_a_R': -136.0, 'ecg_RR0': 0.84, 'ecg_RR1': 0.8333333333333334, 'ecg_RR2': 0.84, 'ecg_RRm': 0.8377777777777777, 'ecg_RR_0_1': 1.008, 'ecg_RR_2_1': 1.008, 'ecg_RR_m_1': 1.0053333333333332}, 58: {'ecg_a_R': 12.0, 'ecg_RR0': 0.8333333333333334, 'ecg_RR1': 0.84, 'ecg_RR2': 0.8366666666666667, 'ecg_RRm': 0.8366666666666666, 'ecg_RR_0_1': 0.9920634920634921, 'ecg_RR_2_1': 0.996031746031746, 'ecg_RR_m_1': 0.9960317460317459}, 59: {'ecg_a_R': -34.0, 'ecg_RR0': 0.84, 'ecg_RR1': 0.8366666666666667, 'ecg_RR2': 0.8433333333333334, 'ecg_RRm': 0.84, 'ecg_RR_0_1': 1.00398406374502, 'ecg_RR_2_1': 1.0079681274900398, 'ecg_RR_m_1': 1.00398406374502}, 60: {'ecg_a_R': -103.0, 'ecg_RR0': 0.8366666666666667, 'ecg_RR1': 0.8433333333333334, 'ecg_RR2': 0.8333333333333334, 'ecg_RRm': 0.8377777777777778, 'ecg_RR_0_1': 0.992094861660079, 'ecg_RR_2_1': 0.9881422924901185, 'ecg_RR_m_1': 0.9934123847167325}, 61: {'ecg_a_R': -64.0, 'ecg_RR0': 0.8433333333333334, 'ecg_RR1': 0.8333333333333334, 'ecg_RR2': 0.8266666666666667, 'ecg_RRm': 0.8344444444444444, 'ecg_RR_0_1': 1.012, 'ecg_RR_2_1': 0.992, 'ecg_RR_m_1': 1.0013333333333332}, 62: {'ecg_a_R': -37.0, 'ecg_RR0': 0.8333333333333334, 'ecg_RR1': 0.8266666666666667, 'ecg_RR2': 0.84, 'ecg_RRm': 0.8333333333333334, 'ecg_RR_0_1': 1.0080645161290323, 'ecg_RR_2_1': 1.0161290322580645, 'ecg_RR_m_1': 1.0080645161290323}, 63: {'ecg_a_R': -72.0, 'ecg_RR0': 0.8266666666666667, 'ecg_RR1': 0.84, 'ecg_RR2': 0.8266666666666667, 'ecg_RRm': 0.831111111111111, 'ecg_RR_0_1': 0.9841269841269842, 'ecg_RR_2_1': 0.9841269841269842, 'ecg_RR_m_1': 0.9894179894179893}, 64: {'ecg_a_R': -85.0, 'ecg_RR0': 0.84, 'ecg_RR1': 0.8266666666666667, 'ecg_RR2': 0.8133333333333334, 'ecg_RRm': 0.8266666666666667, 'ecg_RR_0_1': 1.0161290322580645, 'ecg_RR_2_1': 0.9838709677419355, 'ecg_RR_m_1': 1.0}}\n"
     ]
    },
    {
     "data": {
      "text/plain": [
       "([0.8164583333333333,\n",
       "  0.06360106513346385,\n",
       "  0.8236458333333333,\n",
       "  0.028877848284243373,\n",
       "  0.8232291666666667,\n",
       "  0.028831218311156325,\n",
       "  0.9921928659291079,\n",
       "  0.07982498319270012,\n",
       "  1.0002605372265776,\n",
       "  0.03958271714975402,\n",
       "  0.9974844677185619,\n",
       "  0.034642660812381286,\n",
       "  0.8211111111111111,\n",
       "  0.0299607510743351,\n",
       "  -22.984375,\n",
       "  143.15054271940213],\n",
       " ['ecg_RR0_mean',\n",
       "  'ecg_RR0_std',\n",
       "  'ecg_RR1_mean',\n",
       "  'ecg_RR1_std',\n",
       "  'ecg_RR2_mean',\n",
       "  'ecg_RR2_std',\n",
       "  'ecg_RR_0_1_mean',\n",
       "  'ecg_RR_0_1_std',\n",
       "  'ecg_RR_2_1_mean',\n",
       "  'ecg_RR_2_1_std',\n",
       "  'ecg_RR_m_1_mean',\n",
       "  'ecg_RR_m_1_std',\n",
       "  'ecg_RRm_mean',\n",
       "  'ecg_RRm_std',\n",
       "  'ecg_a_R_mean',\n",
       "  'ecg_a_R_std'])"
      ]
     },
     "execution_count": 144,
     "metadata": {},
     "output_type": "execute_result"
    }
   ],
   "source": [
    "average_result(features_rpeaks_test)"
   ]
  },
  {
   "cell_type": "code",
   "execution_count": 185,
   "metadata": {},
   "outputs": [],
   "source": [
    "def make_all_features(ecg_pandas, mean_train_ecg):\n",
    "    ecg_array = ecg_pandas.to_numpy()\n",
    "    print(ecg_array[0].shape)\n",
    "\n",
    "    feature_names = [\n",
    "        \"Mean correlation to the average signal\",\n",
    "        \"Median correlation to the average signal\",\n",
    "        \"Std correlation to the average signal\",\n",
    "    ]\n",
    "    feature_names = (\n",
    "        feature_names + average_result(compute_features_rpeaks(ecg_array[0]))[1]\n",
    "    )\n",
    "    feature_names = (\n",
    "        feature_names + average_result(compute_features_from_P_Q_R_S_T(ecg_array[0]))[1]\n",
    "    )\n",
    "\n",
    "    num_features_for_rpeaks = len(\n",
    "        average_result(compute_features_rpeaks(ecg_array[0]))[1]\n",
    "    )\n",
    "    num_features_for_P_Q_R_S_T = len(\n",
    "        average_result(compute_features_from_P_Q_R_S_T(ecg_array[0]))[1]\n",
    "    )\n",
    "\n",
    "    mean_ecg = mean_train_ecg\n",
    "    features_based_on_difference_to_mean = []\n",
    "    features_rpeaks = []\n",
    "    features_from_P_Q_R_S_T = []\n",
    "    droped_indices = []\n",
    "    for index, ecg in tqdm.tqdm(enumerate(ecg_array)):\n",
    "        features_based_on_difference_to_mean.append(\n",
    "            calculate_features_based_on_difference_to_mean(ecg, mean_ecg)\n",
    "        )\n",
    "        interim_features_rpeaks = average_result(compute_features_rpeaks(ecg))\n",
    "        if len(interim_features_rpeaks[1]) != num_features_for_rpeaks:\n",
    "            print(\n",
    "                f\"ERROR: Number of features for rpeaks is not consistent, Droping index {index}\"\n",
    "            )\n",
    "            droped_indices.append(index)\n",
    "            features_based_on_difference_to_mean.pop()\n",
    "        else:\n",
    "            features_rpeaks.append(interim_features_rpeaks[0])\n",
    "\n",
    "            interim_features_from_P_Q_R_S_T = average_result(\n",
    "                compute_features_from_P_Q_R_S_T(ecg)\n",
    "            )\n",
    "            if len(interim_features_from_P_Q_R_S_T[1]) != num_features_for_P_Q_R_S_T:\n",
    "                print(\n",
    "                    f\"ERROR: Number of features for P_Q_R_S_T is not consistent, Droping index {index}\"\n",
    "                )\n",
    "                droped_indices.append(index)\n",
    "            else:\n",
    "                features_from_P_Q_R_S_T.append(interim_features_from_P_Q_R_S_T[0])\n",
    "\n",
    "    # make np array\n",
    "    features_based_on_difference_to_mean = np.array(\n",
    "        features_based_on_difference_to_mean\n",
    "    )\n",
    "    features_rpeaks = np.array(features_rpeaks)\n",
    "    features_from_P_Q_R_S_T = np.array(features_from_P_Q_R_S_T)\n",
    "\n",
    "    return (\n",
    "        np.concatenate(\n",
    "            (\n",
    "                features_based_on_difference_to_mean,\n",
    "                features_rpeaks,\n",
    "                features_from_P_Q_R_S_T,\n",
    "            ),\n",
    "            axis=1,\n",
    "        ),\n",
    "        feature_names,\n",
    "        droped_indices,\n",
    "    )"
   ]
  },
  {
   "cell_type": "code",
   "execution_count": 186,
   "metadata": {},
   "outputs": [
    {
     "name": "stdout",
     "output_type": "stream",
     "text": [
      "(17807,)\n"
     ]
    },
    {
     "name": "stderr",
     "output_type": "stream",
     "text": [
      "2it [00:00,  6.18it/s]\n"
     ]
    },
    {
     "data": {
      "text/plain": [
       "(array([[ 2.72666876e-01,  2.78979461e-01,  3.24436380e-01,\n",
       "          8.16458333e-01,  6.36010651e-02,  8.23645833e-01,\n",
       "          2.88778483e-02,  8.23229167e-01,  2.88312183e-02,\n",
       "          9.92192866e-01,  7.98249832e-02,  1.00026054e+00,\n",
       "          3.95827171e-02,  9.97484468e-01,  3.46426608e-02,\n",
       "          8.21111111e-01,  2.99607511e-02, -2.29843750e+01,\n",
       "          1.43150543e+02, -1.50303030e+02,  1.36208727e+02,\n",
       "          9.04253571e-01,  5.77364717e-01,  1.90349863e+00,\n",
       "          2.92669222e+01,  1.29132402e+01,  8.13911554e+01,\n",
       "         -1.23619045e-01,  3.34376035e+00,  2.49982043e+00,\n",
       "          7.72055974e+00, -1.70838710e+02,  1.49281850e+02,\n",
       "          1.32644068e+02,  1.58040304e+02,  5.08636364e+01,\n",
       "          1.46347230e+02, -1.66935484e+01,  4.26677293e+01,\n",
       "          2.82152542e+02,  8.50441189e+01, -6.75555556e+01,\n",
       "          1.41062046e+02,  1.03567758e+00,  8.38101046e+00,\n",
       "          3.75615526e-01,  8.74806200e+00, -2.19690892e-01,\n",
       "          5.34801962e-01,  2.98033333e+02,  8.65967603e+01,\n",
       "         -2.73051990e+00,  1.23283225e+00, -8.17404807e+00,\n",
       "          7.20072390e+01,  9.85667715e-01,  5.22262465e-01,\n",
       "          8.30808081e-02,  2.94238194e-02,  1.64949495e-01,\n",
       "          4.02987264e-02,  2.37365591e-01,  8.69044239e-02,\n",
       "          4.14519774e-01,  5.10446897e-02,  3.38391228e+00,\n",
       "          1.25615848e+00,  8.18686869e-02,  2.60285313e-02,\n",
       "          1.53494624e-01,  9.10756655e-02,  3.29717514e-01,\n",
       "          4.47646624e-02,  2.66919467e+00,  9.70795339e-01,\n",
       "          7.24338624e-02,  8.93168396e-02,  2.48055556e-01,\n",
       "          3.75415408e-02,  1.84166667e-01,  4.84371490e-02],\n",
       "        [ 1.84545384e-01,  2.42230166e-01,  2.74690993e-01,\n",
       "          7.69411765e-01,  1.02151594e-01,  7.86470588e-01,\n",
       "          7.10377842e-02,  7.89313725e-01,  7.23769156e-02,\n",
       "          9.86294710e-01,  1.59648317e-01,  1.01151487e+00,\n",
       "          1.28107282e-01,  9.99269860e-01,  8.03277471e-02,\n",
       "          7.81732026e-01,  4.91623304e-02, -6.59411765e+01,\n",
       "          1.42622278e+02, -2.42794118e+02,  1.51984283e+02,\n",
       "          1.99212342e+00,  3.39219821e+00, -5.36505758e-01,\n",
       "          2.37725312e+00, -1.87893292e+00,  6.90021485e+00,\n",
       "         -1.53787969e+00,  2.86729499e+00, -1.73686435e-01,\n",
       "          2.45430804e+01, -1.71000000e+02,  1.61343353e+02,\n",
       "         -1.01035714e+02,  1.73679813e+02,  2.58611111e+01,\n",
       "          1.57593209e+02,  7.69090909e+01,  1.42791300e+02,\n",
       "          1.51413793e+02,  1.55207651e+02,  4.15294118e+01,\n",
       "          1.27935700e+02, -8.99865312e-01,  9.29078848e-01,\n",
       "          8.90243659e-01,  3.38076872e+00,  5.73515669e-01,\n",
       "          1.40155507e+00,  7.45333333e+01,  5.20453221e+01,\n",
       "         -4.76280385e-01,  5.70581756e-01,  9.02298017e-01,\n",
       "          3.16005551e+00,  5.16253107e-01,  5.00615810e-01,\n",
       "          6.99019608e-02,  4.23761964e-02,  1.35882353e-01,\n",
       "          4.86084719e-02,  3.17204301e-01,  1.09975875e-01,\n",
       "          3.78809524e-01,  9.50238662e-02,  1.82200983e+00,\n",
       "          5.74062475e-01,  7.06481481e-02,  2.95628588e-02,\n",
       "          2.58181818e-01,  1.11304148e-01,  3.15402299e-01,\n",
       "          9.32980795e-02,  1.43161145e+00,  3.17189043e-01,\n",
       "          1.82549020e-01,  1.06449100e-01,  2.38222222e-01,\n",
       "          9.11804614e-02,  7.77777778e-02,  3.97895699e-02]]),\n",
       " ['Mean correlation to the average signal',\n",
       "  'Median correlation to the average signal',\n",
       "  'Std correlation to the average signal',\n",
       "  'ecg_RR0_mean',\n",
       "  'ecg_RR0_std',\n",
       "  'ecg_RR1_mean',\n",
       "  'ecg_RR1_std',\n",
       "  'ecg_RR2_mean',\n",
       "  'ecg_RR2_std',\n",
       "  'ecg_RR_0_1_mean',\n",
       "  'ecg_RR_0_1_std',\n",
       "  'ecg_RR_2_1_mean',\n",
       "  'ecg_RR_2_1_std',\n",
       "  'ecg_RR_m_1_mean',\n",
       "  'ecg_RR_m_1_std',\n",
       "  'ecg_RRm_mean',\n",
       "  'ecg_RRm_std',\n",
       "  'ecg_a_R_mean',\n",
       "  'ecg_a_R_std',\n",
       "  'ecg_a_PQ_mean',\n",
       "  'ecg_a_PQ_std',\n",
       "  'ecg_a_PQ_PS_mean',\n",
       "  'ecg_a_PQ_PS_std',\n",
       "  'ecg_a_PQ_QR_mean',\n",
       "  'ecg_a_PQ_QR_std',\n",
       "  'ecg_a_PQ_QS_mean',\n",
       "  'ecg_a_PQ_QS_std',\n",
       "  'ecg_a_PQ_QT_mean',\n",
       "  'ecg_a_PQ_QT_std',\n",
       "  'ecg_a_PQ_RS_mean',\n",
       "  'ecg_a_PQ_RS_std',\n",
       "  'ecg_a_PS_mean',\n",
       "  'ecg_a_PS_std',\n",
       "  'ecg_a_PT_mean',\n",
       "  'ecg_a_PT_std',\n",
       "  'ecg_a_QR_mean',\n",
       "  'ecg_a_QR_std',\n",
       "  'ecg_a_QS_mean',\n",
       "  'ecg_a_QS_std',\n",
       "  'ecg_a_QT_mean',\n",
       "  'ecg_a_QT_std',\n",
       "  'ecg_a_RS_mean',\n",
       "  'ecg_a_RS_std',\n",
       "  'ecg_a_RS_QR_mean',\n",
       "  'ecg_a_RS_QR_std',\n",
       "  'ecg_a_RS_QS_mean',\n",
       "  'ecg_a_RS_QS_std',\n",
       "  'ecg_a_RS_QT_mean',\n",
       "  'ecg_a_RS_QT_std',\n",
       "  'ecg_a_ST_mean',\n",
       "  'ecg_a_ST_std',\n",
       "  'ecg_a_ST_PQ_mean',\n",
       "  'ecg_a_ST_PQ_std',\n",
       "  'ecg_a_ST_QS_mean',\n",
       "  'ecg_a_ST_QS_std',\n",
       "  'ecg_a_ST_QT_mean',\n",
       "  'ecg_a_ST_QT_std',\n",
       "  'ecg_t_PQ_mean',\n",
       "  'ecg_t_PQ_std',\n",
       "  'ecg_t_PR_mean',\n",
       "  'ecg_t_PR_std',\n",
       "  'ecg_t_PS_mean',\n",
       "  'ecg_t_PS_std',\n",
       "  'ecg_t_PT_mean',\n",
       "  'ecg_t_PT_std',\n",
       "  'ecg_t_PT_QS_mean',\n",
       "  'ecg_t_PT_QS_std',\n",
       "  'ecg_t_QR_mean',\n",
       "  'ecg_t_QR_std',\n",
       "  'ecg_t_QS_mean',\n",
       "  'ecg_t_QS_std',\n",
       "  'ecg_t_QT_mean',\n",
       "  'ecg_t_QT_std',\n",
       "  'ecg_t_QT_QS_mean',\n",
       "  'ecg_t_QT_QS_std',\n",
       "  'ecg_t_RS_mean',\n",
       "  'ecg_t_RS_std',\n",
       "  'ecg_t_RT_mean',\n",
       "  'ecg_t_RT_std',\n",
       "  'ecg_t_ST_mean',\n",
       "  'ecg_t_ST_std'],\n",
       " [])"
      ]
     },
     "execution_count": 186,
     "metadata": {},
     "output_type": "execute_result"
    }
   ],
   "source": [
    "make_all_features(X_train.iloc[0:2], mean_train_ecg)"
   ]
  },
  {
   "cell_type": "markdown",
   "metadata": {},
   "source": [
    "# Make the features"
   ]
  },
  {
   "cell_type": "code",
   "execution_count": 164,
   "metadata": {},
   "outputs": [
    {
     "name": "stdout",
     "output_type": "stream",
     "text": [
      "(17807,)\n",
      "Mean signal length:  17807.0 min length:  17807\n"
     ]
    },
    {
     "name": "stderr",
     "output_type": "stream",
     "text": [
      "75it [00:09,  7.81it/s]/Users/ericschreiber/miniconda3/envs/ml/lib/python3.10/site-packages/numpy/core/_methods.py:264: RuntimeWarning: Degrees of freedom <= 0 for slice\n",
      "  ret = _var(a, axis=axis, dtype=dtype, out=out, ddof=ddof,\n",
      "/Users/ericschreiber/miniconda3/envs/ml/lib/python3.10/site-packages/numpy/core/fromnumeric.py:3474: RuntimeWarning: Mean of empty slice.\n",
      "  return _methods._mean(a, axis=axis, dtype=dtype,\n",
      "85it [00:10,  8.91it/s]"
     ]
    },
    {
     "name": "stdout",
     "output_type": "stream",
     "text": [
      "No results to average over\n",
      "{}\n",
      "ERROR: Number of features for rpeaks is not consistent, Droping index 83\n"
     ]
    },
    {
     "name": "stderr",
     "output_type": "stream",
     "text": [
      "105it [00:13,  6.97it/s]/Users/ericschreiber/miniconda3/envs/ml/lib/python3.10/site-packages/numpy/core/_methods.py:264: RuntimeWarning: Degrees of freedom <= 0 for slice\n",
      "  ret = _var(a, axis=axis, dtype=dtype, out=out, ddof=ddof,\n",
      "/Users/ericschreiber/miniconda3/envs/ml/lib/python3.10/site-packages/numpy/core/fromnumeric.py:3474: RuntimeWarning: Mean of empty slice.\n",
      "  return _methods._mean(a, axis=axis, dtype=dtype,\n",
      "432it [00:52, 12.00it/s]"
     ]
    },
    {
     "name": "stdout",
     "output_type": "stream",
     "text": [
      "No results to average over\n",
      "{}\n",
      "ERROR: Number of features for rpeaks is not consistent, Droping index 429\n"
     ]
    },
    {
     "name": "stderr",
     "output_type": "stream",
     "text": [
      "773it [01:33, 11.95it/s]"
     ]
    },
    {
     "name": "stdout",
     "output_type": "stream",
     "text": [
      "No results to average over\n",
      "{}\n",
      "ERROR: Number of features for rpeaks is not consistent, Droping index 771\n"
     ]
    },
    {
     "name": "stderr",
     "output_type": "stream",
     "text": [
      "1046it [02:07, 11.25it/s]/Users/ericschreiber/miniconda3/envs/ml/lib/python3.10/site-packages/numpy/core/_methods.py:264: RuntimeWarning: Degrees of freedom <= 0 for slice\n",
      "  ret = _var(a, axis=axis, dtype=dtype, out=out, ddof=ddof,\n",
      "/Users/ericschreiber/miniconda3/envs/ml/lib/python3.10/site-packages/numpy/core/fromnumeric.py:3474: RuntimeWarning: Mean of empty slice.\n",
      "  return _methods._mean(a, axis=axis, dtype=dtype,\n",
      "1351it [02:46, 10.68it/s]/Users/ericschreiber/miniconda3/envs/ml/lib/python3.10/site-packages/numpy/core/_methods.py:264: RuntimeWarning: Degrees of freedom <= 0 for slice\n",
      "  ret = _var(a, axis=axis, dtype=dtype, out=out, ddof=ddof,\n",
      "/Users/ericschreiber/miniconda3/envs/ml/lib/python3.10/site-packages/numpy/core/fromnumeric.py:3474: RuntimeWarning: Mean of empty slice.\n",
      "  return _methods._mean(a, axis=axis, dtype=dtype,\n",
      "1870it [03:51,  6.98it/s]/Users/ericschreiber/miniconda3/envs/ml/lib/python3.10/site-packages/numpy/core/_methods.py:264: RuntimeWarning: Degrees of freedom <= 0 for slice\n",
      "  ret = _var(a, axis=axis, dtype=dtype, out=out, ddof=ddof,\n",
      "/Users/ericschreiber/miniconda3/envs/ml/lib/python3.10/site-packages/numpy/core/fromnumeric.py:3474: RuntimeWarning: Mean of empty slice.\n",
      "  return _methods._mean(a, axis=axis, dtype=dtype,\n",
      "2712it [05:36,  6.51it/s]/Users/ericschreiber/miniconda3/envs/ml/lib/python3.10/site-packages/numpy/core/_methods.py:264: RuntimeWarning: Degrees of freedom <= 0 for slice\n",
      "  ret = _var(a, axis=axis, dtype=dtype, out=out, ddof=ddof,\n",
      "/Users/ericschreiber/miniconda3/envs/ml/lib/python3.10/site-packages/numpy/core/fromnumeric.py:3474: RuntimeWarning: Mean of empty slice.\n",
      "  return _methods._mean(a, axis=axis, dtype=dtype,\n",
      "2818it [05:49,  8.78it/s]/Users/ericschreiber/miniconda3/envs/ml/lib/python3.10/site-packages/numpy/core/_methods.py:264: RuntimeWarning: Degrees of freedom <= 0 for slice\n",
      "  ret = _var(a, axis=axis, dtype=dtype, out=out, ddof=ddof,\n",
      "/Users/ericschreiber/miniconda3/envs/ml/lib/python3.10/site-packages/numpy/core/fromnumeric.py:3474: RuntimeWarning: Mean of empty slice.\n",
      "  return _methods._mean(a, axis=axis, dtype=dtype,\n",
      "3059it [06:19,  8.98it/s]/Users/ericschreiber/miniconda3/envs/ml/lib/python3.10/site-packages/numpy/core/_methods.py:264: RuntimeWarning: Degrees of freedom <= 0 for slice\n",
      "  ret = _var(a, axis=axis, dtype=dtype, out=out, ddof=ddof,\n",
      "/Users/ericschreiber/miniconda3/envs/ml/lib/python3.10/site-packages/numpy/core/fromnumeric.py:3474: RuntimeWarning: Mean of empty slice.\n",
      "  return _methods._mean(a, axis=axis, dtype=dtype,\n",
      "3245it [06:43,  6.84it/s]/Users/ericschreiber/miniconda3/envs/ml/lib/python3.10/site-packages/numpy/core/_methods.py:264: RuntimeWarning: Degrees of freedom <= 0 for slice\n",
      "  ret = _var(a, axis=axis, dtype=dtype, out=out, ddof=ddof,\n",
      "/Users/ericschreiber/miniconda3/envs/ml/lib/python3.10/site-packages/numpy/core/fromnumeric.py:3474: RuntimeWarning: Mean of empty slice.\n",
      "  return _methods._mean(a, axis=axis, dtype=dtype,\n",
      "3426it [07:04,  9.22it/s]"
     ]
    },
    {
     "name": "stdout",
     "output_type": "stream",
     "text": [
      "No results to average over\n",
      "{}\n",
      "ERROR: Number of features for rpeaks is not consistent, Droping index 3424\n"
     ]
    },
    {
     "name": "stderr",
     "output_type": "stream",
     "text": [
      "3667it [07:34,  7.95it/s]/Users/ericschreiber/miniconda3/envs/ml/lib/python3.10/site-packages/numpy/core/_methods.py:264: RuntimeWarning: Degrees of freedom <= 0 for slice\n",
      "  ret = _var(a, axis=axis, dtype=dtype, out=out, ddof=ddof,\n",
      "/Users/ericschreiber/miniconda3/envs/ml/lib/python3.10/site-packages/numpy/core/fromnumeric.py:3474: RuntimeWarning: Mean of empty slice.\n",
      "  return _methods._mean(a, axis=axis, dtype=dtype,\n",
      "4023it [08:17,  8.67it/s]/Users/ericschreiber/miniconda3/envs/ml/lib/python3.10/site-packages/numpy/core/_methods.py:264: RuntimeWarning: Degrees of freedom <= 0 for slice\n",
      "  ret = _var(a, axis=axis, dtype=dtype, out=out, ddof=ddof,\n",
      "/Users/ericschreiber/miniconda3/envs/ml/lib/python3.10/site-packages/numpy/core/fromnumeric.py:3474: RuntimeWarning: Mean of empty slice.\n",
      "  return _methods._mean(a, axis=axis, dtype=dtype,\n",
      "4165it [08:34,  8.52it/s]"
     ]
    },
    {
     "name": "stdout",
     "output_type": "stream",
     "text": [
      "No results to average over\n",
      "{}\n",
      "ERROR: Number of features for rpeaks is not consistent, Droping index 4163\n"
     ]
    },
    {
     "name": "stderr",
     "output_type": "stream",
     "text": [
      "5117it [10:31,  8.10it/s]\n"
     ]
    }
   ],
   "source": [
    "features_X_train, feature_names, droped_indices = make_all_features(\n",
    "    X_train, mean_train_ecg\n",
    ")"
   ]
  },
  {
   "cell_type": "code",
   "execution_count": 173,
   "metadata": {},
   "outputs": [
    {
     "data": {
      "text/plain": [
       "(5112, 81)"
      ]
     },
     "execution_count": 173,
     "metadata": {},
     "output_type": "execute_result"
    }
   ],
   "source": [
    "features_X_test.shape\n",
    "# feature_names\n",
    "# droped_indices"
   ]
  },
  {
   "cell_type": "markdown",
   "metadata": {},
   "source": [
    "# Check the data for inf and nan"
   ]
  },
  {
   "cell_type": "code",
   "execution_count": 207,
   "metadata": {},
   "outputs": [
    {
     "name": "stdout",
     "output_type": "stream",
     "text": [
      "Number of infs: 2842\n",
      "Columns with infs: 13\n",
      "Number of values bigger than 10000: 840\n",
      "Number of values smaller than -10000: 2002\n",
      "Number of nans: 3210\n",
      "Columns with nans: 58\n"
     ]
    }
   ],
   "source": [
    "# How many infs\n",
    "print(f\"Number of infs: {np.sum(np.isinf(features_X_train))}\")\n",
    "# Which columns have infs\n",
    "cols_with_infs = np.where(np.isinf(features_X_train))[1]\n",
    "cols_with_infs_unique = np.unique(cols_with_infs)\n",
    "print(f\"Columns with infs: {len(cols_with_infs_unique)}\")\n",
    "# Numbers bigger than 10000\n",
    "print(f\"Number of values bigger than 10000: {np.sum(features_X_train > 10000)}\")\n",
    "# Cap everything bigger than 10000 to 10000\n",
    "features_X_train[features_X_train > 10000] = 10000\n",
    "# Numbers smaller than -10000\n",
    "print(f\"Number of values smaller than -10000: {np.sum(features_X_train < -10000)}\")\n",
    "# Cap everything smaller than -10000 to -10000\n",
    "features_X_train[features_X_train < -10000] = -10000\n",
    "# Cap inf to 20000\n",
    "features_X_train[np.isinf(features_X_train)] = 20000\n",
    "# Cap -inf to -20000\n",
    "features_X_train[np.isneginf(features_X_train)] = -20000\n",
    "\n",
    "# How many nans\n",
    "print(f\"Number of nans: {np.sum(np.isnan(features_X_train))}\")\n",
    "# Which columns have nans\n",
    "cols_with_nans = np.where(np.isnan(features_X_train))[1]\n",
    "cols_with_nans_unique = np.unique(cols_with_nans)\n",
    "print(f\"Columns with nans: {len(cols_with_nans_unique)}\")"
   ]
  },
  {
   "cell_type": "code",
   "execution_count": 199,
   "metadata": {},
   "outputs": [],
   "source": [
    "y_train_droped = y_train.drop(droped_indices)\n",
    "# reset the index\n",
    "y_train_droped = y_train_droped.reset_index(drop=True)\n",
    "# name the index column id\n",
    "y_train_droped.index.name = \"id\""
   ]
  },
  {
   "cell_type": "code",
   "execution_count": 208,
   "metadata": {},
   "outputs": [],
   "source": [
    "# Write the features to a csv file\n",
    "df = pd.DataFrame(features_X_train, columns=feature_names)\n",
    "X_train_save_path = \"/Users/ericschreiber/dev/ETH/AML/Project_1/aml-2023/task2/data/feature_extraction/bioss_X_train.csv\"\n",
    "df.index.name = \"id\"\n",
    "df.to_csv(X_train_save_path, index=True)\n",
    "y_train_save_path = \"/Users/ericschreiber/dev/ETH/AML/Project_1/aml-2023/task2/data/feature_extraction/bioss_y_train.csv\"\n",
    "y_train_droped.to_csv(y_train_save_path, index=True)"
   ]
  },
  {
   "cell_type": "code",
   "execution_count": 187,
   "metadata": {},
   "outputs": [
    {
     "name": "stdout",
     "output_type": "stream",
     "text": [
      "(17807,)\n"
     ]
    },
    {
     "name": "stderr",
     "output_type": "stream",
     "text": [
      "402it [00:49,  7.29it/s]/Users/ericschreiber/miniconda3/envs/ml/lib/python3.10/site-packages/numpy/core/_methods.py:264: RuntimeWarning: Degrees of freedom <= 0 for slice\n",
      "  ret = _var(a, axis=axis, dtype=dtype, out=out, ddof=ddof,\n",
      "/Users/ericschreiber/miniconda3/envs/ml/lib/python3.10/site-packages/numpy/core/fromnumeric.py:3474: RuntimeWarning: Mean of empty slice.\n",
      "  return _methods._mean(a, axis=axis, dtype=dtype,\n",
      "640it [01:18,  8.56it/s]/Users/ericschreiber/miniconda3/envs/ml/lib/python3.10/site-packages/numpy/core/_methods.py:264: RuntimeWarning: Degrees of freedom <= 0 for slice\n",
      "  ret = _var(a, axis=axis, dtype=dtype, out=out, ddof=ddof,\n",
      "/Users/ericschreiber/miniconda3/envs/ml/lib/python3.10/site-packages/numpy/core/fromnumeric.py:3474: RuntimeWarning: Mean of empty slice.\n",
      "  return _methods._mean(a, axis=axis, dtype=dtype,\n",
      "741it [01:31,  8.28it/s]/Users/ericschreiber/miniconda3/envs/ml/lib/python3.10/site-packages/numpy/core/_methods.py:264: RuntimeWarning: Degrees of freedom <= 0 for slice\n",
      "  ret = _var(a, axis=axis, dtype=dtype, out=out, ddof=ddof,\n",
      "/Users/ericschreiber/miniconda3/envs/ml/lib/python3.10/site-packages/numpy/core/fromnumeric.py:3474: RuntimeWarning: Mean of empty slice.\n",
      "  return _methods._mean(a, axis=axis, dtype=dtype,\n",
      "748it [01:31, 10.17it/s]/Users/ericschreiber/miniconda3/envs/ml/lib/python3.10/site-packages/numpy/core/_methods.py:264: RuntimeWarning: Degrees of freedom <= 0 for slice\n",
      "  ret = _var(a, axis=axis, dtype=dtype, out=out, ddof=ddof,\n",
      "/Users/ericschreiber/miniconda3/envs/ml/lib/python3.10/site-packages/numpy/core/fromnumeric.py:3474: RuntimeWarning: Mean of empty slice.\n",
      "  return _methods._mean(a, axis=axis, dtype=dtype,\n",
      "750it [01:32, 11.10it/s]"
     ]
    },
    {
     "name": "stdout",
     "output_type": "stream",
     "text": [
      "No results to average over\n",
      "{}\n",
      "ERROR: Number of features for rpeaks is not consistent, Droping index 747\n"
     ]
    },
    {
     "name": "stderr",
     "output_type": "stream",
     "text": [
      "819it [01:40,  9.34it/s]/Users/ericschreiber/miniconda3/envs/ml/lib/python3.10/site-packages/numpy/core/_methods.py:264: RuntimeWarning: Degrees of freedom <= 0 for slice\n",
      "  ret = _var(a, axis=axis, dtype=dtype, out=out, ddof=ddof,\n",
      "/Users/ericschreiber/miniconda3/envs/ml/lib/python3.10/site-packages/numpy/core/fromnumeric.py:3474: RuntimeWarning: Mean of empty slice.\n",
      "  return _methods._mean(a, axis=axis, dtype=dtype,\n",
      "1186it [02:26,  6.29it/s]/Users/ericschreiber/miniconda3/envs/ml/lib/python3.10/site-packages/numpy/core/_methods.py:264: RuntimeWarning: Degrees of freedom <= 0 for slice\n",
      "  ret = _var(a, axis=axis, dtype=dtype, out=out, ddof=ddof,\n",
      "/Users/ericschreiber/miniconda3/envs/ml/lib/python3.10/site-packages/numpy/core/fromnumeric.py:3474: RuntimeWarning: Mean of empty slice.\n",
      "  return _methods._mean(a, axis=axis, dtype=dtype,\n",
      "1685it [03:29,  8.63it/s]/Users/ericschreiber/miniconda3/envs/ml/lib/python3.10/site-packages/numpy/core/_methods.py:264: RuntimeWarning: Degrees of freedom <= 0 for slice\n",
      "  ret = _var(a, axis=axis, dtype=dtype, out=out, ddof=ddof,\n",
      "/Users/ericschreiber/miniconda3/envs/ml/lib/python3.10/site-packages/numpy/core/fromnumeric.py:3474: RuntimeWarning: Mean of empty slice.\n",
      "  return _methods._mean(a, axis=axis, dtype=dtype,\n",
      "1979it [04:07,  9.02it/s]/Users/ericschreiber/miniconda3/envs/ml/lib/python3.10/site-packages/numpy/core/_methods.py:264: RuntimeWarning: Degrees of freedom <= 0 for slice\n",
      "  ret = _var(a, axis=axis, dtype=dtype, out=out, ddof=ddof,\n",
      "/Users/ericschreiber/miniconda3/envs/ml/lib/python3.10/site-packages/numpy/core/fromnumeric.py:3474: RuntimeWarning: Mean of empty slice.\n",
      "  return _methods._mean(a, axis=axis, dtype=dtype,\n",
      "2034it [04:14,  7.01it/s]"
     ]
    },
    {
     "name": "stdout",
     "output_type": "stream",
     "text": [
      "No results to average over\n",
      "{}\n",
      "ERROR: Number of features for rpeaks is not consistent, Droping index 2032\n"
     ]
    },
    {
     "name": "stderr",
     "output_type": "stream",
     "text": [
      "2327it [04:50,  7.72it/s]"
     ]
    },
    {
     "name": "stdout",
     "output_type": "stream",
     "text": [
      "No results to average over\n",
      "{}\n",
      "ERROR: Number of features for rpeaks is not consistent, Droping index 2327\n"
     ]
    },
    {
     "name": "stderr",
     "output_type": "stream",
     "text": [
      "2392it [04:59,  7.84it/s]/Users/ericschreiber/miniconda3/envs/ml/lib/python3.10/site-packages/numpy/core/_methods.py:264: RuntimeWarning: Degrees of freedom <= 0 for slice\n",
      "  ret = _var(a, axis=axis, dtype=dtype, out=out, ddof=ddof,\n",
      "/Users/ericschreiber/miniconda3/envs/ml/lib/python3.10/site-packages/numpy/core/fromnumeric.py:3474: RuntimeWarning: Mean of empty slice.\n",
      "  return _methods._mean(a, axis=axis, dtype=dtype,\n",
      "2708it [05:40,  7.66it/s]/Users/ericschreiber/miniconda3/envs/ml/lib/python3.10/site-packages/numpy/core/_methods.py:264: RuntimeWarning: Degrees of freedom <= 0 for slice\n",
      "  ret = _var(a, axis=axis, dtype=dtype, out=out, ddof=ddof,\n",
      "/Users/ericschreiber/miniconda3/envs/ml/lib/python3.10/site-packages/numpy/core/fromnumeric.py:3474: RuntimeWarning: Mean of empty slice.\n",
      "  return _methods._mean(a, axis=axis, dtype=dtype,\n",
      "3310it [06:54,  8.28it/s]/Users/ericschreiber/miniconda3/envs/ml/lib/python3.10/site-packages/numpy/core/_methods.py:264: RuntimeWarning: Degrees of freedom <= 0 for slice\n",
      "  ret = _var(a, axis=axis, dtype=dtype, out=out, ddof=ddof,\n",
      "/Users/ericschreiber/miniconda3/envs/ml/lib/python3.10/site-packages/numpy/core/fromnumeric.py:3474: RuntimeWarning: Mean of empty slice.\n",
      "  return _methods._mean(a, axis=axis, dtype=dtype,\n",
      "3356it [07:00,  9.18it/s]/Users/ericschreiber/miniconda3/envs/ml/lib/python3.10/site-packages/numpy/core/_methods.py:264: RuntimeWarning: Degrees of freedom <= 0 for slice\n",
      "  ret = _var(a, axis=axis, dtype=dtype, out=out, ddof=ddof,\n",
      "/Users/ericschreiber/miniconda3/envs/ml/lib/python3.10/site-packages/numpy/core/fromnumeric.py:3474: RuntimeWarning: Mean of empty slice.\n",
      "  return _methods._mean(a, axis=axis, dtype=dtype,\n",
      "3411it [07:07,  7.98it/s]\n"
     ]
    }
   ],
   "source": [
    "features_X_test, feature_names_test, droped_indices_test = make_all_features(\n",
    "    X_test, mean_train_ecg\n",
    ")"
   ]
  },
  {
   "cell_type": "code",
   "execution_count": 189,
   "metadata": {},
   "outputs": [],
   "source": [
    "features_X_test_double = features_X_test"
   ]
  },
  {
   "cell_type": "code",
   "execution_count": 190,
   "metadata": {},
   "outputs": [],
   "source": [
    "# We need to add the dropped indices to the test indices. We fill those rows with zeros\n",
    "\n",
    "droped_indices_test.sort(\n",
    "    reverse=True\n",
    ")  # we need to fill the indices from the back otherwise the indices will be wrong\n",
    "for index in droped_indices_test:\n",
    "    features_X_test = np.insert(features_X_test, index, 0, axis=0)"
   ]
  },
  {
   "cell_type": "code",
   "execution_count": 209,
   "metadata": {},
   "outputs": [
    {
     "name": "stdout",
     "output_type": "stream",
     "text": [
      "Number of infs: 2002\n",
      "Columns with infs: 13\n",
      "Number of values bigger than 10000: 601\n",
      "Number of values smaller than -10000: 1401\n"
     ]
    }
   ],
   "source": [
    "# How many infs\n",
    "print(f\"Number of infs: {np.sum(np.isinf(features_X_test))}\")\n",
    "# Which columns have infs\n",
    "cols_with_infs = np.where(np.isinf(features_X_test))[1]\n",
    "cols_with_infs_unique = np.unique(cols_with_infs)\n",
    "print(f\"Columns with infs: {len(cols_with_infs_unique)}\")\n",
    "# Numbers bigger than 10000\n",
    "print(f\"Number of values bigger than 10000: {np.sum(features_X_test > 10000)}\")\n",
    "# Cap everything bigger than 10000 to 10000\n",
    "features_X_test[features_X_test > 10000] = 10000\n",
    "# Numbers smaller than -10000\n",
    "print(f\"Number of values smaller than -10000: {np.sum(features_X_test < -10000)}\")\n",
    "# Cap everything smaller than -10000 to -10000\n",
    "features_X_test[features_X_test < -10000] = -10000\n",
    "# Cap inf to 20000\n",
    "features_X_test[np.isinf(features_X_test)] = 20000\n",
    "# Cap -inf to -20000\n",
    "features_X_test[np.isneginf(features_X_test)] = -20000"
   ]
  },
  {
   "cell_type": "code",
   "execution_count": 210,
   "metadata": {},
   "outputs": [],
   "source": [
    "df_test = pd.DataFrame(features_X_test, columns=feature_names_test)\n",
    "df_test.index.name = \"id\"\n",
    "X_test_save_path = \"/Users/ericschreiber/dev/ETH/AML/Project_1/aml-2023/task2/data/feature_extraction/bioss_X_test.csv\"\n",
    "df_test.to_csv(X_test_save_path, index=True)"
   ]
  },
  {
   "cell_type": "code",
   "execution_count": 192,
   "metadata": {},
   "outputs": [
    {
     "name": "stdout",
     "output_type": "stream",
     "text": [
      "(3411, 81)\n",
      "(3408, 81)\n",
      "(3411, 17807)\n"
     ]
    }
   ],
   "source": [
    "print(features_X_test.shape)\n",
    "print(features_X_test_double.shape)\n",
    "print(X_test.shape)"
   ]
  },
  {
   "cell_type": "code",
   "execution_count": null,
   "metadata": {},
   "outputs": [],
   "source": []
  }
 ],
 "metadata": {
  "kernelspec": {
   "display_name": "ml",
   "language": "python",
   "name": "python3"
  },
  "language_info": {
   "codemirror_mode": {
    "name": "ipython",
    "version": 3
   },
   "file_extension": ".py",
   "mimetype": "text/x-python",
   "name": "python",
   "nbconvert_exporter": "python",
   "pygments_lexer": "ipython3",
   "version": "3.10.11"
  }
 },
 "nbformat": 4,
 "nbformat_minor": 2
}
