{
 "cells": [
  {
   "cell_type": "code",
   "execution_count": 1,
   "metadata": {},
   "outputs": [],
   "source": [
    "import pandas as pd\n",
    "import os\n",
    "import numpy as np\n",
    "\n",
    "DATAFOLDER = (\n",
    "    \"/Users/ericschreiber/dev/ETH/AML/Project_1/aml-2023/task2/data/feature_extraction\"\n",
    ")"
   ]
  },
  {
   "cell_type": "code",
   "execution_count": 2,
   "metadata": {},
   "outputs": [],
   "source": [
    "X_train_paths = [\"bioss_X_train.csv\", \"neurokit2_X_train.csv\"]\n",
    "X_test_paths = [\"bioss_X_test.csv\", \"neurokit2_X_test.csv\"]\n",
    "\n",
    "\n",
    "for i in range(len(X_train_paths)):\n",
    "    X_train_paths[i] = os.path.join(DATAFOLDER, X_train_paths[i])\n",
    "for i in range(len(X_test_paths)):\n",
    "    X_test_paths[i] = os.path.join(DATAFOLDER, X_test_paths[i])"
   ]
  },
  {
   "cell_type": "code",
   "execution_count": 3,
   "metadata": {},
   "outputs": [],
   "source": [
    "# Read in data\n",
    "X_train_dfs = []\n",
    "X_test_dfs = []\n",
    "for path in X_train_paths:\n",
    "    X_train_dfs.append(pd.read_csv(path))\n",
    "for path in X_test_paths:\n",
    "    X_test_dfs.append(pd.read_csv(path))"
   ]
  },
  {
   "cell_type": "code",
   "execution_count": 9,
   "metadata": {},
   "outputs": [],
   "source": [
    "# Combine the data on index\n",
    "for i in range(len(X_train_dfs)):\n",
    "    if i == 0:\n",
    "        X_train = X_train_dfs[i]\n",
    "    else:\n",
    "        X_train = X_train.merge(X_train_dfs[i], on=\"id\")\n",
    "for i in range(len(X_test_dfs)):\n",
    "    if i == 0:\n",
    "        X_test = X_test_dfs[i]\n",
    "    else:\n",
    "        X_test = X_test.merge(X_test_dfs[i], on=\"id\")\n",
    "\n",
    "# Reindex\n",
    "X_train = X_train.set_index(\"id\")\n",
    "X_test = X_test.set_index(\"id\")"
   ]
  },
  {
   "cell_type": "code",
   "execution_count": 11,
   "metadata": {},
   "outputs": [],
   "source": [
    "X_train_save_path = os.path.join(DATAFOLDER, \"combined_X_train.csv\")\n",
    "X_test_save_path = os.path.join(DATAFOLDER, \"combined_X_test.csv\")\n",
    "X_train.to_csv(X_train_save_path, index=True)\n",
    "X_test.to_csv(X_test_save_path, index=True)"
   ]
  },
  {
   "cell_type": "code",
   "execution_count": null,
   "metadata": {},
   "outputs": [],
   "source": []
  }
 ],
 "metadata": {
  "kernelspec": {
   "display_name": "ml",
   "language": "python",
   "name": "python3"
  },
  "language_info": {
   "codemirror_mode": {
    "name": "ipython",
    "version": 3
   },
   "file_extension": ".py",
   "mimetype": "text/x-python",
   "name": "python",
   "nbconvert_exporter": "python",
   "pygments_lexer": "ipython3",
   "version": "3.10.11"
  }
 },
 "nbformat": 4,
 "nbformat_minor": 2
}
