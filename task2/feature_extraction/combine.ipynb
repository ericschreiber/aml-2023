{
 "cells": [
  {
   "cell_type": "code",
   "execution_count": 1,
   "metadata": {},
   "outputs": [],
   "source": [
    "import pandas as pd\n",
    "import os\n",
    "import numpy as np\n",
    "\n",
    "DATAFOLDER = (\n",
    "    \"/Users/ericschreiber/dev/ETH/AML/Project_1/aml-2023/task2/data/feature_extraction\"\n",
    ")"
   ]
  },
  {
   "cell_type": "code",
   "execution_count": 2,
   "metadata": {},
   "outputs": [],
   "source": [
    "X_train_paths = [\n",
    "    \"bioss_X_train.csv\",\n",
    "    \"neurokit2_X_train.csv\",\n",
    "    \"hrv_X_train.csv\",\n",
    "    \"spectral_analysis_X_train_features.csv\",\n",
    "]\n",
    "X_test_paths = [\n",
    "    \"bioss_X_test.csv\",\n",
    "    \"neurokit2_X_test.csv\",\n",
    "    \"hrv_X_test.csv\",\n",
    "    \"spectral_analysis_X_test_features.csv\",\n",
    "]\n",
    "\n",
    "\n",
    "for i in range(len(X_train_paths)):\n",
    "    X_train_paths[i] = os.path.join(DATAFOLDER, X_train_paths[i])\n",
    "for i in range(len(X_test_paths)):\n",
    "    X_test_paths[i] = os.path.join(DATAFOLDER, X_test_paths[i])"
   ]
  },
  {
   "cell_type": "code",
   "execution_count": 3,
   "metadata": {},
   "outputs": [],
   "source": [
    "# Read in data\n",
    "X_train_dfs = []\n",
    "X_test_dfs = []\n",
    "for path in X_train_paths:\n",
    "    X_train_dfs.append(pd.read_csv(path))\n",
    "for path in X_test_paths:\n",
    "    X_test_dfs.append(pd.read_csv(path))"
   ]
  },
  {
   "cell_type": "code",
   "execution_count": 4,
   "metadata": {},
   "outputs": [
    {
     "name": "stdout",
     "output_type": "stream",
     "text": [
      "Num Features: 286\n"
     ]
    }
   ],
   "source": [
    "# Combine the data on index\n",
    "for i in range(len(X_train_dfs)):\n",
    "    if i == 0:\n",
    "        X_train = X_train_dfs[i]\n",
    "    else:\n",
    "        X_train = X_train.merge(X_train_dfs[i], on=\"id\")\n",
    "for i in range(len(X_test_dfs)):\n",
    "    if i == 0:\n",
    "        X_test = X_test_dfs[i]\n",
    "    else:\n",
    "        X_test = X_test.merge(X_test_dfs[i], on=\"id\")\n",
    "\n",
    "# Reindex\n",
    "X_train = X_train.set_index(\"id\")\n",
    "X_test = X_test.set_index(\"id\")\n",
    "\n",
    "print(f\"Num Features: {len(X_train.columns)}\")"
   ]
  },
  {
   "cell_type": "code",
   "execution_count": 21,
   "metadata": {},
   "outputs": [],
   "source": [
    "X_train_save_path = os.path.join(DATAFOLDER, \"combined_X_train.csv\")\n",
    "X_test_save_path = os.path.join(DATAFOLDER, \"combined_X_test.csv\")\n",
    "X_train.to_csv(X_train_save_path, index=True)\n",
    "X_test.to_csv(X_test_save_path, index=True)"
   ]
  },
  {
   "cell_type": "markdown",
   "metadata": {},
   "source": [
    "# Removing Infs"
   ]
  },
  {
   "cell_type": "code",
   "execution_count": 13,
   "metadata": {},
   "outputs": [
    {
     "name": "stdout",
     "output_type": "stream",
     "text": [
      "Number of infs: 256\n",
      "Columns with infs: 4\n",
      "biggest pos value except inf: 534703621.5516358\n",
      "biggest neg value: -269492.29390587035\n"
     ]
    },
    {
     "name": "stderr",
     "output_type": "stream",
     "text": [
      "/Users/ericschreiber/miniconda3/envs/ml/lib/python3.10/site-packages/numpy/core/fromnumeric.py:84: FutureWarning: In a future version, DataFrame.min(axis=None) will return a scalar min over the entire DataFrame. To retain the old behavior, use 'frame.min(axis=0)' or just 'frame.min()'\n",
      "  return reduction(axis=axis, out=out, **passkwargs)\n"
     ]
    }
   ],
   "source": [
    "# path = \"/Users/ericschreiber/dev/ETH/AML/Project_1/aml-2023/task2/data/feature_extraction/train_features_manual_X_train.csv\"\n",
    "# features_X_train = pd.read_csv(path)\n",
    "# features_X_train = features_X_train.set_index(\"id\")\n",
    "\n",
    "# # How many infs\n",
    "# print(f\"Number of infs: {np.sum(np.isinf(features_X_train), axis=0).sum()}\")\n",
    "# # Which columns have infs\n",
    "# cols_with_infs = np.where(np.isinf(features_X_train))[1]\n",
    "# cols_with_infs_unique = np.unique(cols_with_infs)\n",
    "# print(f\"Columns with infs: {len(cols_with_infs_unique)}\")\n",
    "# print(\n",
    "#     f\"biggest pos value except inf: {np.max(features_X_train[features_X_train != np.inf].max())}\"\n",
    "# )\n",
    "# print(f\"biggest neg value: {np.min(features_X_train).min()}\")\n",
    "# biggest_pos = np.max(features_X_train[features_X_train != np.inf].max())\n",
    "# biggest_neg = np.min(features_X_train).min()\n",
    "# # Replace infs with biggest pos value\n",
    "# features_X_train[features_X_train == np.inf] = biggest_pos\n",
    "# # Replace -infs with biggest neg value\n",
    "# features_X_train[features_X_train == -np.inf] = biggest_neg\n",
    "# # Save\n",
    "# features_X_train.to_csv(path, index=True)"
   ]
  },
  {
   "cell_type": "code",
   "execution_count": null,
   "metadata": {},
   "outputs": [],
   "source": []
  }
 ],
 "metadata": {
  "kernelspec": {
   "display_name": "ml",
   "language": "python",
   "name": "python3"
  },
  "language_info": {
   "codemirror_mode": {
    "name": "ipython",
    "version": 3
   },
   "file_extension": ".py",
   "mimetype": "text/x-python",
   "name": "python",
   "nbconvert_exporter": "python",
   "pygments_lexer": "ipython3",
   "version": "3.10.11"
  }
 },
 "nbformat": 4,
 "nbformat_minor": 2
}
