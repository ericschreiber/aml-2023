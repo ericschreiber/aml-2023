{
 "cells": [
  {
   "cell_type": "code",
   "execution_count": null,
   "id": "8d42acb3",
   "metadata": {},
   "outputs": [],
   "source": [
    "import matplotlib.pyplot as plt\n",
    "import numpy as np\n",
    "import pandas as pd\n",
    "from hrvanalysis import get_time_domain_features, get_frequency_domain_features\n",
    "from hrvanalysis.preprocessing import get_nn_intervals\n",
    "import biosppy.signals.ecg as ecg\n",
    "from tqdm import tqdm\n",
    "import neurokit2 as nk\n",
    "from sklearn.utils import class_weight\n",
    "import json\n",
    "\n",
    "import warnings\n",
    "warnings.simplefilter(\"ignore\")\n",
    "\n",
    "plt.rcParams['figure.figsize'] = [20, 5]"
   ]
  },
  {
   "cell_type": "code",
   "execution_count": null,
   "id": "301c8e85",
   "metadata": {},
   "outputs": [],
   "source": [
    "DATA_PATH = \"../data/base\"\n",
    "SAMPLING_RATE = 300\n",
    "X_test = pd.read_csv(f'{DATA_PATH}/X_test.csv')\n",
    "X_train = pd.read_csv(f'{DATA_PATH}/X_train.csv')\n",
    "y_train = pd.read_csv(f'{DATA_PATH}/y_train.csv', index_col='id')"
   ]
  },
  {
   "cell_type": "code",
   "execution_count": null,
   "id": "2d450f13",
   "metadata": {},
   "outputs": [],
   "source": [
    "def read_data(dataname):\n",
    "    X_test = pd.read_csv(f'../data/{dataname}/X_test.csv')\n",
    "    X_train = pd.read_csv(f'../data/{dataname}/X_train.csv')\n",
    "    return X_train, X_test\n",
    "def concat_data(x1, x2):\n",
    "    concated_x = pd.concat([x1, x2.drop(columns=['id'])], axis=1)\n",
    "    return concated_x"
   ]
  },
  {
   "cell_type": "code",
   "execution_count": null,
   "id": "d958abc0",
   "metadata": {},
   "outputs": [],
   "source": [
    "# https://aura-healthcare.github.io/hrv-analysis/hrvanalysis.html#hrvanalysis.extract_features.get_frequency_domain_features\n",
    "\n",
    "feature_names = [\"total_power\",\"vlf\",\"lf\",\"hf\",\"lf_hf_ratio\",\"lfnu\",\"hfnu\"]\n",
    "\n",
    "def get_features(signal, extraction_method):\n",
    "#     r_peaks = ecg.engzee_segmenter(signal, SAMPLING_RATE)['rpeaks']\n",
    "    signals, info = nk.ecg_process(signal, sampling_rate=SAMPLING_RATE)\n",
    "    r_peaks = info[\"ECG_R_Peaks\"]\n",
    "    rr_intervals = r_peaks[1:]-r_peaks[:-1]\n",
    "    features = extraction_method(rr_intervals)\n",
    "    return features\n",
    "\n",
    "def generate_features(data, extraction_method, feature_names):\n",
    "    feature_vecs = []\n",
    "    error_counts = 0\n",
    "    for i in tqdm(range(len(data))):\n",
    "        signal = data.loc[i].dropna().to_numpy(dtype='float32')\n",
    "        features = None\n",
    "        try:\n",
    "            features = get_features(signal, extraction_method)\n",
    "        except:\n",
    "            pass\n",
    "        feature_vector = []\n",
    "        if features is None:\n",
    "            error_counts += 1\n",
    "        for fn in feature_names:\n",
    "            if features is None:\n",
    "                feature_vector.append(np.nan)\n",
    "            else:\n",
    "                feature_vector.append(features[fn])\n",
    "        feature_vecs.append(feature_vector)\n",
    "    return feature_names, np.array(feature_vecs), error_counts"
   ]
  },
  {
   "cell_type": "code",
   "execution_count": null,
   "id": "9f774573",
   "metadata": {},
   "outputs": [],
   "source": [
    "fd_X_train = generate_features(X_train, get_frequency_domain_features, feature_names)"
   ]
  },
  {
   "cell_type": "code",
   "execution_count": null,
   "id": "6935ddb6",
   "metadata": {},
   "outputs": [],
   "source": [
    "fd_X_train_df = pd.DataFrame(fd_X_train[1], columns = fd_X_train[0])\n",
    "fd_X_train_df.to_csv(\"X_train.csv\", index_label=\"id\")"
   ]
  },
  {
   "cell_type": "code",
   "execution_count": null,
   "id": "2a27b04e",
   "metadata": {},
   "outputs": [],
   "source": [
    "fd_X_test = generate_features(X_test, get_frequency_domain_features, feature_names)"
   ]
  },
  {
   "cell_type": "code",
   "execution_count": null,
   "id": "70a3fbd0",
   "metadata": {},
   "outputs": [],
   "source": [
    "fd_X_test_df = pd.DataFrame(fd_X_test[1], columns = fd_X_test[0])\n",
    "fd_X_test_df.to_csv(\"X_test.csv\", index_label=\"id\")"
   ]
  }
 ],
 "metadata": {
  "kernelspec": {
   "display_name": "Python 3 (ipykernel)",
   "language": "python",
   "name": "python3"
  },
  "language_info": {
   "codemirror_mode": {
    "name": "ipython",
    "version": 3
   },
   "file_extension": ".py",
   "mimetype": "text/x-python",
   "name": "python",
   "nbconvert_exporter": "python",
   "pygments_lexer": "ipython3",
   "version": "3.9.13"
  }
 },
 "nbformat": 4,
 "nbformat_minor": 5
}
