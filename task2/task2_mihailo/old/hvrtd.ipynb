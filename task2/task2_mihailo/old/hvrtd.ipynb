{
 "cells": [
  {
   "cell_type": "code",
   "execution_count": 1,
   "id": "31a6d4fa",
   "metadata": {},
   "outputs": [],
   "source": [
    "import matplotlib.pyplot as plt\n",
    "import numpy as np\n",
    "import pandas as pd\n",
    "from hrvanalysis import get_time_domain_features, get_frequency_domain_features\n",
    "from hrvanalysis.preprocessing import get_nn_intervals\n",
    "import biosppy.signals.ecg as ecg\n",
    "from tqdm import tqdm\n",
    "import neurokit2 as nk\n",
    "from sklearn.utils import class_weight\n",
    "import json\n",
    "\n",
    "import warnings\n",
    "warnings.simplefilter(\"ignore\")\n",
    "\n",
    "plt.rcParams['figure.figsize'] = [20, 5]"
   ]
  },
  {
   "cell_type": "code",
   "execution_count": 2,
   "id": "b9da5803",
   "metadata": {},
   "outputs": [],
   "source": [
    "DATA_PATH = \"../data/base\"\n",
    "SAMPLING_RATE = 300\n",
    "X_test = pd.read_csv(f'{DATA_PATH}/X_test.csv')\n",
    "X_train = pd.read_csv(f'{DATA_PATH}/X_train.csv')\n",
    "y_train = pd.read_csv(f'{DATA_PATH}/y_train.csv', index_col='id')"
   ]
  },
  {
   "cell_type": "code",
   "execution_count": 3,
   "id": "cb8cfc7b",
   "metadata": {},
   "outputs": [],
   "source": [
    "def read_data(dataname):\n",
    "    X_test = pd.read_csv(f'../data/{dataname}/X_test.csv')\n",
    "    X_train = pd.read_csv(f'../data/{dataname}/X_train.csv')\n",
    "    return X_train, X_test\n",
    "def concat_data(x1, x2):\n",
    "    concated_x = pd.concat([x1, x2.drop(columns=['id'])], axis=1)\n",
    "    return concated_x"
   ]
  },
  {
   "cell_type": "code",
   "execution_count": 4,
   "id": "ce8d5766",
   "metadata": {},
   "outputs": [],
   "source": [
    "# https://aura-healthcare.github.io/hrv-analysis/hrvanalysis.html#hrvanalysis.extract_features.get_time_domain_features"
   ]
  },
  {
   "cell_type": "code",
   "execution_count": 5,
   "id": "d62e7184",
   "metadata": {},
   "outputs": [],
   "source": [
    "def get_td_features(signal):\n",
    "#     r_peaks = ecg.engzee_segmenter(signal, SAMPLING_RATE)['rpeaks']\n",
    "    signals, info = nk.ecg_process(signal, sampling_rate=SAMPLING_RATE)\n",
    "    r_peaks = info[\"ECG_R_Peaks\"]\n",
    "    rr_intervals = r_peaks[1:]-r_peaks[:-1]\n",
    "    time_domain_features = get_time_domain_features(rr_intervals)\n",
    "    return time_domain_features\n",
    "\n",
    "def generate_td_features(data):\n",
    "    feature_names = [\n",
    "        \"mean_nni\", \"sdnn\" , \"sdsd\", \"rmssd\", \"median_nni\", \n",
    "        \"nni_50\", \"pnni_50\", \"nni_20\", \"pnni_20\", \"range_nni\", \n",
    "        \"cvsd\", \"cvnni\", \"mean_hr\", \"max_hr\", \"min_hr\", \"std_hr\"]\n",
    "    feature_vecs = []\n",
    "    error_counts = 0\n",
    "    for i in tqdm(range(len(data))):\n",
    "        signal = data.loc[i].dropna().to_numpy(dtype='float32')\n",
    "        time_domain_features = None\n",
    "        try:\n",
    "            time_domain_features = get_td_features(signal)\n",
    "        except:\n",
    "            pass\n",
    "        feature_vector = []\n",
    "        if time_domain_features is None:\n",
    "            error_counts += 1\n",
    "        for fn in feature_names:\n",
    "            if time_domain_features is None:\n",
    "                feature_vector.append(np.nan)\n",
    "            else:\n",
    "                feature_vector.append(time_domain_features[fn])\n",
    "        feature_vecs.append(feature_vector)\n",
    "    return feature_names, np.array(feature_vecs), error_counts"
   ]
  },
  {
   "cell_type": "code",
   "execution_count": 1,
   "id": "06abbe0f",
   "metadata": {},
   "outputs": [
    {
     "ename": "NameError",
     "evalue": "name 'generate_td_features' is not defined",
     "output_type": "error",
     "traceback": [
      "\u001b[1;31m---------------------------------------------------------------------------\u001b[0m",
      "\u001b[1;31mNameError\u001b[0m                                 Traceback (most recent call last)",
      "\u001b[1;32m~\\AppData\\Local\\Temp\\ipykernel_17288\\257050938.py\u001b[0m in \u001b[0;36m<module>\u001b[1;34m\u001b[0m\n\u001b[1;32m----> 1\u001b[1;33m \u001b[0mtd_feature_names\u001b[0m\u001b[1;33m,\u001b[0m \u001b[0mtd_features\u001b[0m\u001b[1;33m,\u001b[0m \u001b[0merror_counts\u001b[0m \u001b[1;33m=\u001b[0m \u001b[0mgenerate_td_features\u001b[0m\u001b[1;33m(\u001b[0m\u001b[0mX_train\u001b[0m\u001b[1;33m)\u001b[0m\u001b[1;33m\u001b[0m\u001b[1;33m\u001b[0m\u001b[0m\n\u001b[0m",
      "\u001b[1;31mNameError\u001b[0m: name 'generate_td_features' is not defined"
     ]
    }
   ],
   "source": [
    "td_feature_names, td_features, error_counts = generate_td_features(X_train)"
   ]
  },
  {
   "cell_type": "code",
   "execution_count": null,
   "id": "1ccaef5f",
   "metadata": {},
   "outputs": [],
   "source": [
    "df = pd.DataFrame(data=td_features, columns=td_feature_names)\n",
    "with open(\"X_train.csv\", \"w\") as f:\n",
    "    f.write(\"id,\"+\",\".join(td_feature_names) + \"\\n\")\n",
    "    for i, d in enumerate(df.to_numpy()):\n",
    "        f.write(f\"{str(i)},\"+\",\".join([str(x) for x in d])+\"\\n\")"
   ]
  },
  {
   "cell_type": "code",
   "execution_count": null,
   "id": "2cfd702c",
   "metadata": {},
   "outputs": [],
   "source": [
    "td_feature_names, td_features, error_counts = generate_td_features(X_test)"
   ]
  },
  {
   "cell_type": "code",
   "execution_count": null,
   "id": "cb918c29",
   "metadata": {},
   "outputs": [],
   "source": [
    "df = pd.DataFrame(data=td_features, columns=td_feature_names)\n",
    "with open(\"X_test.csv\", \"w\") as f:\n",
    "    f.write(\"id,\"+\",\".join(td_feature_names) + \"\\n\")\n",
    "    for i, d in enumerate(df.to_numpy()):\n",
    "        f.write(f\"{str(i)},\"+\",\".join([str(x) for x in d])+\"\\n\")"
   ]
  }
 ],
 "metadata": {
  "kernelspec": {
   "display_name": "Python 3.9.7 ('Sandbox')",
   "language": "python",
   "name": "python3"
  },
  "language_info": {
   "codemirror_mode": {
    "name": "ipython",
    "version": 3
   },
   "file_extension": ".py",
   "mimetype": "text/x-python",
   "name": "python",
   "nbconvert_exporter": "python",
   "pygments_lexer": "ipython3",
   "version": "3.9.7"
  },
  "vscode": {
   "interpreter": {
    "hash": "882734abee72f31f460807f1b2e2b68e43b578f32258ab3103d0828efd956510"
   }
  }
 },
 "nbformat": 4,
 "nbformat_minor": 5
}
