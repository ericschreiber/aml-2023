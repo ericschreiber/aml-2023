{
 "cells": [
  {
   "cell_type": "code",
   "execution_count": 1,
   "id": "89ec1cc6-0631-42bd-8403-4352a987fecf",
   "metadata": {},
   "outputs": [
    {
     "name": "stderr",
     "output_type": "stream",
     "text": [
      "<frozen importlib._bootstrap>:219: RuntimeWarning: scipy._lib.messagestream.MessageStream size changed, may indicate binary incompatibility. Expected 56 from C header, got 64 from PyObject\n"
     ]
    }
   ],
   "source": [
    "import matplotlib.pyplot as plt\n",
    "import numpy as np\n",
    "import pandas as pd\n",
    "from biosppy.signals.tools import filter_signal\n",
    "from pyentrp import entropy as ent\n",
    "from tqdm import tqdm\n",
    "from scipy import stats\n",
    "from tsfresh.feature_extraction.feature_calculators import (\n",
    "    fourier_entropy, sample_entropy, approximate_entropy, binned_entropy,\n",
    "    permutation_entropy\n",
    ")\n",
    "import neurokit2 as nk\n",
    "from hrvanalysis.preprocessing import get_nn_intervals\n",
    "\n",
    "import sys\n",
    "sys.path.append('..')\n",
    "from util import load_base_data, hist_statistic_per_class\n",
    "\n",
    "import warnings\n",
    "warnings.simplefilter(\"ignore\")\n",
    "\n",
    "plt.rcParams['figure.figsize'] = [20, 5]\n",
    "\n",
    "SAMPLING_RATE = 300"
   ]
  },
  {
   "cell_type": "code",
   "execution_count": 2,
   "id": "69ffe4a8-9767-462f-aa98-ef909014ede9",
   "metadata": {},
   "outputs": [],
   "source": [
    "DATA_PATH = \"../data/base\"\n",
    "X_train, y_train, X_test = load_base_data()"
   ]
  },
  {
   "cell_type": "code",
   "execution_count": 3,
   "id": "5a646b0a-a0d8-4b8e-b041-f5e564ef564d",
   "metadata": {},
   "outputs": [],
   "source": [
    "def calculate_rri_derivatives(X):\n",
    "    df = pd.DataFrame(index = X.index)\n",
    "    df[\"rri_vel_min\"] = 0\n",
    "    df[\"rri_vel_max\"] = 0\n",
    "    df[\"rri_vel_mean\"] = 0\n",
    "    df[\"rri_vel_median\"] = 0\n",
    "    df[\"rri_vel_std\"] = 0\n",
    "    df[\"rri_vel_skew\"] = 0\n",
    "    df[\"rri_vel_kurtosis\"] = 0\n",
    "    \n",
    "    df[\"rri_acc_min\"] = 0\n",
    "    df[\"rri_acc_max\"] = 0\n",
    "    df[\"rri_acc_mean\"] = 0\n",
    "    df[\"rri_acc_median\"] = 0\n",
    "    df[\"rri_acc_std\"] = 0\n",
    "    df[\"rri_acc_skew\"] = 0\n",
    "    df[\"rri_acc_kurtosis\"] = 0\n",
    "    \n",
    "    for i in tqdm(range(len(X))):\n",
    "        signal = X.loc[i].dropna().to_numpy(dtype='float32')\n",
    "\n",
    "        try:\n",
    "            signals, info = nk.ecg_process(signal, sampling_rate=SAMPLING_RATE)\n",
    "        except:\n",
    "            signal = 1-signal\n",
    "            signals, info = nk.ecg_process(signal, sampling_rate=SAMPLING_RATE)\n",
    "        r_peaks = info[\"ECG_R_Peaks\"]\n",
    "        rri = r_peaks[1:]-r_peaks[:-1]\n",
    "        rri_vel = rri[1:] - rri[:-1]\n",
    "        rri_acc = rri_vel[1:] - rri_vel[:-1]\n",
    "        \n",
    "        rri = pd.Series(rri)\n",
    "        rri_vel = pd.Series(rri_vel)\n",
    "        rri_acc = pd.Series(rri_acc)\n",
    "        \n",
    "        df[\"rri_vel_min\"].iloc[i] = rri_vel.min()\n",
    "        df[\"rri_vel_max\"].iloc[i] = rri_vel.max()\n",
    "        df[\"rri_vel_mean\"].iloc[i] = rri_vel.mean()\n",
    "        df[\"rri_vel_median\"].iloc[i] = rri_vel.median()\n",
    "        df[\"rri_vel_std\"].iloc[i] = rri_vel.std()\n",
    "        df[\"rri_vel_skew\"].iloc[i] = rri_vel.skew()\n",
    "        df[\"rri_vel_kurtosis\"].iloc[i] = rri_vel.kurtosis()\n",
    "        \n",
    "        df[\"rri_acc_min\"].iloc[i] = rri_acc.min()\n",
    "        df[\"rri_acc_max\"].iloc[i] = rri_acc.max()\n",
    "        df[\"rri_acc_mean\"].iloc[i] = rri_acc.mean()\n",
    "        df[\"rri_acc_median\"].iloc[i] = rri_acc.median()\n",
    "        df[\"rri_acc_std\"].iloc[i] = rri_acc.std()\n",
    "        df[\"rri_acc_skew\"].iloc[i] = rri_acc.skew()\n",
    "        df[\"rri_acc_kurtosis\"].iloc[i] = rri_acc.kurtosis()\n",
    "        \n",
    "    return df\n",
    "\n",
    "def calculate_nni_derivatives(X):\n",
    "    df = pd.DataFrame(index = X.index)\n",
    "    df[\"nni_vel_min\"] = 0\n",
    "    df[\"nni_vel_max\"] = 0\n",
    "    df[\"nni_vel_mean\"] = 0\n",
    "    df[\"nni_vel_median\"] = 0\n",
    "    df[\"nni_vel_std\"] = 0\n",
    "    df[\"nni_vel_skew\"] = 0\n",
    "    df[\"nni_vel_kurtosis\"] = 0\n",
    "    \n",
    "    df[\"nni_acc_min\"] = 0\n",
    "    df[\"nni_acc_max\"] = 0\n",
    "    df[\"nni_acc_mean\"] = 0\n",
    "    df[\"nni_acc_median\"] = 0\n",
    "    df[\"nni_acc_std\"] = 0\n",
    "    df[\"nni_acc_skew\"] = 0\n",
    "    df[\"nni_acc_kurtosis\"] = 0\n",
    "    \n",
    "    for i in tqdm(range(len(X))):\n",
    "        signal = X.loc[i].dropna().to_numpy(dtype='float32')\n",
    "\n",
    "        try:\n",
    "            signals, info = nk.ecg_process(signal, sampling_rate=SAMPLING_RATE)\n",
    "        except:\n",
    "            signal = 1-signal\n",
    "            signals, info = nk.ecg_process(signal, sampling_rate=SAMPLING_RATE)\n",
    "        r_peaks = info[\"ECG_R_Peaks\"]\n",
    "        rri = r_peaks[1:]-r_peaks[:-1]\n",
    "        nni = np.array(get_nn_intervals(rri, low_rri=30, verbose=False))\n",
    "        nni_vel = nni[1:] - nni[:-1]\n",
    "        nni_acc = nni_vel[1:] - nni_vel[:-1]\n",
    "        \n",
    "        nni = pd.Series(nni)\n",
    "        nni_vel = pd.Series(nni_vel)\n",
    "        nni_acc = pd.Series(nni_acc)\n",
    "        \n",
    "        df[\"nni_vel_min\"].iloc[i] = nni_vel.min()\n",
    "        df[\"nni_vel_max\"].iloc[i] = nni_vel.max()\n",
    "        df[\"nni_vel_mean\"].iloc[i] = nni_vel.mean()\n",
    "        df[\"nni_vel_median\"].iloc[i] = nni_vel.median()\n",
    "        df[\"nni_vel_std\"].iloc[i] = nni_vel.std()\n",
    "        df[\"nni_vel_skew\"].iloc[i] = nni_vel.skew()\n",
    "        df[\"nni_vel_kurtosis\"].iloc[i] = nni_vel.kurtosis()\n",
    "        \n",
    "        df[\"nni_acc_min\"].iloc[i] = nni_acc.min()\n",
    "        df[\"nni_acc_max\"].iloc[i] = nni_acc.max()\n",
    "        df[\"nni_acc_mean\"].iloc[i] = nni_acc.mean()\n",
    "        df[\"nni_acc_median\"].iloc[i] = nni_acc.median()\n",
    "        df[\"nni_acc_std\"].iloc[i] = nni_acc.std()\n",
    "        df[\"nni_acc_skew\"].iloc[i] = nni_acc.skew()\n",
    "        df[\"nni_acc_kurtosis\"].iloc[i] = nni_acc.kurtosis()\n",
    "        \n",
    "    return df\n",
    "\n",
    "def calculate_interval_derivatives(X):\n",
    "    df1 = calculate_rri_derivatives(X)\n",
    "    df2 = calculate_nni_derivatives(X)\n",
    "    return pd.concat([df1,df2], axis=1)"
   ]
  },
  {
   "cell_type": "code",
   "execution_count": 4,
   "id": "cc61f221-d3b7-4b50-8f58-084b068bccbb",
   "metadata": {
    "tags": []
   },
   "outputs": [
    {
     "name": "stderr",
     "output_type": "stream",
     "text": [
      "100%|██████████| 5117/5117 [28:05<00:00,  3.04it/s]\n",
      "100%|██████████| 5117/5117 [27:38<00:00,  3.09it/s]\n"
     ]
    }
   ],
   "source": [
    "df_train = calculate_interval_derivatives(X_train)"
   ]
  },
  {
   "cell_type": "code",
   "execution_count": 5,
   "id": "1eb360af-bf9c-4e14-885a-fc3ce2c88dd1",
   "metadata": {},
   "outputs": [
    {
     "name": "stderr",
     "output_type": "stream",
     "text": [
      "100%|██████████| 3411/3411 [18:22<00:00,  3.10it/s]\n",
      "100%|██████████| 3411/3411 [18:18<00:00,  3.11it/s]\n"
     ]
    }
   ],
   "source": [
    "df_test = calculate_interval_derivatives(X_test)"
   ]
  },
  {
   "cell_type": "code",
   "execution_count": 6,
   "id": "8cdbd891-3fb1-49a8-9653-a2bc5297336d",
   "metadata": {},
   "outputs": [],
   "source": [
    "df_train.to_csv(\"../data/interval_derivatives/flipped/X_train.csv\", index_label=\"id\")"
   ]
  },
  {
   "cell_type": "code",
   "execution_count": 7,
   "id": "cfd04eec-698a-49b9-a95c-f7b26cf9ce9d",
   "metadata": {},
   "outputs": [],
   "source": [
    "df_test.to_csv(\"../data/interval_derivatives/flipped/X_test.csv\", index_label=\"id\")"
   ]
  },
  {
   "cell_type": "code",
   "execution_count": null,
   "id": "79fd174e-d6cd-495d-8152-1e6111675b45",
   "metadata": {},
   "outputs": [],
   "source": []
  }
 ],
 "metadata": {
  "kernelspec": {
   "display_name": "Python 3",
   "language": "python",
   "name": "python3"
  },
  "language_info": {
   "codemirror_mode": {
    "name": "ipython",
    "version": 3
   },
   "file_extension": ".py",
   "mimetype": "text/x-python",
   "name": "python",
   "nbconvert_exporter": "python",
   "pygments_lexer": "ipython3",
   "version": "3.8.5"
  }
 },
 "nbformat": 4,
 "nbformat_minor": 5
}
