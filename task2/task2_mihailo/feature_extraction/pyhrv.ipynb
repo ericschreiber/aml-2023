{
 "cells": [
  {
   "cell_type": "code",
   "execution_count": 1,
   "id": "49fa48e9",
   "metadata": {},
   "outputs": [],
   "source": [
    "import sys\n",
    "import matplotlib.pyplot as plt\n",
    "import numpy as np\n",
    "import pandas as pd\n",
    "from hrvanalysis import get_time_domain_features, get_frequency_domain_features\n",
    "from hrvanalysis.preprocessing import get_nn_intervals\n",
    "import biosppy.signals.ecg as ecg\n",
    "from tqdm import tqdm\n",
    "import neurokit2 as nk\n",
    "from sklearn.utils import class_weight\n",
    "import json\n",
    "import pyhrv.tools as tools\n",
    "from pyhrv.hrv import hrv\n",
    "\n",
    "sys.path.append('..')\n",
    "from util import load_base_data\n",
    "\n",
    "from pdb import set_trace\n",
    "\n",
    "import warnings\n",
    "warnings.simplefilter(\"ignore\")\n",
    "\n",
    "plt.rcParams['figure.figsize'] = [20, 5]"
   ]
  },
  {
   "cell_type": "code",
   "execution_count": 2,
   "id": "785afd15",
   "metadata": {},
   "outputs": [],
   "source": [
    "SAMPLING_RATE = 300\n",
    "X_train, y_train, X_test = load_base_data(just_train=False, standard=True, flip=True)\n"
   ]
  },
  {
   "cell_type": "code",
   "execution_count": null,
   "id": "8293c390",
   "metadata": {},
   "outputs": [],
   "source": [
    "DATA_PATH = \"../data/base\"\n",
    "SAMPLING_RATE = 300\n",
    "X_test = pd.read_csv(f'{DATA_PATH}/X_test.csv')\n",
    "X_train = pd.read_csv(f'{DATA_PATH}/X_train.csv')\n",
    "y_train = pd.read_csv(f'{DATA_PATH}/y_train.csv', index_col='id')"
   ]
  },
  {
   "cell_type": "code",
   "execution_count": null,
   "id": "3ec4ed94",
   "metadata": {},
   "outputs": [],
   "source": [
    "def read_data(dataname):\n",
    "    X_test = pd.read_csv(f'../data/{dataname}/X_test.csv')\n",
    "    X_train = pd.read_csv(f'../data/{dataname}/X_train.csv')\n",
    "    return X_train, X_test\n",
    "def concat_data(x1, x2):\n",
    "    concated_x = pd.concat([x1, x2.drop(columns=['id'])], axis=1)\n",
    "    return concated_x"
   ]
  },
  {
   "cell_type": "code",
   "execution_count": 3,
   "id": "f532ac79",
   "metadata": {},
   "outputs": [],
   "source": [
    "def generate_interval_features(data, file_path, start=0, generate_fn=True):\n",
    "    feature_names = ['nni_counter', 'nni_mean', 'nni_min', 'nni_max', 'hr_mean', 'hr_min', 'hr_max', 'hr_std', \n",
    "           'nni_diff_mean', 'nni_diff_min', 'nni_diff_max', 'sdnn', 'rmssd', \n",
    "           'sdsd', 'nn50', 'pnn50', 'nn20', 'pnn20', 'sd1', 'sd2', 'sd_ratio'] #, 'ellipse_area', 'sampen']\n",
    "#     feature_vecs = []\n",
    "    error_counts = 0\n",
    "    \n",
    "    if generate_fn:\n",
    "        with open(file_path, \"w\") as f:\n",
    "            f.write(\"id,\"+\",\".join(feature_names) + \"\\n\")\n",
    "        \n",
    "    for i in tqdm(range(start, len(data))):\n",
    "        signal = data.loc[i].dropna().to_numpy(dtype='float32')\n",
    "        feature_vector = None\n",
    "\n",
    "        try:\n",
    "            signals, rpeaks = ecg.ecg(signal, show=False)[1:3]\n",
    "#             signals, info = nk.ecg_process(signal, sampling_rate=SAMPLING_RATE)\n",
    "#             r_peaks = info[\"ECG_R_Peaks\"]\n",
    "            nni = tools.nn_intervals(rpeaks)\n",
    "            extracted = hrv(nni, rpeaks, signals, SAMPLING_RATE)\n",
    "            feature_vector = np.array([extracted[k] for k in feature_names])\n",
    "        except:\n",
    "            pass\n",
    "        \n",
    "        if feature_vector is None:\n",
    "            error_counts += 1\n",
    "            feature_vector = [np.nan]*len(feature_names)\n",
    "#         feature_vecs.append(feature_vector)\n",
    "\n",
    "        with open(file_path, \"a\") as f:\n",
    "            f.write(f\"{str(i)},\"+\",\".join([str(x) for x in feature_vector])+\"\\n\")\n",
    "\n",
    "#     return feature_names, np.array(feature_vecs), error_counts\n",
    "    return feature_names, error_counts\n"
   ]
  },
  {
   "cell_type": "code",
   "execution_count": null,
   "id": "bc11a0da",
   "metadata": {},
   "outputs": [
    {
     "name": "stderr",
     "output_type": "stream",
     "text": [
      " 74%|████████████████████████████████████████████████████                  | 2113/2843 [1:12:42<11:09,  1.09it/s]"
     ]
    }
   ],
   "source": [
    "# %%capture\n",
    "feature_names, error_counts = generate_interval_features(X_train, \"X_train.csv\", start=2274, generate_fn=False)"
   ]
  },
  {
   "cell_type": "code",
   "execution_count": null,
   "id": "277fef4a",
   "metadata": {},
   "outputs": [],
   "source": [
    "# %%capture\n",
    "feature_names, error_counts = generate_interval_features(X_test, \"X_test.csv\")"
   ]
  }
 ],
 "metadata": {
  "kernelspec": {
   "display_name": "Python 3 (ipykernel)",
   "language": "python",
   "name": "python3"
  },
  "language_info": {
   "codemirror_mode": {
    "name": "ipython",
    "version": 3
   },
   "file_extension": ".py",
   "mimetype": "text/x-python",
   "name": "python",
   "nbconvert_exporter": "python",
   "pygments_lexer": "ipython3",
   "version": "3.9.13"
  }
 },
 "nbformat": 4,
 "nbformat_minor": 5
}
