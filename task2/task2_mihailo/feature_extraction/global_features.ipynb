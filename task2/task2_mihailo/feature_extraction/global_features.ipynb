{
 "cells": [
  {
   "cell_type": "code",
   "execution_count": 1,
   "metadata": {},
   "outputs": [
    {
     "name": "stderr",
     "output_type": "stream",
     "text": [
      "<frozen importlib._bootstrap>:219: RuntimeWarning: scipy._lib.messagestream.MessageStream size changed, may indicate binary incompatibility. Expected 56 from C header, got 64 from PyObject\n"
     ]
    }
   ],
   "source": [
    "import matplotlib.pyplot as plt\n",
    "import numpy as np\n",
    "import pandas as pd\n",
    "from biosppy.signals.tools import filter_signal\n",
    "from pyentrp import entropy as ent\n",
    "from tqdm import tqdm\n",
    "from scipy import stats\n",
    "from tsfresh.feature_extraction.feature_calculators import fourier_entropy\n",
    "\n",
    "import sys\n",
    "sys.path.append('..')\n",
    "from util import load_base_data\n",
    "\n",
    "import warnings\n",
    "warnings.simplefilter(\"ignore\")\n",
    "\n",
    "plt.rcParams['figure.figsize'] = [20, 5]"
   ]
  },
  {
   "cell_type": "code",
   "execution_count": 2,
   "metadata": {},
   "outputs": [],
   "source": [
    "DATA_PATH = \"../data/base\"\n",
    "SAMPLING_RATE = 300\n",
    "X_train, y_train, X_test = load_base_data(standard=True)"
   ]
  },
  {
   "cell_type": "code",
   "execution_count": 3,
   "metadata": {},
   "outputs": [],
   "source": [
    "def calculate_raw_global_features(data, slices):\n",
    "    global_features = pd.DataFrame()\n",
    "    global_features[\"raw_global_min\"] = data.min(axis=1)\n",
    "    global_features[\"raw_global_max\"] = data.max(axis=1)\n",
    "    global_features[\"raw_global_mean\"] = data.mean(axis=1)\n",
    "    global_features[\"raw_global_median\"] = data.median(axis=1)\n",
    "    global_features[\"raw_global_std\"] = data.std(axis=1)\n",
    "    \n",
    "    global_features[\"raw_global_skew\"] = 0\n",
    "    for l, r in tqdm(zip(slices[:-1], slices[1:])):\n",
    "        global_features[\"raw_global_skew\"].iloc[l:r] = data.iloc[l:r].skew(axis=1)\n",
    "    \n",
    "    global_features[\"raw_global_kurtosis\"] = 0\n",
    "    for l, r in tqdm(zip(slices[:-1], slices[1:])):\n",
    "        global_features[\"raw_global_kurtosis\"].iloc[l:r] = data.iloc[l:r].skew(axis=1)\n",
    "    \n",
    "    return global_features\n",
    "\n",
    "def calculate_filtered_global_features(data, slices):\n",
    "    data_f = pd.DataFrame(index = data.index)\n",
    "    for l, r in zip(slices[:-1], slices[1:]):\n",
    "        data.iloc[l:r] = filter_signal(signal=data.values[l:r], ftype='FIR', band='bandpass',\n",
    "                order=40, frequency=[3,45],\n",
    "                sampling_rate=SAMPLING_RATE)[0]\n",
    "    \n",
    "    global_features = pd.DataFrame()\n",
    "    global_features[\"filtered_global_min\"] = data.min(axis=1)\n",
    "    global_features[\"filtered_global_max\"] = data.max(axis=1)\n",
    "    global_features[\"filtered_global_mean\"] = data.mean(axis=1)\n",
    "    global_features[\"filtered_global_median\"] = data.median(axis=1)\n",
    "    global_features[\"filtered_global_std\"] = data.std(axis=1)\n",
    "    \n",
    "    global_features[\"filtered_global_skew\"] = 0\n",
    "    for l, r in tqdm(zip(slices[:-1], slices[1:])):\n",
    "        global_features[\"filtered_global_skew\"].iloc[l:r] = data.iloc[l:r].skew(axis=1)\n",
    "    \n",
    "    global_features[\"filtered_global_kurtosis\"] = 0\n",
    "    for l, r in tqdm(zip(slices[:-1], slices[1:])):\n",
    "        global_features[\"filtered_global_kurtosis\"].iloc[l:r] = data.iloc[l:r].skew(axis=1)\n",
    "    \n",
    "    return global_features\n",
    "\n",
    "def calculate_global_features(data, slices):\n",
    "    raw_df = calculate_raw_global_features(data, slices)\n",
    "    filtered_df = calculate_filtered_global_features(data, slices)\n",
    "    return pd.concat([raw_df, filtered_df], axis=1)"
   ]
  },
  {
   "cell_type": "code",
   "execution_count": 4,
   "metadata": {},
   "outputs": [
    {
     "data": {
      "text/plain": [
       "(5117, 17807)"
      ]
     },
     "execution_count": 4,
     "metadata": {},
     "output_type": "execute_result"
    }
   ],
   "source": [
    "X_train.shape"
   ]
  },
  {
   "cell_type": "code",
   "execution_count": 5,
   "metadata": {
    "tags": []
   },
   "outputs": [
    {
     "name": "stderr",
     "output_type": "stream",
     "text": [
      "5it [00:02,  2.08it/s]\n",
      "5it [00:02,  2.08it/s]\n",
      "5it [00:02,  2.10it/s]\n",
      "5it [00:02,  2.06it/s]\n"
     ]
    }
   ],
   "source": [
    "X_train_global_features = calculate_global_features(X_train, [0, 1000, 2000, 3000, 4000, 5117])\n",
    "X_train_global_features.to_csv(\"../data/global/standardized/X_train.csv\", index_label=\"id\")"
   ]
  },
  {
   "cell_type": "code",
   "execution_count": 6,
   "metadata": {},
   "outputs": [
    {
     "data": {
      "text/plain": [
       "(3411, 17807)"
      ]
     },
     "execution_count": 6,
     "metadata": {},
     "output_type": "execute_result"
    }
   ],
   "source": [
    "X_test.shape"
   ]
  },
  {
   "cell_type": "code",
   "execution_count": 7,
   "metadata": {},
   "outputs": [
    {
     "name": "stderr",
     "output_type": "stream",
     "text": [
      "3it [00:01,  2.49it/s]\n",
      "3it [00:01,  2.46it/s]\n",
      "3it [00:01,  2.47it/s]\n",
      "3it [00:01,  2.43it/s]\n"
     ]
    }
   ],
   "source": [
    "X_test_global_features = calculate_global_features(X_test, [0, 1000, 2000, 3411])\n",
    "X_test_global_features.to_csv(\"../data/global/standardized/X_test.csv\", index_label=\"id\")"
   ]
  },
  {
   "cell_type": "code",
   "execution_count": null,
   "metadata": {},
   "outputs": [],
   "source": []
  }
 ],
 "metadata": {
  "kernelspec": {
   "display_name": "Python 3",
   "language": "python",
   "name": "python3"
  },
  "language_info": {
   "codemirror_mode": {
    "name": "ipython",
    "version": 3
   },
   "file_extension": ".py",
   "mimetype": "text/x-python",
   "name": "python",
   "nbconvert_exporter": "python",
   "pygments_lexer": "ipython3",
   "version": "3.8.5"
  },
  "vscode": {
   "interpreter": {
    "hash": "916dbcbb3f70747c44a77c7bcd40155683ae19c65e1c03b4aa3499c5328201f1"
   }
  }
 },
 "nbformat": 4,
 "nbformat_minor": 4
}
