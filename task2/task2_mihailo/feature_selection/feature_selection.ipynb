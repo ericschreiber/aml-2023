{
 "cells": [
  {
   "cell_type": "code",
   "execution_count": 1,
   "metadata": {},
   "outputs": [],
   "source": [
    "import sys\n",
    "import matplotlib.pyplot as plt\n",
    "import numpy as np\n",
    "import pandas as pd\n",
    "\n",
    "import tsfresh.feature_selection\n",
    "from mrmr import mrmr_classif\n",
    "from sklearn.impute import SimpleImputer\n",
    "\n",
    "sys.path.append('..')\n",
    "from util import load_datasets_concat, replace_infinities, load_base_data, write_json\n",
    "\n",
    "plt.rcParams['figure.figsize'] = [6, 5]\n",
    "SAMPLING_RATE = 300"
   ]
  },
  {
   "cell_type": "code",
   "execution_count": 26,
   "metadata": {},
   "outputs": [],
   "source": [
    "data = [\n",
    "    \"entropy/flipped\",\n",
    "    \"global/flipped\", \"global/standardized\",\n",
    "    \"interval_derivatives/flipped\",\n",
    "    \"tsfresh/stand_flip\", \n",
    "    \"hrv/nn\", \"hrv/rr\", \n",
    "    \"morph_new\", 'pyhrv'\n",
    "]\n",
    "X_train, y_train, X_test = load_datasets_concat(data, data_path=\"../data\")"
   ]
  },
  {
   "cell_type": "code",
   "execution_count": 27,
   "metadata": {},
   "outputs": [
    {
     "name": "stdout",
     "output_type": "stream",
     "text": [
      "hrv/nn/tinn\n",
      "hrv/rr/tinn\n"
     ]
    }
   ],
   "source": [
    "for column_name in X_train.columns:\n",
    "    if X_train[column_name].isnull().all():\n",
    "        print(column_name)"
   ]
  },
  {
   "cell_type": "code",
   "execution_count": 28,
   "metadata": {},
   "outputs": [],
   "source": [
    "X_train = X_train.dropna(axis=1, how='all')\n",
    "replace_infinities(X_train, X_test)\n",
    "X_train = X_train.fillna(0)\n",
    "\n",
    "# imputer = SimpleImputer()\n",
    "# X_train = imputer.fit_transform(X_train)"
   ]
  },
  {
   "cell_type": "code",
   "execution_count": 29,
   "metadata": {},
   "outputs": [
    {
     "data": {
      "text/plain": [
       "Index(['entropy/flipped/binned_entropy', 'entropy/flipped/fourier_entropy',\n",
       "       'entropy/flipped/permutation_entropy', 'global/flipped/raw_global_min',\n",
       "       'global/flipped/raw_global_max', 'global/flipped/raw_global_mean',\n",
       "       'global/flipped/raw_global_median', 'global/flipped/raw_global_std',\n",
       "       'global/flipped/raw_global_skew', 'global/flipped/raw_global_kurtosis',\n",
       "       ...\n",
       "       'pyhrv/sdnn', 'pyhrv/rmssd', 'pyhrv/sdsd', 'pyhrv/nn50', 'pyhrv/pnn50',\n",
       "       'pyhrv/nn20', 'pyhrv/pnn20', 'pyhrv/sd1', 'pyhrv/sd2',\n",
       "       'pyhrv/sd_ratio'],\n",
       "      dtype='object', length=362)"
      ]
     },
     "execution_count": 29,
     "metadata": {},
     "output_type": "execute_result"
    }
   ],
   "source": [
    "X_train.columns"
   ]
  },
  {
   "cell_type": "code",
   "execution_count": 30,
   "metadata": {},
   "outputs": [],
   "source": [
    "feature_rel = tsfresh.feature_selection.relevance.calculate_relevance_table(X_train, y_train['y'], n_jobs=4)"
   ]
  },
  {
   "cell_type": "code",
   "execution_count": 7,
   "metadata": {},
   "outputs": [
    {
     "data": {
      "text/html": [
       "<div>\n",
       "<style scoped>\n",
       "    .dataframe tbody tr th:only-of-type {\n",
       "        vertical-align: middle;\n",
       "    }\n",
       "\n",
       "    .dataframe tbody tr th {\n",
       "        vertical-align: top;\n",
       "    }\n",
       "\n",
       "    .dataframe thead th {\n",
       "        text-align: right;\n",
       "    }\n",
       "</style>\n",
       "<table border=\"1\" class=\"dataframe\">\n",
       "  <thead>\n",
       "    <tr style=\"text-align: right;\">\n",
       "      <th></th>\n",
       "      <th>feature</th>\n",
       "      <th>type</th>\n",
       "      <th>p_value</th>\n",
       "      <th>relevant</th>\n",
       "    </tr>\n",
       "    <tr>\n",
       "      <th>feature</th>\n",
       "      <th></th>\n",
       "      <th></th>\n",
       "      <th></th>\n",
       "      <th></th>\n",
       "    </tr>\n",
       "  </thead>\n",
       "  <tbody>\n",
       "    <tr>\n",
       "      <th>hrv/rr/nni_50</th>\n",
       "      <td>hrv/rr/nni_50</td>\n",
       "      <td>real</td>\n",
       "      <td>0.000000e+00</td>\n",
       "      <td>True</td>\n",
       "    </tr>\n",
       "    <tr>\n",
       "      <th>hrv/rr/pnni_50</th>\n",
       "      <td>hrv/rr/pnni_50</td>\n",
       "      <td>real</td>\n",
       "      <td>0.000000e+00</td>\n",
       "      <td>True</td>\n",
       "    </tr>\n",
       "    <tr>\n",
       "      <th>hrv/rr/nni_20</th>\n",
       "      <td>hrv/rr/nni_20</td>\n",
       "      <td>real</td>\n",
       "      <td>4.077330e-269</td>\n",
       "      <td>True</td>\n",
       "    </tr>\n",
       "    <tr>\n",
       "      <th>hrv/rr/pnni_20</th>\n",
       "      <td>hrv/rr/pnni_20</td>\n",
       "      <td>real</td>\n",
       "      <td>1.369784e-262</td>\n",
       "      <td>True</td>\n",
       "    </tr>\n",
       "    <tr>\n",
       "      <th>hrv/rr/cvsd</th>\n",
       "      <td>hrv/rr/cvsd</td>\n",
       "      <td>real</td>\n",
       "      <td>1.714915e-254</td>\n",
       "      <td>True</td>\n",
       "    </tr>\n",
       "    <tr>\n",
       "      <th>...</th>\n",
       "      <td>...</td>\n",
       "      <td>...</td>\n",
       "      <td>...</td>\n",
       "      <td>...</td>\n",
       "    </tr>\n",
       "    <tr>\n",
       "      <th>morph_new/Slope_QTO_mean</th>\n",
       "      <td>morph_new/Slope_QTO_mean</td>\n",
       "      <td>real</td>\n",
       "      <td>5.379944e-01</td>\n",
       "      <td>False</td>\n",
       "    </tr>\n",
       "    <tr>\n",
       "      <th>tsfresh/stand_flip/mean_second_derivative_central</th>\n",
       "      <td>tsfresh/stand_flip/mean_second_derivative_central</td>\n",
       "      <td>real</td>\n",
       "      <td>5.907617e-01</td>\n",
       "      <td>False</td>\n",
       "    </tr>\n",
       "    <tr>\n",
       "      <th>tsfresh/stand_flip/variance_larger_than_standard_deviation</th>\n",
       "      <td>tsfresh/stand_flip/variance_larger_than_standa...</td>\n",
       "      <td>constant</td>\n",
       "      <td>NaN</td>\n",
       "      <td>False</td>\n",
       "    </tr>\n",
       "    <tr>\n",
       "      <th>hrv/nn/vlf</th>\n",
       "      <td>hrv/nn/vlf</td>\n",
       "      <td>constant</td>\n",
       "      <td>NaN</td>\n",
       "      <td>False</td>\n",
       "    </tr>\n",
       "    <tr>\n",
       "      <th>hrv/rr/vlf</th>\n",
       "      <td>hrv/rr/vlf</td>\n",
       "      <td>constant</td>\n",
       "      <td>NaN</td>\n",
       "      <td>False</td>\n",
       "    </tr>\n",
       "  </tbody>\n",
       "</table>\n",
       "<p>341 rows × 4 columns</p>\n",
       "</div>"
      ],
      "text/plain": [
       "                                                                                              feature  \\\n",
       "feature                                                                                                 \n",
       "hrv/rr/nni_50                                                                           hrv/rr/nni_50   \n",
       "hrv/rr/pnni_50                                                                         hrv/rr/pnni_50   \n",
       "hrv/rr/nni_20                                                                           hrv/rr/nni_20   \n",
       "hrv/rr/pnni_20                                                                         hrv/rr/pnni_20   \n",
       "hrv/rr/cvsd                                                                               hrv/rr/cvsd   \n",
       "...                                                                                               ...   \n",
       "morph_new/Slope_QTO_mean                                                     morph_new/Slope_QTO_mean   \n",
       "tsfresh/stand_flip/mean_second_derivative_central   tsfresh/stand_flip/mean_second_derivative_central   \n",
       "tsfresh/stand_flip/variance_larger_than_standar...  tsfresh/stand_flip/variance_larger_than_standa...   \n",
       "hrv/nn/vlf                                                                                 hrv/nn/vlf   \n",
       "hrv/rr/vlf                                                                                 hrv/rr/vlf   \n",
       "\n",
       "                                                        type        p_value  \\\n",
       "feature                                                                       \n",
       "hrv/rr/nni_50                                           real   0.000000e+00   \n",
       "hrv/rr/pnni_50                                          real   0.000000e+00   \n",
       "hrv/rr/nni_20                                           real  4.077330e-269   \n",
       "hrv/rr/pnni_20                                          real  1.369784e-262   \n",
       "hrv/rr/cvsd                                             real  1.714915e-254   \n",
       "...                                                      ...            ...   \n",
       "morph_new/Slope_QTO_mean                                real   5.379944e-01   \n",
       "tsfresh/stand_flip/mean_second_derivative_central       real   5.907617e-01   \n",
       "tsfresh/stand_flip/variance_larger_than_standar...  constant            NaN   \n",
       "hrv/nn/vlf                                          constant            NaN   \n",
       "hrv/rr/vlf                                          constant            NaN   \n",
       "\n",
       "                                                    relevant  \n",
       "feature                                                       \n",
       "hrv/rr/nni_50                                           True  \n",
       "hrv/rr/pnni_50                                          True  \n",
       "hrv/rr/nni_20                                           True  \n",
       "hrv/rr/pnni_20                                          True  \n",
       "hrv/rr/cvsd                                             True  \n",
       "...                                                      ...  \n",
       "morph_new/Slope_QTO_mean                               False  \n",
       "tsfresh/stand_flip/mean_second_derivative_central      False  \n",
       "tsfresh/stand_flip/variance_larger_than_standar...     False  \n",
       "hrv/nn/vlf                                             False  \n",
       "hrv/rr/vlf                                             False  \n",
       "\n",
       "[341 rows x 4 columns]"
      ]
     },
     "execution_count": 7,
     "metadata": {},
     "output_type": "execute_result"
    }
   ],
   "source": [
    "feature_rel.sort_values('p_value')"
   ]
  },
  {
   "cell_type": "code",
   "execution_count": 31,
   "metadata": {},
   "outputs": [
    {
     "name": "stderr",
     "output_type": "stream",
     "text": [
      "100%|██████████| 50/50 [00:04<00:00, 12.15it/s]\n"
     ]
    }
   ],
   "source": [
    "k50 = mrmr_classif(X=X_train, y=y_train['y'], K=50)\n",
    "write_json(k50, 'k50.json')"
   ]
  },
  {
   "cell_type": "code",
   "execution_count": 32,
   "metadata": {},
   "outputs": [
    {
     "name": "stderr",
     "output_type": "stream",
     "text": [
      "100%|██████████| 100/100 [00:07<00:00, 13.82it/s]\n"
     ]
    }
   ],
   "source": [
    "k100 = mrmr_classif(X=X_train, y=y_train['y'], K=100)\n",
    "write_json(k100, 'k100.json')"
   ]
  },
  {
   "cell_type": "code",
   "execution_count": 33,
   "metadata": {},
   "outputs": [
    {
     "name": "stderr",
     "output_type": "stream",
     "text": [
      "100%|██████████| 150/150 [00:10<00:00, 14.26it/s]\n"
     ]
    }
   ],
   "source": [
    "k150 = mrmr_classif(X=X_train, y=y_train['y'], K=150)\n",
    "write_json(k150, 'k150.json')"
   ]
  },
  {
   "cell_type": "code",
   "execution_count": 34,
   "metadata": {},
   "outputs": [
    {
     "name": "stderr",
     "output_type": "stream",
     "text": [
      "100%|██████████| 200/200 [00:13<00:00, 15.34it/s]\n"
     ]
    }
   ],
   "source": [
    "k200 = mrmr_classif(X=X_train, y=y_train['y'], K=200)\n",
    "write_json(k200, 'k200.json')"
   ]
  },
  {
   "cell_type": "code",
   "execution_count": 35,
   "metadata": {},
   "outputs": [
    {
     "name": "stderr",
     "output_type": "stream",
     "text": [
      "100%|██████████| 250/250 [00:15<00:00, 16.31it/s]\n"
     ]
    }
   ],
   "source": [
    "k250 = mrmr_classif(X=X_train, y=y_train['y'], K=250)\n",
    "write_json(k250, 'k250.json')"
   ]
  }
 ],
 "metadata": {
  "kernelspec": {
   "display_name": "Python 3.9.7 ('Sandbox')",
   "language": "python",
   "name": "python3"
  },
  "language_info": {
   "codemirror_mode": {
    "name": "ipython",
    "version": 3
   },
   "file_extension": ".py",
   "mimetype": "text/x-python",
   "name": "python",
   "nbconvert_exporter": "python",
   "pygments_lexer": "ipython3",
   "version": "3.9.7"
  },
  "orig_nbformat": 4,
  "vscode": {
   "interpreter": {
    "hash": "882734abee72f31f460807f1b2e2b68e43b578f32258ab3103d0828efd956510"
   }
  }
 },
 "nbformat": 4,
 "nbformat_minor": 2
}
