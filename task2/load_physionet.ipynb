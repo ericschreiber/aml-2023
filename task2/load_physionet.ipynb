{
 "cells": [
  {
   "cell_type": "code",
   "execution_count": 79,
   "metadata": {},
   "outputs": [],
   "source": [
    "import scipy.io\n",
    "import os\n",
    "\n",
    "mat = scipy.io.loadmat(\"/Users/ericschreiber/Downloads/training2017/A04953.mat\")"
   ]
  },
  {
   "cell_type": "code",
   "execution_count": 80,
   "metadata": {},
   "outputs": [
    {
     "name": "stdout",
     "output_type": "stream",
     "text": [
      "96,114,137,167,185,195,202,207,210,212,213,215,218,220,223,224,220,212,203,194,184,172,158,142,127,112,98,88,80,72,"
     ]
    }
   ],
   "source": [
    "for i in range(30):\n",
    "    # print on the same line with ,\n",
    "    print(mat[\"val\"][0][i], end=\",\")"
   ]
  },
  {
   "cell_type": "code",
   "execution_count": 27,
   "metadata": {},
   "outputs": [],
   "source": [
    "import sys\n",
    "import tqdm\n",
    "\n",
    "sys.path.append(\".\")\n",
    "from util import load_base_data\n",
    "\n",
    "\n",
    "X_train, y_train, X_test = load_base_data()"
   ]
  },
  {
   "cell_type": "code",
   "execution_count": 57,
   "metadata": {},
   "outputs": [
    {
     "name": "stdout",
     "output_type": "stream",
     "text": [
      "867568.0\n",
      "1438253\n"
     ]
    }
   ],
   "source": [
    "import hashlib\n",
    "import numpy as np\n",
    "\n",
    "\n",
    "def make_fingerprint(ecg):\n",
    "    # ecg is a numpy array\n",
    "    # calculate the fingerprint using a hash function\n",
    "    # return the fingerprint\n",
    "    # return hashlib.sha256(ecg.tobytes()).hexdigest()\n",
    "    # return the sum of the ecg, nan values shoul be ignored\n",
    "    sum = 0\n",
    "    for i in range(len(ecg)):\n",
    "        multiplikator = i % 13\n",
    "        if not np.isnan(ecg[i]):\n",
    "            sum += ecg[i] * multiplikator\n",
    "    return sum\n",
    "\n",
    "\n",
    "print(make_fingerprint(X_train.iloc[0].values))\n",
    "print(make_fingerprint(mat[\"val\"][0]))"
   ]
  },
  {
   "cell_type": "code",
   "execution_count": 58,
   "metadata": {},
   "outputs": [
    {
     "name": "stderr",
     "output_type": "stream",
     "text": [
      "100%|██████████| 5117/5117 [01:11<00:00, 71.16it/s]\n",
      "100%|██████████| 3411/3411 [00:47<00:00, 72.39it/s]\n"
     ]
    }
   ],
   "source": [
    "def fingerprints_aml_data(X_train, X_test):\n",
    "    # X_train and X_test are pandas dataframes\n",
    "    # return sets of fingerprints and their corresponding indices\n",
    "    # in the original dataframes\n",
    "    train_fingerprints = {}\n",
    "    test_fingerprints = {}\n",
    "\n",
    "    for i in tqdm.tqdm(range(len(X_train))):\n",
    "        train_fingerprints[make_fingerprint(X_train.iloc[i].values)] = i\n",
    "\n",
    "    for i in tqdm.tqdm(range(len(X_test))):\n",
    "        test_fingerprints[make_fingerprint(X_test.iloc[i].values)] = i\n",
    "\n",
    "    return train_fingerprints, test_fingerprints\n",
    "\n",
    "\n",
    "train_fingerprints, test_fingerprints = fingerprints_aml_data(X_train, X_test)"
   ]
  },
  {
   "cell_type": "code",
   "execution_count": 59,
   "metadata": {},
   "outputs": [
    {
     "ename": "AssertionError",
     "evalue": "",
     "output_type": "error",
     "traceback": [
      "\u001b[0;31m---------------------------------------------------------------------------\u001b[0m",
      "\u001b[0;31mAssertionError\u001b[0m                            Traceback (most recent call last)",
      "\u001b[1;32m/Users/ericschreiber/dev/ETH/AML/Project_1/aml-2023/task2/load_physionet.ipynb Cell 6\u001b[0m line \u001b[0;36m2\n\u001b[1;32m      <a href='vscode-notebook-cell:/Users/ericschreiber/dev/ETH/AML/Project_1/aml-2023/task2/load_physionet.ipynb#W5sZmlsZQ%3D%3D?line=0'>1</a>\u001b[0m \u001b[39m# check if the dictionaries have the same size as the original dataframes\u001b[39;00m\n\u001b[0;32m----> <a href='vscode-notebook-cell:/Users/ericschreiber/dev/ETH/AML/Project_1/aml-2023/task2/load_physionet.ipynb#W5sZmlsZQ%3D%3D?line=1'>2</a>\u001b[0m \u001b[39massert\u001b[39;00m \u001b[39mlen\u001b[39m(train_fingerprints) \u001b[39m==\u001b[39m \u001b[39mlen\u001b[39m(X_train)\n\u001b[1;32m      <a href='vscode-notebook-cell:/Users/ericschreiber/dev/ETH/AML/Project_1/aml-2023/task2/load_physionet.ipynb#W5sZmlsZQ%3D%3D?line=2'>3</a>\u001b[0m \u001b[39massert\u001b[39;00m \u001b[39mlen\u001b[39m(test_fingerprints) \u001b[39m==\u001b[39m \u001b[39mlen\u001b[39m(X_test)\n",
      "\u001b[0;31mAssertionError\u001b[0m: "
     ]
    }
   ],
   "source": [
    "# check if the dictionaries have the same size as the original dataframes\n",
    "assert len(train_fingerprints) == len(X_train)\n",
    "assert len(test_fingerprints) == len(X_test)"
   ]
  },
  {
   "cell_type": "code",
   "execution_count": 81,
   "metadata": {},
   "outputs": [
    {
     "name": "stderr",
     "output_type": "stream",
     "text": [
      "100%|██████████| 602/602 [00:04<00:00, 138.40it/s]\n"
     ]
    }
   ],
   "source": [
    "def fingerprints_from_physionet(path):\n",
    "    # for all mat files in the given path\n",
    "    # 1. load the mat file\n",
    "    # 2. calculate the fingerprint\n",
    "    # 3. store the fingerprint and the corresponding filename in a list\n",
    "    # return the list of fingerprints and the list of filenames\n",
    "    fingerprints = []\n",
    "\n",
    "    for file in tqdm.tqdm(os.listdir(path)):\n",
    "        if file.endswith(\".mat\"):\n",
    "            mat = scipy.io.loadmat(os.path.join(path, file))\n",
    "            fingerprints.append((make_fingerprint(mat[\"val\"][0]), file))\n",
    "\n",
    "    return fingerprints\n",
    "\n",
    "\n",
    "physionet_fingerprints = fingerprints_from_physionet(\n",
    "    \"/Users/ericschreiber/Downloads/training2017\"\n",
    ")\n",
    "physionet_samples_fingerprints = fingerprints_from_physionet(\n",
    "    \"/Users/ericschreiber/Downloads/sample2017/validation\"\n",
    ")"
   ]
  },
  {
   "cell_type": "code",
   "execution_count": 69,
   "metadata": {},
   "outputs": [
    {
     "name": "stderr",
     "output_type": "stream",
     "text": [
      "100%|██████████| 8528/8528 [00:00<00:00, 2238361.98it/s]\n"
     ]
    }
   ],
   "source": [
    "# find all fingerprints that are in both datasets\n",
    "# and store them in a list\n",
    "common_fingerprints_train = []\n",
    "common_fingerprints_test = []\n",
    "\n",
    "for fingerprint in tqdm.tqdm(physionet_fingerprints):\n",
    "    if fingerprint[0] in train_fingerprints:\n",
    "        common_fingerprints_train.append(\n",
    "            (fingerprint[0], fingerprint[1], train_fingerprints[fingerprint[0]])\n",
    "        )\n",
    "    if fingerprint[0] in test_fingerprints:\n",
    "        common_fingerprints_test.append(\n",
    "            (fingerprint[0], fingerprint[1], test_fingerprints[fingerprint[0]])\n",
    "        )"
   ]
  },
  {
   "cell_type": "code",
   "execution_count": 70,
   "metadata": {},
   "outputs": [
    {
     "data": {
      "text/plain": [
       "[(-218070, 'A07719.mat', 608),\n",
       " (911114, 'A07635.mat', 4967),\n",
       " (644683, 'A05625.mat', 1678),\n",
       " (1111079, 'A04870.mat', 893),\n",
       " (1018827, 'A06323.mat', 22),\n",
       " (-408636, 'A01850.mat', 2148),\n",
       " (1800218, 'A05088.mat', 68),\n",
       " (23118, 'A05274.mat', 3953)]"
      ]
     },
     "execution_count": 70,
     "metadata": {},
     "output_type": "execute_result"
    }
   ],
   "source": [
    "common_fingerprints_train"
   ]
  },
  {
   "cell_type": "code",
   "execution_count": 71,
   "metadata": {},
   "outputs": [
    {
     "data": {
      "text/plain": [
       "[(427928, 'A03232.mat', 3021),\n",
       " (-152913, 'A04953.mat', 2961),\n",
       " (732431, 'A05479.mat', 145),\n",
       " (1377513, 'A04885.mat', 1440),\n",
       " (1443217, 'A04514.mat', 2736),\n",
       " (1102743, 'A03874.mat', 73),\n",
       " (724529, 'A06142.mat', 2385),\n",
       " (1054789, 'A06620.mat', 452),\n",
       " (543578, 'A02269.mat', 1228),\n",
       " (1918995, 'A02057.mat', 2742)]"
      ]
     },
     "execution_count": 71,
     "metadata": {},
     "output_type": "execute_result"
    }
   ],
   "source": [
    "common_fingerprints_test"
   ]
  },
  {
   "cell_type": "code",
   "execution_count": 83,
   "metadata": {},
   "outputs": [
    {
     "name": "stderr",
     "output_type": "stream",
     "text": [
      "100%|██████████| 300/300 [00:00<00:00, 954697.42it/s]"
     ]
    },
    {
     "name": "stdout",
     "output_type": "stream",
     "text": [
      "0\n",
      "0\n"
     ]
    },
    {
     "name": "stderr",
     "output_type": "stream",
     "text": [
      "\n"
     ]
    }
   ],
   "source": [
    "# find all fingerprints that are in both datasets\n",
    "# and store them in a list\n",
    "common_fingerprints_train_samples = []\n",
    "common_fingerprints_test_samples = []\n",
    "\n",
    "for fingerprint in tqdm.tqdm(physionet_samples_fingerprints):\n",
    "    if fingerprint[0] in train_fingerprints:\n",
    "        common_fingerprints_train_samples.append(\n",
    "            (fingerprint[0], fingerprint[1], train_fingerprints[fingerprint[0]])\n",
    "        )\n",
    "    if fingerprint[0] in test_fingerprints:\n",
    "        common_fingerprints_test_samples.append(\n",
    "            (fingerprint[0], fingerprint[1], test_fingerprints[fingerprint[0]])\n",
    "        )\n",
    "\n",
    "print(len(common_fingerprints_train_samples))\n",
    "print(len(common_fingerprints_test_samples))"
   ]
  },
  {
   "cell_type": "code",
   "execution_count": null,
   "metadata": {},
   "outputs": [],
   "source": []
  }
 ],
 "metadata": {
  "kernelspec": {
   "display_name": "ml",
   "language": "python",
   "name": "python3"
  },
  "language_info": {
   "codemirror_mode": {
    "name": "ipython",
    "version": 3
   },
   "file_extension": ".py",
   "mimetype": "text/x-python",
   "name": "python",
   "nbconvert_exporter": "python",
   "pygments_lexer": "ipython3",
   "version": "3.10.11"
  }
 },
 "nbformat": 4,
 "nbformat_minor": 2
}
