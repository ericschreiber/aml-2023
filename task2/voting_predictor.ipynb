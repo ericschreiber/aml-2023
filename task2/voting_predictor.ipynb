{
 "cells": [
  {
   "cell_type": "code",
   "execution_count": null,
   "id": "b1cd80d2",
   "metadata": {},
   "outputs": [],
   "source": [
    "import numpy as np\n",
    "import pandas as pd\n",
    "import json"
   ]
  },
  {
   "cell_type": "code",
   "execution_count": null,
   "id": "13b72215",
   "metadata": {},
   "outputs": [],
   "source": [
    "def get_indices(index):\n",
    "\n",
    "    def load_file(name, index):\n",
    "\n",
    "        path = 'split/'\n",
    "        with open(path + name + str(index) + \".json\") as f:\n",
    "            arr = json.load(f)\n",
    "\n",
    "        return arr\n",
    "\n",
    "    train_indices = np.array(load_file('train', index))\n",
    "    val_indices = np.array(load_file('val', index))\n",
    "    \n",
    "    return train_indices, val_indices"
   ]
  },
  {
   "cell_type": "code",
   "execution_count": null,
   "id": "7b0954e2",
   "metadata": {},
   "outputs": [],
   "source": [
    "y_tot = pd.read_csv('y_train.csv', index_col=0)['y'].to_numpy()"
   ]
  },
  {
   "cell_type": "code",
   "execution_count": null,
   "id": "35082239",
   "metadata": {},
   "outputs": [],
   "source": [
    "X_train_hc_unprocessed = pd.read_csv('train_features.csv', index_col=0).to_numpy()\n",
    "X_test_hc_unprocessed = pd.read_csv('test_features.csv', index_col=0).to_numpy()"
   ]
  },
  {
   "cell_type": "code",
   "execution_count": null,
   "id": "e7690fb2",
   "metadata": {},
   "outputs": [],
   "source": [
    "from sklearn.feature_selection import SelectKBest, VarianceThreshold\n",
    "from sklearn.preprocessing import StandardScaler\n",
    "from sklearn.pipeline import Pipeline\n",
    "from sklearn.impute import KNNImputer, SimpleImputer\n",
    "from sklearn.feature_selection import SelectKBest, chi2\n",
    "\n",
    "X_train_hc_no_nan = np.nan_to_num(X_train_hc_unprocessed, nan = 0)\n",
    "X_test_hc_no_nan = np.nan_to_num(X_test_hc_unprocessed, nan = 0)\n",
    "pipe = Pipeline([('variance', VarianceThreshold()),\n",
    "                 ('selector',  SelectKBest(k=240))\n",
    "                ])\n",
    "\n",
    "X_tot_hc = pipe.fit_transform(X_train_hc_no_nan, y_tot)\n",
    "X_test_hc = pipe.transform(X_test_hc_no_nan)\n",
    "print(X_tot_hc.shape,X_test_hc.shape)"
   ]
  },
  {
   "cell_type": "code",
   "execution_count": null,
   "id": "33b4dcc8",
   "metadata": {},
   "outputs": [],
   "source": [
    "def get_prediction_estimator(fold, estimator, predict_test=False, predict_score=False, predict_proba_test=False):\n",
    "    \n",
    "    print('Creating estimator for fold:', fold)\n",
    "    \n",
    "    train_indices, val_indices = get_indices(fold)\n",
    "    X_tot_ml1 = np.loadtxt('resnet_model/resnet_training_features' + str(fold) + '.txt', delimiter=',')\n",
    "    X_train_ml1 = X_tot_ml1[train_indices]\n",
    "    X_val_ml1 = X_tot_ml1[val_indices]\n",
    "    X_test_ml1 = np.loadtxt('resnet_model/resnet_test_features' + str(fold) + '.txt', delimiter=',')\n",
    "    print(X_train_ml1.shape, X_val_ml1.shape, X_test_ml1.shape)\n",
    "    \n",
    "    X_tot_ml2 = np.loadtxt('paper_good_fellow/fella_ml_training_features' + str(fold) + '.txt', delimiter=',')\n",
    "    X_train_ml2 = X_tot_ml2[train_indices]\n",
    "    X_val_ml2 = X_tot_ml2[val_indices]\n",
    "    X_test_ml2 = np.loadtxt('paper_good_fellow/fella_ml_test_features' + str(fold) + '.txt', delimiter=',')\n",
    "    print(X_train_ml2.shape, X_val_ml2.shape, X_test_ml2.shape)\n",
    "    \n",
    "    X_train_hc = X_tot_hc[train_indices]\n",
    "    X_val_hc = X_tot_hc[val_indices]\n",
    "    \n",
    "    X_train_combined = np.concatenate([X_train_ml1, X_train_ml2, X_train_hc], axis=1)\n",
    "    X_val_combined = np.concatenate([X_val_ml1, X_val_ml2, X_val_hc], axis=1)\n",
    "    X_test_combined = np.concatenate([X_test_ml1, X_test_ml2, X_test_hc], axis=1)\n",
    "    \n",
    "    y_train = y_tot[train_indices]\n",
    "    y_val = y_tot[val_indices]\n",
    "    \n",
    "    if predict_score:\n",
    "        estimator.fit(X_train_combined, y_train)\n",
    "        prediction = estimator.predict(X_val_combined)\n",
    "        print('got score:', f1_score(y_val, prediction, average='micro'))\n",
    "        \n",
    "        return estimator \n",
    "    \n",
    "    if predict_test:\n",
    "        X_all = np.concatenate([X_train_combined, X_val_combined], axis=0)\n",
    "        y_all = np.concatenate([y_train, y_val], axis=0)\n",
    "        \n",
    "        estimator.fit(X_all, y_all)\n",
    "        y_test = estimator.predict(X_test_combined)\n",
    "        \n",
    "        return y_test\n",
    "    \n",
    "    if predict_proba_test:\n",
    "        X_all = np.concatenate([X_train_combined, X_val_combined], axis=0)\n",
    "        y_all = np.concatenate([y_train, y_val], axis=0)\n",
    "        \n",
    "        estimator.fit(X_all, y_all)\n",
    "        y_test = estimator.predict_proba(X_test_combined)\n",
    "        \n",
    "        return y_test\n",
    "    "
   ]
  },
  {
   "cell_type": "code",
   "execution_count": null,
   "id": "8a922342",
   "metadata": {},
   "outputs": [],
   "source": [
    "from xgboost import XGBClassifier\n",
    "from lightgbm import LGBMClassifier\n",
    "from sklearn.ensemble import HistGradientBoostingClassifier, StackingClassifier, RandomForestClassifier, ExtraTreesClassifier\n",
    "from sklearn.metrics import make_scorer, f1_score\n",
    "from sklearn.base import clone\n",
    "\n",
    "import os\n",
    "os.environ['OMP_NUM_THREADS'] = \"25\"\n",
    "\n",
    "lgbm = LGBMClassifier(n_estimators=2000, learning_rate=0.11, num_leaves=16, random_state=0, num_threads=128)\n",
    "xgboost = XGBClassifier(n_estimators=2000, random_state=0, learning_rate=0.11, max_depth=16, alpha=0.2)\n",
    "gradient = HistGradientBoostingClassifier(random_state=0, learning_rate=0.15, max_iter=400, max_leaf_nodes=31)\n",
    "forest = RandomForestClassifier(n_estimators=2000, random_state=0, n_jobs=-1)\n",
    "\n",
    "selected = [('lgbm', lgbm), ('xgboost', xgboost), ('hist', gradient), ('forest', forest)]\n",
    "estimator = StackingClassifier(selected) "
   ]
  },
  {
   "cell_type": "code",
   "execution_count": null,
   "id": "94474869",
   "metadata": {},
   "outputs": [],
   "source": [
    "for i in range(5):\n",
    "    get_prediction_estimator(fold=i, estimator=clone(estimator), predict_score=True)"
   ]
  },
  {
   "cell_type": "code",
   "execution_count": null,
   "id": "27a13803",
   "metadata": {},
   "outputs": [],
   "source": [
    "predictions = []\n",
    "for i in range(5):\n",
    "    predictions.append(get_prediction_estimator(fold=i, estimator=clone(estimator), predict_test=True))\n",
    "df_pred = pd.DataFrame(predictions)\n",
    "y_final_pred = (df_pred.mode(axis=0, numeric_only=True).iloc[0].to_numpy(dtype=np.float32))"
   ]
  },
  {
   "cell_type": "code",
   "execution_count": null,
   "id": "6a369708",
   "metadata": {},
   "outputs": [],
   "source": [
    "df_submission = pd.read_csv('sample.csv')\n",
    "df_submission['y'] = y_final_pred\n",
    "df_submission.to_csv('current.csv', index=False)"
   ]
  },
  {
   "cell_type": "code",
   "execution_count": null,
   "id": "83b2b2de",
   "metadata": {},
   "outputs": [],
   "source": []
  }
 ],
 "metadata": {
  "kernelspec": {
   "display_name": "Python 3 (ipykernel)",
   "language": "python",
   "name": "python3"
  },
  "language_info": {
   "codemirror_mode": {
    "name": "ipython",
    "version": 3
   },
   "file_extension": ".py",
   "mimetype": "text/x-python",
   "name": "python",
   "nbconvert_exporter": "python",
   "pygments_lexer": "ipython3",
   "version": "3.8.10"
  }
 },
 "nbformat": 4,
 "nbformat_minor": 5
}